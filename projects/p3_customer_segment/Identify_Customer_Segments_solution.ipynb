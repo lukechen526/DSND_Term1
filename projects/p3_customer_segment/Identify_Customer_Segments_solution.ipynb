{
 "cells": [
  {
   "cell_type": "markdown",
   "metadata": {},
   "source": [
    "# Project: Identify Customer Segments\n",
    "\n",
    "In this project, you will apply unsupervised learning techniques to identify segments of the population that form the core customer base for a mail-order sales company in Germany. These segments can then be used to direct marketing campaigns towards audiences that will have the highest expected rate of returns. The data that you will use has been provided by our partners at Bertelsmann Arvato Analytics, and represents a real-life data science task.\n",
    "\n",
    "This notebook will help you complete this task by providing a framework within which you will perform your analysis steps. In each step of the project, you will see some text describing the subtask that you will perform, followed by one or more code cells for you to complete your work. **Feel free to add additional code and markdown cells as you go along so that you can explore everything in precise chunks.** The code cells provided in the base template will outline only the major tasks, and will usually not be enough to cover all of the minor tasks that comprise it.\n",
    "\n",
    "It should be noted that while there will be precise guidelines on how you should handle certain tasks in the project, there will also be places where an exact specification is not provided. **There will be times in the project where you will need to make and justify your own decisions on how to treat the data.** These are places where there may not be only one way to handle the data. In real-life tasks, there may be many valid ways to approach an analysis task. One of the most important things you can do is clearly document your approach so that other scientists can understand the decisions you've made.\n",
    "\n",
    "At the end of most sections, there will be a Markdown cell labeled **Discussion**. In these cells, you will report your findings for the completed section, as well as document the decisions that you made in your approach to each subtask. **Your project will be evaluated not just on the code used to complete the tasks outlined, but also your communication about your observations and conclusions at each stage.**"
   ]
  },
  {
   "cell_type": "code",
   "execution_count": 1,
   "metadata": {},
   "outputs": [],
   "source": [
    "# import libraries here; add more as necessary\n",
    "import numpy as np\n",
    "import pandas as pd\n",
    "import matplotlib.pyplot as plt\n",
    "import seaborn as sns\n",
    "\n",
    "# magic word for producing visualizations in notebook\n",
    "%matplotlib inline\n",
    "\n",
    "from IPython.core.interactiveshell import InteractiveShell\n",
    "InteractiveShell.ast_node_interactivity = \"all\"\n",
    "\n",
    "%config InlineBackend.figure_format = 'retina'"
   ]
  },
  {
   "cell_type": "markdown",
   "metadata": {},
   "source": [
    "### Step 0: Load the Data\n",
    "\n",
    "There are four files associated with this project (not including this one):\n",
    "\n",
    "- `Udacity_AZDIAS_Subset.csv`: Demographics data for the general population of Germany; 891211 persons (rows) x 85 features (columns).\n",
    "- `Udacity_CUSTOMERS_Subset.csv`: Demographics data for customers of a mail-order company; 191652 persons (rows) x 85 features (columns).\n",
    "- `Data_Dictionary.md`: Detailed information file about the features in the provided datasets.\n",
    "- `AZDIAS_Feature_Summary.csv`: Summary of feature attributes for demographics data; 85 features (rows) x 4 columns\n",
    "\n",
    "Each row of the demographics files represents a single person, but also includes information outside of individuals, including information about their household, building, and neighborhood. You will use this information to cluster the general population into groups with similar demographic properties. Then, you will see how the people in the customers dataset fit into those created clusters. The hope here is that certain clusters are over-represented in the customers data, as compared to the general population; those over-represented clusters will be assumed to be part of the core userbase. This information can then be used for further applications, such as targeting for a marketing campaign.\n",
    "\n",
    "To start off with, load in the demographics data for the general population into a pandas DataFrame, and do the same for the feature attributes summary. Note for all of the `.csv` data files in this project: they're semicolon (`;`) delimited, so you'll need an additional argument in your [`read_csv()`](https://pandas.pydata.org/pandas-docs/stable/generated/pandas.read_csv.html) call to read in the data properly. Also, considering the size of the main dataset, it may take some time for it to load completely.\n",
    "\n",
    "Once the dataset is loaded, it's recommended that you take a little bit of time just browsing the general structure of the dataset and feature summary file. You'll be getting deep into the innards of the cleaning in the first major step of the project, so gaining some general familiarity can help you get your bearings."
   ]
  },
  {
   "cell_type": "code",
   "execution_count": 2,
   "metadata": {},
   "outputs": [],
   "source": [
    "# Load in the general demographics data.\n",
    "azdias = pd.read_csv('./Udacity_AZDIAS_Subset.csv', sep=';')\n",
    "\n",
    "# Load in the feature summary file.\n",
    "feat_info =  pd.read_csv('./AZDIAS_Feature_Summary.csv', sep=';')"
   ]
  },
  {
   "cell_type": "markdown",
   "metadata": {},
   "source": [
    "> **Tip**: Add additional cells to keep everything in reasonably-sized chunks! Keyboard shortcut `esc --> a` (press escape to enter command mode, then press the 'A' key) adds a new cell before the active cell, and `esc --> b` adds a new cell after the active cell. If you need to convert an active cell to a markdown cell, use `esc --> m` and to convert to a code cell, use `esc --> y`. \n",
    "\n",
    "## Step 1: Preprocessing\n",
    "\n",
    "### Step 1.1: Assess Missing Data\n",
    "\n",
    "The feature summary file contains a summary of properties for each demographics data column. You will use this file to help you make cleaning decisions during this stage of the project. First of all, you should assess the demographics data in terms of missing data. Pay attention to the following points as you perform your analysis, and take notes on what you observe. Make sure that you fill in the **Discussion** cell with your findings and decisions at the end of each step that has one!\n",
    "\n",
    "#### Step 1.1.1: Convert Missing Value Codes to NaNs\n",
    "The fourth column of the feature attributes summary (loaded in above as `feat_info`) documents the codes from the data dictionary that indicate missing or unknown data. While the file encodes this as a list (e.g. `[-1,0]`), this will get read in as a string object. You'll need to do a little bit of parsing to make use of it to identify and clean the data. Convert data that matches a 'missing' or 'unknown' value code into a numpy NaN value. You might want to see how much data takes on a 'missing' or 'unknown' code, and how much data is naturally missing, as a point of interest.\n",
    "\n",
    "**As one more reminder, you are encouraged to add additional cells to break up your analysis into manageable chunks.**"
   ]
  },
  {
   "cell_type": "code",
   "execution_count": 3,
   "metadata": {},
   "outputs": [],
   "source": [
    "# Identify missing or unknown data values and convert them to NaNs.\n",
    "import re, ast\n",
    "\n",
    "azdias_ = azdias.copy() # Keep copy of the original azdias df\n",
    "\n",
    "for idx, feat in feat_info.iterrows():\n",
    "    \n",
    "    attribute = feat['attribute']\n",
    "    \n",
    "    # Try converting string representation of list to actual list. If failed, then split up the string between commas to get the elements\n",
    "    try:\n",
    "        missing_or_unknown = ast.literal_eval(feat['missing_or_unknown'])\n",
    "    except:\n",
    "        missing_or_unknown = re.sub(r\"[\\[\\],]\", \" \", feat['missing_or_unknown']).strip().split()\n",
    "            \n",
    "    if missing_or_unknown:\n",
    "        idx_missing_unknown = azdias_[attribute].isin(missing_or_unknown) # Identify rows matching the missing value codes\n",
    "        azdias_.loc[idx_missing_unknown, attribute] = np.nan # Replace missing or unknown with NaN"
   ]
  },
  {
   "cell_type": "markdown",
   "metadata": {},
   "source": [
    "#### Step 1.1.2: Assess Missing Data in Each Column\n",
    "\n",
    "How much missing data is present in each column? There are a few columns that are outliers in terms of the proportion of values that are missing. You will want to use matplotlib's [`hist()`](https://matplotlib.org/api/_as_gen/matplotlib.pyplot.hist.html) function to visualize the distribution of missing value counts to find these columns. Identify and document these columns. While some of these columns might have justifications for keeping or re-encoding the data, for this project you should just remove them from the dataframe. (Feel free to make remarks about these outlier columns in the discussion, however!)\n",
    "\n",
    "For the remaining features, are there any patterns in which columns have, or share, missing data?"
   ]
  },
  {
   "cell_type": "code",
   "execution_count": 4,
   "metadata": {},
   "outputs": [],
   "source": [
    "# Perform an assessment of how much missing data there is in each column of the\n",
    "# dataset.\n",
    "\n",
    "# Calculate the number of Nans in each column \n",
    "missing = azdias_.isnull().sum()\n",
    "missing_pct = missing / len(azdias_)"
   ]
  },
  {
   "cell_type": "code",
   "execution_count": 5,
   "metadata": {},
   "outputs": [
    {
     "data": {
      "text/plain": [
       "TITEL_KZ                 0.997576\n",
       "AGER_TYP                 0.769554\n",
       "KK_KUNDENTYP             0.655967\n",
       "KBA05_BAUMAX             0.534687\n",
       "GEBURTSJAHR              0.440203\n",
       "ALTER_HH                 0.348137\n",
       "REGIOTYP                 0.177357\n",
       "KKK                      0.177357\n",
       "W_KEIT_KIND_HH           0.166051\n",
       "KBA05_ANTG4              0.149597\n",
       "KBA05_GBZ                0.149597\n",
       "MOBI_REGIO               0.149597\n",
       "KBA05_ANTG1              0.149597\n",
       "KBA05_ANTG2              0.149597\n",
       "KBA05_ANTG3              0.149597\n",
       "PLZ8_GBZ                 0.130736\n",
       "PLZ8_HHZ                 0.130736\n",
       "PLZ8_BAUMAX              0.130736\n",
       "PLZ8_ANTG4               0.130736\n",
       "PLZ8_ANTG1               0.130736\n",
       "PLZ8_ANTG3               0.130736\n",
       "PLZ8_ANTG2               0.130736\n",
       "SHOPPER_TYP              0.124768\n",
       "VERS_TYP                 0.124768\n",
       "HEALTH_TYP               0.124768\n",
       "NATIONALITAET_KZ         0.121536\n",
       "PRAEGENDE_JUGENDJAHRE    0.121366\n",
       "KBA13_ANZAHL_PKW         0.118714\n",
       "ANZ_HAUSHALTE_AKTIV      0.111769\n",
       "CAMEO_INTL_2015          0.111479\n",
       "                           ...   \n",
       "RETOURTYP_BK_S           0.005446\n",
       "ONLINE_AFFINITAET        0.005446\n",
       "LP_STATUS_FEIN           0.005446\n",
       "LP_STATUS_GROB           0.005446\n",
       "GFK_URLAUBERTYP          0.005446\n",
       "ALTERSKATEGORIE_GROB     0.003233\n",
       "FINANZTYP                0.000000\n",
       "GREEN_AVANTGARDE         0.000000\n",
       "FINANZ_HAUSBAUER         0.000000\n",
       "FINANZ_UNAUFFAELLIGER    0.000000\n",
       "FINANZ_ANLEGER           0.000000\n",
       "FINANZ_SPARER            0.000000\n",
       "FINANZ_MINIMALIST        0.000000\n",
       "ANREDE_KZ                0.000000\n",
       "FINANZ_VORSORGER         0.000000\n",
       "SEMIO_FAM                0.000000\n",
       "SEMIO_SOZ                0.000000\n",
       "SEMIO_REL                0.000000\n",
       "SEMIO_MAT                0.000000\n",
       "SEMIO_VERT               0.000000\n",
       "SEMIO_LUST               0.000000\n",
       "SEMIO_ERL                0.000000\n",
       "SEMIO_KULT               0.000000\n",
       "SEMIO_RAT                0.000000\n",
       "SEMIO_KRIT               0.000000\n",
       "SEMIO_DOM                0.000000\n",
       "SEMIO_KAEM               0.000000\n",
       "SEMIO_PFLICHT            0.000000\n",
       "SEMIO_TRADV              0.000000\n",
       "ZABEOTYP                 0.000000\n",
       "Length: 85, dtype: float64"
      ]
     },
     "execution_count": 5,
     "metadata": {},
     "output_type": "execute_result"
    }
   ],
   "source": [
    "# Investigate patterns in the amount of missing data in each column.\n",
    "missing_pct.sort_values(ascending=False)"
   ]
  },
  {
   "cell_type": "code",
   "execution_count": 6,
   "metadata": {},
   "outputs": [
    {
     "name": "stdout",
     "output_type": "stream",
     "text": [
      "AGER_TYP                 0.769554\n",
      "ALTERSKATEGORIE_GROB     0.003233\n",
      "ANREDE_KZ                0.000000\n",
      "CJT_GESAMTTYP            0.005446\n",
      "FINANZ_MINIMALIST        0.000000\n",
      "FINANZ_SPARER            0.000000\n",
      "FINANZ_VORSORGER         0.000000\n",
      "FINANZ_ANLEGER           0.000000\n",
      "FINANZ_UNAUFFAELLIGER    0.000000\n",
      "FINANZ_HAUSBAUER         0.000000\n",
      "FINANZTYP                0.000000\n",
      "GEBURTSJAHR              0.440203\n",
      "GFK_URLAUBERTYP          0.005446\n",
      "GREEN_AVANTGARDE         0.000000\n",
      "HEALTH_TYP               0.124768\n",
      "LP_LEBENSPHASE_FEIN      0.109549\n",
      "LP_LEBENSPHASE_GROB      0.106115\n",
      "LP_FAMILIE_FEIN          0.087287\n",
      "LP_FAMILIE_GROB          0.087287\n",
      "LP_STATUS_FEIN           0.005446\n",
      "LP_STATUS_GROB           0.005446\n",
      "NATIONALITAET_KZ         0.121536\n",
      "PRAEGENDE_JUGENDJAHRE    0.121366\n",
      "RETOURTYP_BK_S           0.005446\n",
      "SEMIO_SOZ                0.000000\n",
      "SEMIO_FAM                0.000000\n",
      "SEMIO_REL                0.000000\n",
      "SEMIO_MAT                0.000000\n",
      "SEMIO_VERT               0.000000\n",
      "SEMIO_LUST               0.000000\n",
      "SEMIO_ERL                0.000000\n",
      "SEMIO_KULT               0.000000\n",
      "SEMIO_RAT                0.000000\n",
      "SEMIO_KRIT               0.000000\n",
      "SEMIO_DOM                0.000000\n",
      "SEMIO_KAEM               0.000000\n",
      "SEMIO_PFLICHT            0.000000\n",
      "SEMIO_TRADV              0.000000\n",
      "SHOPPER_TYP              0.124768\n",
      "SOHO_KZ                  0.082470\n",
      "TITEL_KZ                 0.997576\n",
      "VERS_TYP                 0.124768\n",
      "ZABEOTYP                 0.000000\n",
      "ALTER_HH                 0.348137\n",
      "ANZ_PERSONEN             0.082470\n",
      "ANZ_TITEL                0.082470\n",
      "HH_EINKOMMEN_SCORE       0.020587\n",
      "KK_KUNDENTYP             0.655967\n",
      "W_KEIT_KIND_HH           0.166051\n",
      "WOHNDAUER_2008           0.082470\n",
      "ANZ_HAUSHALTE_AKTIV      0.111769\n",
      "ANZ_HH_TITEL             0.108848\n",
      "GEBAEUDETYP              0.104517\n",
      "KONSUMNAEHE              0.082997\n",
      "MIN_GEBAEUDEJAHR         0.104517\n",
      "OST_WEST_KZ              0.104517\n",
      "WOHNLAGE                 0.104517\n",
      "CAMEO_DEUG_2015          0.111479\n",
      "CAMEO_DEU_2015           0.111479\n",
      "CAMEO_INTL_2015          0.111479\n",
      "KBA05_ANTG1              0.149597\n",
      "KBA05_ANTG2              0.149597\n",
      "KBA05_ANTG3              0.149597\n",
      "KBA05_ANTG4              0.149597\n",
      "KBA05_BAUMAX             0.534687\n",
      "KBA05_GBZ                0.149597\n",
      "BALLRAUM                 0.105182\n",
      "EWDICHTE                 0.105182\n",
      "INNENSTADT               0.105182\n",
      "GEBAEUDETYP_RASTER       0.104525\n",
      "KKK                      0.177357\n",
      "MOBI_REGIO               0.149597\n",
      "ONLINE_AFFINITAET        0.005446\n",
      "REGIOTYP                 0.177357\n",
      "KBA13_ANZAHL_PKW         0.118714\n",
      "PLZ8_ANTG1               0.130736\n",
      "PLZ8_ANTG2               0.130736\n",
      "PLZ8_ANTG3               0.130736\n",
      "PLZ8_ANTG4               0.130736\n",
      "PLZ8_BAUMAX              0.130736\n",
      "PLZ8_HHZ                 0.130736\n",
      "PLZ8_GBZ                 0.130736\n",
      "ARBEIT                   0.109260\n",
      "ORTSGR_KLS9              0.109147\n",
      "RELAT_AB                 0.109260\n",
      "dtype: float64\n"
     ]
    }
   ],
   "source": [
    "# Display missing pct for all columns\n",
    "\n",
    "# Change the # of rows getting display temporarily before switching back\n",
    "current_max_row = pd.options.display.max_rows\n",
    "pd.options.display.max_rows = 100\n",
    "\n",
    "print(missing_pct)\n",
    "\n",
    "pd.options.display.max_rows = current_max_row"
   ]
  },
  {
   "cell_type": "code",
   "execution_count": 7,
   "metadata": {},
   "outputs": [
    {
     "data": {
      "text/plain": [
       "count    85.000000\n",
       "mean      0.110541\n",
       "std       0.164498\n",
       "min       0.000000\n",
       "25%       0.000000\n",
       "50%       0.104517\n",
       "75%       0.130736\n",
       "max       0.997576\n",
       "dtype: float64"
      ]
     },
     "execution_count": 7,
     "metadata": {},
     "output_type": "execute_result"
    }
   ],
   "source": [
    "missing_pct.describe()"
   ]
  },
  {
   "cell_type": "code",
   "execution_count": 8,
   "metadata": {},
   "outputs": [],
   "source": [
    "# Remove the outlier columns from the dataset. (You'll perform other data\n",
    "# engineering tasks such as re-encoding and imputation later.)\n",
    "\n",
    "# Drop columns with missing percent > 30% \n",
    "outlier_cols = missing_pct[missing_pct > 0.30].index.tolist()\n",
    "\n",
    "azdias_.drop(outlier_cols, inplace=True, axis=1)"
   ]
  },
  {
   "cell_type": "markdown",
   "metadata": {},
   "source": [
    "#### Discussion 1.1.2: Assess Missing Data in Each Column\n",
    "The median column has about 10% of its values missing, but 6 columns have >30% of their values missing. After these columns the the next highest missing percentage is about 18%. \n",
    "\n",
    "Columns that are related have identical missing percentage. For example, the columns related to personality topology (\"SEMIO...\") have the same missing percentage, as do the columns related to RR3 micro cell features (\"KBA05...\").\n",
    "\n",
    "\n"
   ]
  },
  {
   "cell_type": "markdown",
   "metadata": {},
   "source": [
    "#### Step 1.1.3: Assess Missing Data in Each Row\n",
    "\n",
    "Now, you'll perform a similar assessment for the rows of the dataset. How much data is missing in each row? As with the columns, you should see some groups of points that have a very different numbers of missing values. Divide the data into two subsets: one for data points that are above some threshold for missing values, and a second subset for points below that threshold.\n",
    "\n",
    "In order to know what to do with the outlier rows, we should see if the distribution of data values on columns that are not missing data (or are missing very little data) are similar or different between the two groups. Select at least five of these columns and compare the distribution of values.\n",
    "- You can use seaborn's [`countplot()`](https://seaborn.pydata.org/generated/seaborn.countplot.html) function to create a bar chart of code frequencies and matplotlib's [`subplot()`](https://matplotlib.org/api/_as_gen/matplotlib.pyplot.subplot.html) function to put bar charts for the two subplots side by side.\n",
    "- To reduce repeated code, you might want to write a function that can perform this comparison, taking as one of its arguments a column to be compared.\n",
    "\n",
    "Depending on what you observe in your comparison, this will have implications on how you approach your conclusions later in the analysis. If the distributions of non-missing features look similar between the data with many missing values and the data with few or no missing values, then we could argue that simply dropping those points from the analysis won't present a major issue. On the other hand, if the data with many missing values looks very different from the data with few or no missing values, then we should make a note on those data as special. We'll revisit these data later on. **Either way, you should continue your analysis for now using just the subset of the data with few or no missing values.**"
   ]
  },
  {
   "cell_type": "code",
   "execution_count": 9,
   "metadata": {},
   "outputs": [
    {
     "data": {
      "text/plain": [
       "<Figure size 1440x720 with 0 Axes>"
      ]
     },
     "execution_count": 9,
     "metadata": {},
     "output_type": "execute_result"
    },
    {
     "data": {
      "text/plain": [
       "<matplotlib.axes._subplots.AxesSubplot at 0x7f1a78023f60>"
      ]
     },
     "execution_count": 9,
     "metadata": {},
     "output_type": "execute_result"
    },
    {
     "data": {
      "image/png": "[encoded data removed]",
      "text/plain": [
       "<Figure size 1440x720 with 1 Axes>"
      ]
     },
     "metadata": {
      "image/png": {
       "height": 576,
       "width": 1191
      }
     },
     "output_type": "display_data"
    }
   ],
   "source": [
    "# How much data is missing in each row of the dataset?\n",
    "missing_per_row = azdias_.isnull().sum(axis=1)\n",
    "\n",
    "# Plot the distribution of rows by their numbers of missing attributes\n",
    "plt.figure(figsize=(20,10))\n",
    "sns.countplot(x=missing_per_row)"
   ]
  },
  {
   "cell_type": "code",
   "execution_count": 10,
   "metadata": {},
   "outputs": [],
   "source": [
    "# Write code to divide the data into two subsets based on the number of missing\n",
    "# values in each row. Using 9 as the threshold\n",
    "no_row_missing = azdias_[missing_per_row <= 9]\n",
    "row_missing = azdias_[missing_per_row > 9]"
   ]
  },
  {
   "cell_type": "code",
   "execution_count": 11,
   "metadata": {},
   "outputs": [
    {
     "data": {
      "image/png": "[encoded data removed]",
      "text/plain": [
       "<Figure size 720x720 with 2 Axes>"
      ]
     },
     "metadata": {
      "image/png": {
       "height": 603,
       "width": 633
      }
     },
     "output_type": "display_data"
    },
    {
     "data": {
      "image/png": "[encoded data removed]",
      "text/plain": [
       "<Figure size 720x720 with 2 Axes>"
      ]
     },
     "metadata": {
      "image/png": {
       "height": 603,
       "width": 633
      }
     },
     "output_type": "display_data"
    },
    {
     "data": {
      "image/png": "[encoded data removed]",
      "text/plain": [
       "<Figure size 720x720 with 2 Axes>"
      ]
     },
     "metadata": {
      "image/png": {
       "height": 603,
       "width": 633
      }
     },
     "output_type": "display_data"
    },
    {
     "data": {
      "image/png": "[encoded data removed]",
      "text/plain": [
       "<Figure size 720x720 with 2 Axes>"
      ]
     },
     "metadata": {
      "image/png": {
       "height": 603,
       "width": 633
      }
     },
     "output_type": "display_data"
    },
    {
     "data": {
      "image/png": "[encoded data removed]",
      "text/plain": [
       "<Figure size 720x720 with 2 Axes>"
      ]
     },
     "metadata": {
      "image/png": {
       "height": 603,
       "width": 633
      }
     },
     "output_type": "display_data"
    }
   ],
   "source": [
    "# Compare the distribution of values for at least five columns where there are\n",
    "# no or few missing values, between the two subsets.\n",
    "\n",
    "def compare_feature_distribution(feature_name, subset1, subset2):\n",
    "    plt.figure(figsize=(10,10))\n",
    "    \n",
    "    plt.subplot(1, 2, 1)\n",
    "    plt.title('Subset 1')\n",
    "    sns.countplot(x=feature_name, data=subset1)\n",
    "    \n",
    "    plt.subplot(1, 2, 2)\n",
    "    plt.title('Subset 2')\n",
    "    sns.countplot(x=feature_name, data=subset2)\n",
    "    \n",
    "\n",
    "features = missing_pct.sort_values(ascending=True).index[:5].tolist() # Select top 5 columns with least amount of missing values\n",
    "\n",
    "\n",
    "for feat in features:\n",
    "    compare_feature_distribution(feat, no_row_missing, row_missing)\n",
    "    "
   ]
  },
  {
   "cell_type": "markdown",
   "metadata": {},
   "source": [
    "#### Discussion 1.1.3: Assess Missing Data in Each Row\n",
    "\n",
    "The subset of data with 0 values missing seem to have different distributions than the ones with more missing columns. Plotting the top 5 columns with the least amount of missing and comparing the distributions between the two subsets of data indicate that they have different distribution across most of these columns"
   ]
  },
  {
   "cell_type": "code",
   "execution_count": 12,
   "metadata": {},
   "outputs": [
    {
     "name": "stdout",
     "output_type": "stream",
     "text": [
      "<class 'pandas.core.frame.DataFrame'>\n",
      "Int64Index: 774743 entries, 1 to 891220\n",
      "Data columns (total 79 columns):\n",
      "ALTERSKATEGORIE_GROB     772147 non-null float64\n",
      "ANREDE_KZ                774743 non-null float64\n",
      "CJT_GESAMTTYP            774743 non-null float64\n",
      "FINANZ_MINIMALIST        774743 non-null float64\n",
      "FINANZ_SPARER            774743 non-null float64\n",
      "FINANZ_VORSORGER         774743 non-null float64\n",
      "FINANZ_ANLEGER           774743 non-null float64\n",
      "FINANZ_UNAUFFAELLIGER    774743 non-null float64\n",
      "FINANZ_HAUSBAUER         774743 non-null float64\n",
      "FINANZTYP                774743 non-null float64\n",
      "GFK_URLAUBERTYP          774743 non-null float64\n",
      "GREEN_AVANTGARDE         774743 non-null int64\n",
      "HEALTH_TYP               741323 non-null float64\n",
      "LP_LEBENSPHASE_FEIN      732988 non-null float64\n",
      "LP_LEBENSPHASE_GROB      735655 non-null float64\n",
      "LP_FAMILIE_FEIN          750265 non-null float64\n",
      "LP_FAMILIE_GROB          750265 non-null float64\n",
      "LP_STATUS_FEIN           774743 non-null float64\n",
      "LP_STATUS_GROB           774743 non-null float64\n",
      "NATIONALITAET_KZ         743919 non-null float64\n",
      "PRAEGENDE_JUGENDJAHRE    749241 non-null float64\n",
      "RETOURTYP_BK_S           774743 non-null float64\n",
      "SEMIO_SOZ                774743 non-null float64\n",
      "SEMIO_FAM                774743 non-null float64\n",
      "SEMIO_REL                774743 non-null float64\n",
      "SEMIO_MAT                774743 non-null float64\n",
      "SEMIO_VERT               774743 non-null float64\n",
      "SEMIO_LUST               774743 non-null float64\n",
      "SEMIO_ERL                774743 non-null float64\n",
      "SEMIO_KULT               774743 non-null float64\n",
      "SEMIO_RAT                774743 non-null float64\n",
      "SEMIO_KRIT               774743 non-null float64\n",
      "SEMIO_DOM                774743 non-null float64\n",
      "SEMIO_KAEM               774743 non-null float64\n",
      "SEMIO_PFLICHT            774743 non-null float64\n",
      "SEMIO_TRADV              774743 non-null float64\n",
      "SHOPPER_TYP              741323 non-null float64\n",
      "SOHO_KZ                  774743 non-null float64\n",
      "VERS_TYP                 741323 non-null float64\n",
      "ZABEOTYP                 774743 non-null float64\n",
      "ANZ_PERSONEN             774743 non-null float64\n",
      "ANZ_TITEL                774743 non-null float64\n",
      "HH_EINKOMMEN_SCORE       774743 non-null float64\n",
      "W_KEIT_KIND_HH           719486 non-null float64\n",
      "WOHNDAUER_2008           774743 non-null float64\n",
      "ANZ_HAUSHALTE_AKTIV      769092 non-null float64\n",
      "ANZ_HH_TITEL             771580 non-null float64\n",
      "GEBAEUDETYP              774743 non-null float64\n",
      "KONSUMNAEHE              774692 non-null float64\n",
      "MIN_GEBAEUDEJAHR         774743 non-null float64\n",
      "OST_WEST_KZ              774743 non-null object\n",
      "WOHNLAGE                 774743 non-null float64\n",
      "CAMEO_DEUG_2015          771287 non-null object\n",
      "CAMEO_DEU_2015           771287 non-null object\n",
      "CAMEO_INTL_2015          771287 non-null object\n",
      "KBA05_ANTG1              750542 non-null float64\n",
      "KBA05_ANTG2              750542 non-null float64\n",
      "KBA05_ANTG3              750542 non-null float64\n",
      "KBA05_ANTG4              750542 non-null float64\n",
      "KBA05_GBZ                750542 non-null float64\n",
      "BALLRAUM                 774217 non-null float64\n",
      "EWDICHTE                 774217 non-null float64\n",
      "INNENSTADT               774217 non-null float64\n",
      "GEBAEUDETYP_RASTER       774738 non-null float64\n",
      "KKK                      720607 non-null float64\n",
      "MOBI_REGIO               750542 non-null float64\n",
      "ONLINE_AFFINITAET        774743 non-null float64\n",
      "REGIOTYP                 720607 non-null float64\n",
      "KBA13_ANZAHL_PKW         769260 non-null float64\n",
      "PLZ8_ANTG1               766960 non-null float64\n",
      "PLZ8_ANTG2               766960 non-null float64\n",
      "PLZ8_ANTG3               766960 non-null float64\n",
      "PLZ8_ANTG4               766960 non-null float64\n",
      "PLZ8_BAUMAX              766960 non-null float64\n",
      "PLZ8_HHZ                 766960 non-null float64\n",
      "PLZ8_GBZ                 766960 non-null float64\n",
      "ARBEIT                   770807 non-null float64\n",
      "ORTSGR_KLS9              770893 non-null float64\n",
      "RELAT_AB                 770807 non-null float64\n",
      "dtypes: float64(74), int64(1), object(4)\n",
      "memory usage: 492.9+ MB\n"
     ]
    }
   ],
   "source": [
    "no_row_missing.info()"
   ]
  },
  {
   "cell_type": "code",
   "execution_count": 13,
   "metadata": {},
   "outputs": [
    {
     "name": "stdout",
     "output_type": "stream",
     "text": [
      "<class 'pandas.core.frame.DataFrame'>\n",
      "Int64Index: 116478 entries, 0 to 891203\n",
      "Data columns (total 79 columns):\n",
      "ALTERSKATEGORIE_GROB     116193 non-null float64\n",
      "ANREDE_KZ                116478 non-null float64\n",
      "CJT_GESAMTTYP            111624 non-null float64\n",
      "FINANZ_MINIMALIST        116478 non-null float64\n",
      "FINANZ_SPARER            116478 non-null float64\n",
      "FINANZ_VORSORGER         116478 non-null float64\n",
      "FINANZ_ANLEGER           116478 non-null float64\n",
      "FINANZ_UNAUFFAELLIGER    116478 non-null float64\n",
      "FINANZ_HAUSBAUER         116478 non-null float64\n",
      "FINANZTYP                116478 non-null float64\n",
      "GFK_URLAUBERTYP          111624 non-null float64\n",
      "GREEN_AVANTGARDE         116478 non-null int64\n",
      "HEALTH_TYP               38702 non-null float64\n",
      "LP_LEBENSPHASE_FEIN      60601 non-null float64\n",
      "LP_LEBENSPHASE_GROB      60994 non-null float64\n",
      "LP_FAMILIE_FEIN          63164 non-null float64\n",
      "LP_FAMILIE_GROB          63164 non-null float64\n",
      "LP_STATUS_FEIN           111624 non-null float64\n",
      "LP_STATUS_GROB           111624 non-null float64\n",
      "NATIONALITAET_KZ         38987 non-null float64\n",
      "PRAEGENDE_JUGENDJAHRE    33816 non-null float64\n",
      "RETOURTYP_BK_S           111624 non-null float64\n",
      "SEMIO_SOZ                116478 non-null float64\n",
      "SEMIO_FAM                116478 non-null float64\n",
      "SEMIO_REL                116478 non-null float64\n",
      "SEMIO_MAT                116478 non-null float64\n",
      "SEMIO_VERT               116478 non-null float64\n",
      "SEMIO_LUST               116478 non-null float64\n",
      "SEMIO_ERL                116478 non-null float64\n",
      "SEMIO_KULT               116478 non-null float64\n",
      "SEMIO_RAT                116478 non-null float64\n",
      "SEMIO_KRIT               116478 non-null float64\n",
      "SEMIO_DOM                116478 non-null float64\n",
      "SEMIO_KAEM               116478 non-null float64\n",
      "SEMIO_PFLICHT            116478 non-null float64\n",
      "SEMIO_TRADV              116478 non-null float64\n",
      "SHOPPER_TYP              38702 non-null float64\n",
      "SOHO_KZ                  42979 non-null float64\n",
      "VERS_TYP                 38702 non-null float64\n",
      "ZABEOTYP                 116478 non-null float64\n",
      "ANZ_PERSONEN             42979 non-null float64\n",
      "ANZ_TITEL                42979 non-null float64\n",
      "HH_EINKOMMEN_SCORE       98130 non-null float64\n",
      "W_KEIT_KIND_HH           23747 non-null float64\n",
      "WOHNDAUER_2008           42979 non-null float64\n",
      "ANZ_HAUSHALTE_AKTIV      22518 non-null float64\n",
      "ANZ_HH_TITEL             22633 non-null float64\n",
      "GEBAEUDETYP              23330 non-null float64\n",
      "KONSUMNAEHE              42560 non-null float64\n",
      "MIN_GEBAEUDEJAHR         23330 non-null float64\n",
      "OST_WEST_KZ              23330 non-null object\n",
      "WOHNLAGE                 23330 non-null float64\n",
      "CAMEO_DEUG_2015          20582 non-null object\n",
      "CAMEO_DEU_2015           20582 non-null object\n",
      "CAMEO_INTL_2015          20582 non-null object\n",
      "KBA05_ANTG1              7355 non-null float64\n",
      "KBA05_ANTG2              7355 non-null float64\n",
      "KBA05_ANTG3              7355 non-null float64\n",
      "KBA05_ANTG4              7355 non-null float64\n",
      "KBA05_GBZ                7355 non-null float64\n",
      "BALLRAUM                 23264 non-null float64\n",
      "EWDICHTE                 23264 non-null float64\n",
      "INNENSTADT               23264 non-null float64\n",
      "GEBAEUDETYP_RASTER       23328 non-null float64\n",
      "KKK                      12550 non-null float64\n",
      "MOBI_REGIO               7355 non-null float64\n",
      "ONLINE_AFFINITAET        111624 non-null float64\n",
      "REGIOTYP                 12550 non-null float64\n",
      "KBA13_ANZAHL_PKW         16161 non-null float64\n",
      "PLZ8_ANTG1               7746 non-null float64\n",
      "PLZ8_ANTG2               7746 non-null float64\n",
      "PLZ8_ANTG3               7746 non-null float64\n",
      "PLZ8_ANTG4               7746 non-null float64\n",
      "PLZ8_BAUMAX              7746 non-null float64\n",
      "PLZ8_HHZ                 7746 non-null float64\n",
      "PLZ8_GBZ                 7746 non-null float64\n",
      "ARBEIT                   23039 non-null float64\n",
      "ORTSGR_KLS9              23054 non-null float64\n",
      "RELAT_AB                 23039 non-null float64\n",
      "dtypes: float64(74), int64(1), object(4)\n",
      "memory usage: 76.1+ MB\n"
     ]
    }
   ],
   "source": [
    "row_missing.info()"
   ]
  },
  {
   "cell_type": "code",
   "execution_count": 14,
   "metadata": {},
   "outputs": [],
   "source": [
    "# Make a copy of the subset so further changes don't affect azdias_ directly\n",
    "no_row_missing = no_row_missing.copy()"
   ]
  },
  {
   "cell_type": "markdown",
   "metadata": {},
   "source": [
    "### Step 1.2: Select and Re-Encode Features\n",
    "\n",
    "Checking for missing data isn't the only way in which you can prepare a dataset for analysis. Since the unsupervised learning techniques to be used will only work on data that is encoded numerically, you need to make a few encoding changes or additional assumptions to be able to make progress. In addition, while almost all of the values in the dataset are encoded using numbers, not all of them represent numeric values. Check the third column of the feature summary (`feat_info`) for a summary of types of measurement.\n",
    "- For numeric and interval data, these features can be kept without changes.\n",
    "- Most of the variables in the dataset are ordinal in nature. While ordinal values may technically be non-linear in spacing, make the simplifying assumption that the ordinal variables can be treated as being interval in nature (that is, kept without any changes).\n",
    "- Special handling may be necessary for the remaining two variable types: categorical, and 'mixed'.\n",
    "\n",
    "In the first two parts of this sub-step, you will perform an investigation of the categorical and mixed-type features and make a decision on each of them, whether you will keep, drop, or re-encode each. Then, in the last part, you will create a new data frame with only the selected and engineered columns.\n",
    "\n",
    "Data wrangling is often the trickiest part of the data analysis process, and there's a lot of it to be done here. But stick with it: once you're done with this step, you'll be ready to get to the machine learning parts of the project!"
   ]
  },
  {
   "cell_type": "code",
   "execution_count": 15,
   "metadata": {},
   "outputs": [
    {
     "data": {
      "text/plain": [
       "ordinal        49\n",
       "categorical    21\n",
       "mixed           7\n",
       "numeric         7\n",
       "interval        1\n",
       "Name: type, dtype: int64"
      ]
     },
     "execution_count": 15,
     "metadata": {},
     "output_type": "execute_result"
    }
   ],
   "source": [
    "# How many features are there of each data type?\n",
    "feat_info['type'].value_counts()"
   ]
  },
  {
   "cell_type": "markdown",
   "metadata": {},
   "source": [
    "#### Step 1.2.1: Re-Encode Categorical Features\n",
    "\n",
    "For categorical data, you would ordinarily need to encode the levels as dummy variables. Depending on the number of categories, perform one of the following:\n",
    "- For binary (two-level) categoricals that take numeric values, you can keep them without needing to do anything.\n",
    "- There is one binary variable that takes on non-numeric values. For this one, you need to re-encode the values as numbers or create a dummy variable.\n",
    "- For multi-level categoricals (three or more values), you can choose to encode the values using multiple dummy variables (e.g. via [OneHotEncoder](http://scikit-learn.org/stable/modules/generated/sklearn.preprocessing.OneHotEncoder.html)), or (to keep things straightforward) just drop them from the analysis. As always, document your choices in the Discussion section."
   ]
  },
  {
   "cell_type": "code",
   "execution_count": 17,
   "metadata": {},
   "outputs": [],
   "source": [
    "# Fill NaNs with imputation before attempting to re-encode\n",
    "\n",
    "from sklearn.impute import SimpleImputer\n",
    "imp = SimpleImputer(missing_values=np.nan, strategy=\"most_frequent\")\n",
    "no_row_missing = pd.DataFrame(data=imp.fit_transform(no_row_missing), index=no_row_missing.index, columns=no_row_missing.columns)"
   ]
  },
  {
   "cell_type": "code",
   "execution_count": 18,
   "metadata": {},
   "outputs": [
    {
     "name": "stdout",
     "output_type": "stream",
     "text": [
      "SOHO_KZ: [1.0 0.0]\n",
      "OST_WEST_KZ: ['W' 'O']\n",
      "GFK_URLAUBERTYP: [10.0 1.0 5.0 12.0 9.0 3.0 8.0 11.0 4.0 7.0 2.0 6.0]\n",
      "ANREDE_KZ: [2.0 1.0]\n",
      "SHOPPER_TYP: [3.0 2.0 1.0 0.0]\n",
      "LP_FAMILIE_GROB: [3.0 1.0 5.0 2.0 4.0]\n",
      "ZABEOTYP: [5.0 3.0 4.0 1.0 6.0 2.0]\n",
      "VERS_TYP: [2.0 1.0]\n",
      "CAMEO_DEU_2015: ['8A' '4C' '2A' '6B' '8C' '4A' '2D' '1A' '1E' '9D' '5C' '8B' '7A' '5D'\n",
      " '9E' '9B' '1B' '3D' '4E' '4B' '3C' '5A' '7B' '9A' '6D' '6E' '2C' '7C'\n",
      " '9C' '7D' '5E' '1D' '8D' '6C' '6A' '5B' '4D' '3A' '2B' '7E' '3B' '6F'\n",
      " '5F' '1C']\n",
      "FINANZTYP: [1.0 6.0 5.0 2.0 4.0 3.0]\n",
      "LP_STATUS_FEIN: [2.0 3.0 9.0 4.0 1.0 10.0 5.0 8.0 6.0 7.0]\n",
      "CAMEO_DEUG_2015: ['8' '4' '2' '6' '1' '9' '5' '7' '3']\n",
      "GEBAEUDETYP: [8.0 1.0 3.0 2.0 6.0 4.0 5.0]\n",
      "LP_FAMILIE_FEIN: [5.0 1.0 10.0 2.0 7.0 11.0 8.0 4.0 6.0 9.0 3.0]\n",
      "GREEN_AVANTGARDE: [0 1]\n",
      "CJT_GESAMTTYP: [5.0 3.0 2.0 4.0 1.0 6.0]\n",
      "NATIONALITAET_KZ: [1.0 3.0 2.0]\n",
      "LP_STATUS_GROB: [1.0 2.0 4.0 5.0 3.0]\n"
     ]
    }
   ],
   "source": [
    "# Assess categorical variables: which are binary, which are multi-level, and\n",
    "# which one needs to be re-encoded?\n",
    "\n",
    "# find categorial features that have not been dropped in Step 1.1.2\n",
    "categorical_features = set(feat_info[feat_info['type'] == 'categorical']['attribute'].tolist()) & set(no_row_missing.columns) \n",
    "for feature in categorical_features:\n",
    "    print(f\"{feature}: {no_row_missing[feature].unique()}\")"
   ]
  },
  {
   "cell_type": "code",
   "execution_count": 20,
   "metadata": {},
   "outputs": [],
   "source": [
    "# Re-encode categorical variable(s) to be kept in the analysis.\n",
    "categorical_features = set(categorical_features)\n",
    "binary_features = {'ANREDE_KZ', 'GREEN_AVANTGARDE', 'SOHO_KZ', 'VERS_TYP'} # Binary features that are already encoded as numeric valuesb\n",
    "features_to_encode = categorical_features - binary_features\n",
    "\n",
    "no_row_missing = pd.concat([no_row_missing, pd.get_dummies(no_row_missing[list(features_to_encode)], prefix=list(features_to_encode), drop_first=True)], axis=1)\n",
    "no_row_missing.drop(list(features_to_encode), axis=1, inplace=True)"
   ]
  },
  {
   "cell_type": "code",
   "execution_count": 21,
   "metadata": {},
   "outputs": [
    {
     "name": "stdout",
     "output_type": "stream",
     "text": [
      "Index(['ALTERSKATEGORIE_GROB', 'ANREDE_KZ', 'FINANZ_MINIMALIST',\n",
      "       'FINANZ_SPARER', 'FINANZ_VORSORGER', 'FINANZ_ANLEGER',\n",
      "       'FINANZ_UNAUFFAELLIGER', 'FINANZ_HAUSBAUER', 'GREEN_AVANTGARDE',\n",
      "       'HEALTH_TYP', 'LP_LEBENSPHASE_FEIN', 'LP_LEBENSPHASE_GROB',\n",
      "       'PRAEGENDE_JUGENDJAHRE', 'RETOURTYP_BK_S', 'SEMIO_SOZ', 'SEMIO_FAM',\n",
      "       'SEMIO_REL', 'SEMIO_MAT', 'SEMIO_VERT', 'SEMIO_LUST', 'SEMIO_ERL',\n",
      "       'SEMIO_KULT', 'SEMIO_RAT', 'SEMIO_KRIT', 'SEMIO_DOM', 'SEMIO_KAEM',\n",
      "       'SEMIO_PFLICHT', 'SEMIO_TRADV', 'SOHO_KZ', 'VERS_TYP', 'ANZ_PERSONEN',\n",
      "       'ANZ_TITEL', 'HH_EINKOMMEN_SCORE', 'W_KEIT_KIND_HH', 'WOHNDAUER_2008',\n",
      "       'ANZ_HAUSHALTE_AKTIV', 'ANZ_HH_TITEL', 'KONSUMNAEHE',\n",
      "       'MIN_GEBAEUDEJAHR', 'WOHNLAGE', 'CAMEO_INTL_2015', 'KBA05_ANTG1',\n",
      "       'KBA05_ANTG2', 'KBA05_ANTG3', 'KBA05_ANTG4', 'KBA05_GBZ', 'BALLRAUM',\n",
      "       'EWDICHTE', 'INNENSTADT', 'GEBAEUDETYP_RASTER', 'KKK', 'MOBI_REGIO',\n",
      "       'ONLINE_AFFINITAET', 'REGIOTYP', 'KBA13_ANZAHL_PKW', 'PLZ8_ANTG1',\n",
      "       'PLZ8_ANTG2', 'PLZ8_ANTG3', 'PLZ8_ANTG4', 'PLZ8_BAUMAX', 'PLZ8_HHZ',\n",
      "       'PLZ8_GBZ', 'ARBEIT', 'ORTSGR_KLS9', 'RELAT_AB', 'OST_WEST_KZ_W',\n",
      "       'GFK_URLAUBERTYP_2.0', 'GFK_URLAUBERTYP_3.0', 'GFK_URLAUBERTYP_4.0',\n",
      "       'GFK_URLAUBERTYP_5.0', 'GFK_URLAUBERTYP_6.0', 'GFK_URLAUBERTYP_7.0',\n",
      "       'GFK_URLAUBERTYP_8.0', 'GFK_URLAUBERTYP_9.0', 'GFK_URLAUBERTYP_10.0',\n",
      "       'GFK_URLAUBERTYP_11.0', 'GFK_URLAUBERTYP_12.0', 'SHOPPER_TYP_1.0',\n",
      "       'SHOPPER_TYP_2.0', 'SHOPPER_TYP_3.0', 'LP_FAMILIE_GROB_2.0',\n",
      "       'LP_FAMILIE_GROB_3.0', 'LP_FAMILIE_GROB_4.0', 'LP_FAMILIE_GROB_5.0',\n",
      "       'ZABEOTYP_2.0', 'ZABEOTYP_3.0', 'ZABEOTYP_4.0', 'ZABEOTYP_5.0',\n",
      "       'ZABEOTYP_6.0', 'FINANZTYP_2.0', 'FINANZTYP_3.0', 'FINANZTYP_4.0',\n",
      "       'FINANZTYP_5.0', 'FINANZTYP_6.0', 'LP_STATUS_FEIN_2.0',\n",
      "       'LP_STATUS_FEIN_3.0', 'LP_STATUS_FEIN_4.0', 'LP_STATUS_FEIN_5.0',\n",
      "       'LP_STATUS_FEIN_6.0', 'LP_STATUS_FEIN_7.0', 'LP_STATUS_FEIN_8.0',\n",
      "       'LP_STATUS_FEIN_9.0', 'LP_STATUS_FEIN_10.0', 'CAMEO_DEUG_2015_2',\n",
      "       'CAMEO_DEUG_2015_3', 'CAMEO_DEUG_2015_4', 'CAMEO_DEUG_2015_5',\n",
      "       'CAMEO_DEUG_2015_6', 'CAMEO_DEUG_2015_7', 'CAMEO_DEUG_2015_8',\n",
      "       'CAMEO_DEUG_2015_9', 'GEBAEUDETYP_2.0', 'GEBAEUDETYP_3.0',\n",
      "       'GEBAEUDETYP_4.0', 'GEBAEUDETYP_5.0', 'GEBAEUDETYP_6.0',\n",
      "       'GEBAEUDETYP_8.0', 'LP_FAMILIE_FEIN_2.0', 'LP_FAMILIE_FEIN_3.0',\n",
      "       'LP_FAMILIE_FEIN_4.0', 'LP_FAMILIE_FEIN_5.0', 'LP_FAMILIE_FEIN_6.0',\n",
      "       'LP_FAMILIE_FEIN_7.0', 'LP_FAMILIE_FEIN_8.0', 'LP_FAMILIE_FEIN_9.0',\n",
      "       'LP_FAMILIE_FEIN_10.0', 'LP_FAMILIE_FEIN_11.0', 'CAMEO_DEU_2015_1B',\n",
      "       'CAMEO_DEU_2015_1C', 'CAMEO_DEU_2015_1D', 'CAMEO_DEU_2015_1E',\n",
      "       'CAMEO_DEU_2015_2A', 'CAMEO_DEU_2015_2B', 'CAMEO_DEU_2015_2C',\n",
      "       'CAMEO_DEU_2015_2D', 'CAMEO_DEU_2015_3A', 'CAMEO_DEU_2015_3B',\n",
      "       'CAMEO_DEU_2015_3C', 'CAMEO_DEU_2015_3D', 'CAMEO_DEU_2015_4A',\n",
      "       'CAMEO_DEU_2015_4B', 'CAMEO_DEU_2015_4C', 'CAMEO_DEU_2015_4D',\n",
      "       'CAMEO_DEU_2015_4E', 'CAMEO_DEU_2015_5A', 'CAMEO_DEU_2015_5B',\n",
      "       'CAMEO_DEU_2015_5C', 'CAMEO_DEU_2015_5D', 'CAMEO_DEU_2015_5E',\n",
      "       'CAMEO_DEU_2015_5F', 'CAMEO_DEU_2015_6A', 'CAMEO_DEU_2015_6B',\n",
      "       'CAMEO_DEU_2015_6C', 'CAMEO_DEU_2015_6D', 'CAMEO_DEU_2015_6E',\n",
      "       'CAMEO_DEU_2015_6F', 'CAMEO_DEU_2015_7A', 'CAMEO_DEU_2015_7B',\n",
      "       'CAMEO_DEU_2015_7C', 'CAMEO_DEU_2015_7D', 'CAMEO_DEU_2015_7E',\n",
      "       'CAMEO_DEU_2015_8A', 'CAMEO_DEU_2015_8B', 'CAMEO_DEU_2015_8C',\n",
      "       'CAMEO_DEU_2015_8D', 'CAMEO_DEU_2015_9A', 'CAMEO_DEU_2015_9B',\n",
      "       'CAMEO_DEU_2015_9C', 'CAMEO_DEU_2015_9D', 'CAMEO_DEU_2015_9E',\n",
      "       'CJT_GESAMTTYP_2.0', 'CJT_GESAMTTYP_3.0', 'CJT_GESAMTTYP_4.0',\n",
      "       'CJT_GESAMTTYP_5.0', 'CJT_GESAMTTYP_6.0', 'NATIONALITAET_KZ_2.0',\n",
      "       'NATIONALITAET_KZ_3.0', 'LP_STATUS_GROB_2.0', 'LP_STATUS_GROB_3.0',\n",
      "       'LP_STATUS_GROB_4.0', 'LP_STATUS_GROB_5.0'],\n",
      "      dtype='object')\n"
     ]
    }
   ],
   "source": [
    "# Print all column names\n",
    "import pprint\n",
    "pd.set_option('display.max_seq_items',None)\n",
    "pprint.pprint(no_row_missing.columns)"
   ]
  },
  {
   "cell_type": "code",
   "execution_count": 22,
   "metadata": {},
   "outputs": [
    {
     "name": "stdout",
     "output_type": "stream",
     "text": [
      "<class 'pandas.core.frame.DataFrame'>\n",
      "Int64Index: 774743 entries, 1 to 891220\n",
      "Columns: 181 entries, ALTERSKATEGORIE_GROB to LP_STATUS_GROB_5.0\n",
      "dtypes: object(65), uint8(116)\n",
      "memory usage: 475.8+ MB\n"
     ]
    }
   ],
   "source": [
    "no_row_missing.info()"
   ]
  },
  {
   "cell_type": "code",
   "execution_count": 23,
   "metadata": {},
   "outputs": [
    {
     "data": {
      "text/html": [
       "<div>\n",
       "<style>\n",
       "    .dataframe thead tr:only-child th {\n",
       "        text-align: right;\n",
       "    }\n",
       "\n",
       "    .dataframe thead th {\n",
       "        text-align: left;\n",
       "    }\n",
       "\n",
       "    .dataframe tbody tr th {\n",
       "        vertical-align: top;\n",
       "    }\n",
       "</style>\n",
       "<table border=\"1\" class=\"dataframe\">\n",
       "  <thead>\n",
       "    <tr style=\"text-align: right;\">\n",
       "      <th></th>\n",
       "      <th>ALTERSKATEGORIE_GROB</th>\n",
       "      <th>ANREDE_KZ</th>\n",
       "      <th>FINANZ_MINIMALIST</th>\n",
       "      <th>FINANZ_SPARER</th>\n",
       "      <th>FINANZ_VORSORGER</th>\n",
       "      <th>FINANZ_ANLEGER</th>\n",
       "      <th>FINANZ_UNAUFFAELLIGER</th>\n",
       "      <th>FINANZ_HAUSBAUER</th>\n",
       "      <th>GREEN_AVANTGARDE</th>\n",
       "      <th>HEALTH_TYP</th>\n",
       "      <th>...</th>\n",
       "      <th>CJT_GESAMTTYP_3.0</th>\n",
       "      <th>CJT_GESAMTTYP_4.0</th>\n",
       "      <th>CJT_GESAMTTYP_5.0</th>\n",
       "      <th>CJT_GESAMTTYP_6.0</th>\n",
       "      <th>NATIONALITAET_KZ_2.0</th>\n",
       "      <th>NATIONALITAET_KZ_3.0</th>\n",
       "      <th>LP_STATUS_GROB_2.0</th>\n",
       "      <th>LP_STATUS_GROB_3.0</th>\n",
       "      <th>LP_STATUS_GROB_4.0</th>\n",
       "      <th>LP_STATUS_GROB_5.0</th>\n",
       "    </tr>\n",
       "  </thead>\n",
       "  <tbody>\n",
       "    <tr>\n",
       "      <th>1</th>\n",
       "      <td>1</td>\n",
       "      <td>2</td>\n",
       "      <td>1</td>\n",
       "      <td>5</td>\n",
       "      <td>2</td>\n",
       "      <td>5</td>\n",
       "      <td>4</td>\n",
       "      <td>5</td>\n",
       "      <td>0</td>\n",
       "      <td>3</td>\n",
       "      <td>...</td>\n",
       "      <td>0</td>\n",
       "      <td>0</td>\n",
       "      <td>1</td>\n",
       "      <td>0</td>\n",
       "      <td>0</td>\n",
       "      <td>0</td>\n",
       "      <td>0</td>\n",
       "      <td>0</td>\n",
       "      <td>0</td>\n",
       "      <td>0</td>\n",
       "    </tr>\n",
       "    <tr>\n",
       "      <th>2</th>\n",
       "      <td>3</td>\n",
       "      <td>2</td>\n",
       "      <td>1</td>\n",
       "      <td>4</td>\n",
       "      <td>1</td>\n",
       "      <td>2</td>\n",
       "      <td>3</td>\n",
       "      <td>5</td>\n",
       "      <td>1</td>\n",
       "      <td>3</td>\n",
       "      <td>...</td>\n",
       "      <td>1</td>\n",
       "      <td>0</td>\n",
       "      <td>0</td>\n",
       "      <td>0</td>\n",
       "      <td>0</td>\n",
       "      <td>0</td>\n",
       "      <td>1</td>\n",
       "      <td>0</td>\n",
       "      <td>0</td>\n",
       "      <td>0</td>\n",
       "    </tr>\n",
       "    <tr>\n",
       "      <th>3</th>\n",
       "      <td>4</td>\n",
       "      <td>2</td>\n",
       "      <td>4</td>\n",
       "      <td>2</td>\n",
       "      <td>5</td>\n",
       "      <td>2</td>\n",
       "      <td>1</td>\n",
       "      <td>2</td>\n",
       "      <td>0</td>\n",
       "      <td>2</td>\n",
       "      <td>...</td>\n",
       "      <td>0</td>\n",
       "      <td>0</td>\n",
       "      <td>0</td>\n",
       "      <td>0</td>\n",
       "      <td>0</td>\n",
       "      <td>0</td>\n",
       "      <td>0</td>\n",
       "      <td>0</td>\n",
       "      <td>1</td>\n",
       "      <td>0</td>\n",
       "    </tr>\n",
       "    <tr>\n",
       "      <th>4</th>\n",
       "      <td>3</td>\n",
       "      <td>1</td>\n",
       "      <td>4</td>\n",
       "      <td>3</td>\n",
       "      <td>4</td>\n",
       "      <td>1</td>\n",
       "      <td>3</td>\n",
       "      <td>2</td>\n",
       "      <td>0</td>\n",
       "      <td>3</td>\n",
       "      <td>...</td>\n",
       "      <td>0</td>\n",
       "      <td>0</td>\n",
       "      <td>1</td>\n",
       "      <td>0</td>\n",
       "      <td>0</td>\n",
       "      <td>0</td>\n",
       "      <td>1</td>\n",
       "      <td>0</td>\n",
       "      <td>0</td>\n",
       "      <td>0</td>\n",
       "    </tr>\n",
       "    <tr>\n",
       "      <th>5</th>\n",
       "      <td>1</td>\n",
       "      <td>2</td>\n",
       "      <td>3</td>\n",
       "      <td>1</td>\n",
       "      <td>5</td>\n",
       "      <td>2</td>\n",
       "      <td>2</td>\n",
       "      <td>5</td>\n",
       "      <td>0</td>\n",
       "      <td>3</td>\n",
       "      <td>...</td>\n",
       "      <td>0</td>\n",
       "      <td>0</td>\n",
       "      <td>0</td>\n",
       "      <td>0</td>\n",
       "      <td>0</td>\n",
       "      <td>0</td>\n",
       "      <td>1</td>\n",
       "      <td>0</td>\n",
       "      <td>0</td>\n",
       "      <td>0</td>\n",
       "    </tr>\n",
       "  </tbody>\n",
       "</table>\n",
       "<p>5 rows × 181 columns</p>\n",
       "</div>"
      ],
      "text/plain": [
       "  ALTERSKATEGORIE_GROB ANREDE_KZ FINANZ_MINIMALIST FINANZ_SPARER  \\\n",
       "1                    1         2                 1             5   \n",
       "2                    3         2                 1             4   \n",
       "3                    4         2                 4             2   \n",
       "4                    3         1                 4             3   \n",
       "5                    1         2                 3             1   \n",
       "\n",
       "  FINANZ_VORSORGER FINANZ_ANLEGER FINANZ_UNAUFFAELLIGER FINANZ_HAUSBAUER  \\\n",
       "1                2              5                     4                5   \n",
       "2                1              2                     3                5   \n",
       "3                5              2                     1                2   \n",
       "4                4              1                     3                2   \n",
       "5                5              2                     2                5   \n",
       "\n",
       "  GREEN_AVANTGARDE HEALTH_TYP        ...         CJT_GESAMTTYP_3.0  \\\n",
       "1                0          3        ...                         0   \n",
       "2                1          3        ...                         1   \n",
       "3                0          2        ...                         0   \n",
       "4                0          3        ...                         0   \n",
       "5                0          3        ...                         0   \n",
       "\n",
       "  CJT_GESAMTTYP_4.0 CJT_GESAMTTYP_5.0 CJT_GESAMTTYP_6.0 NATIONALITAET_KZ_2.0  \\\n",
       "1                 0                 1                 0                    0   \n",
       "2                 0                 0                 0                    0   \n",
       "3                 0                 0                 0                    0   \n",
       "4                 0                 1                 0                    0   \n",
       "5                 0                 0                 0                    0   \n",
       "\n",
       "  NATIONALITAET_KZ_3.0 LP_STATUS_GROB_2.0 LP_STATUS_GROB_3.0  \\\n",
       "1                    0                  0                  0   \n",
       "2                    0                  1                  0   \n",
       "3                    0                  0                  0   \n",
       "4                    0                  1                  0   \n",
       "5                    0                  1                  0   \n",
       "\n",
       "  LP_STATUS_GROB_4.0 LP_STATUS_GROB_5.0  \n",
       "1                  0                  0  \n",
       "2                  0                  0  \n",
       "3                  1                  0  \n",
       "4                  0                  0  \n",
       "5                  0                  0  \n",
       "\n",
       "[5 rows x 181 columns]"
      ]
     },
     "execution_count": 23,
     "metadata": {},
     "output_type": "execute_result"
    }
   ],
   "source": [
    "no_row_missing.head()"
   ]
  },
  {
   "cell_type": "markdown",
   "metadata": {},
   "source": [
    "#### Discussion 1.2.1: Re-Encode Categorical Features\n",
    "\n",
    "I decided to keep all categorical features and dummify the ones that were either (1) binary but not numerical, or (2) multi-level. I used Pandas get_dummies to get the dummified columns and then drop the original column."
   ]
  },
  {
   "cell_type": "markdown",
   "metadata": {},
   "source": [
    "#### Step 1.2.2: Engineer Mixed-Type Features\n",
    "\n",
    "There are a handful of features that are marked as \"mixed\" in the feature summary that require special treatment in order to be included in the analysis. There are two in particular that deserve attention; the handling of the rest are up to your own choices:\n",
    "- \"PRAEGENDE_JUGENDJAHRE\" combines information on three dimensions: generation by decade, movement (mainstream vs. avantgarde), and nation (east vs. west). While there aren't enough levels to disentangle east from west, you should create two new variables to capture the other two dimensions: an interval-type variable for decade, and a binary variable for movement.\n",
    "- \"CAMEO_INTL_2015\" combines information on two axes: wealth and life stage. Break up the two-digit codes by their 'tens'-place and 'ones'-place digits into two new ordinal variables (which, for the purposes of this project, is equivalent to just treating them as their raw numeric values).\n",
    "- If you decide to keep or engineer new features around the other mixed-type features, make sure you note your steps in the Discussion section.\n",
    "\n",
    "Be sure to check `Data_Dictionary.md` for the details needed to finish these tasks."
   ]
  },
  {
   "cell_type": "code",
   "execution_count": 24,
   "metadata": {},
   "outputs": [
    {
     "name": "stdout",
     "output_type": "stream",
     "text": [
      "{'LP_LEBENSPHASE_FEIN', 'PLZ8_BAUMAX', 'WOHNLAGE', 'CAMEO_INTL_2015', 'PRAEGENDE_JUGENDJAHRE', 'LP_LEBENSPHASE_GROB'}\n"
     ]
    }
   ],
   "source": [
    "# List all mixed columns\n",
    "\n",
    "mixed_features = set(feat_info[feat_info['type'] == 'mixed']['attribute'].tolist()) & set(no_row_missing.columns)\n",
    "print(mixed_features)"
   ]
  },
  {
   "cell_type": "code",
   "execution_count": 25,
   "metadata": {},
   "outputs": [
    {
     "data": {
      "text/plain": [
       "array([14.0, 15.0, 8.0, 3.0, 10.0, 11.0, 5.0, 9.0, 6.0, 4.0, 2.0, 1.0,\n",
       "       12.0, 13.0, 7.0], dtype=object)"
      ]
     },
     "execution_count": 25,
     "metadata": {},
     "output_type": "execute_result"
    }
   ],
   "source": [
    "# Investigate \"PRAEGENDE_JUGENDJAHRE\" and engineer two new variables.\n",
    "no_row_missing['PRAEGENDE_JUGENDJAHRE'].unique()"
   ]
  },
  {
   "cell_type": "code",
   "execution_count": 26,
   "metadata": {},
   "outputs": [],
   "source": [
    "PRAEGENDE_JUGENDJAHRE_deacde = {\n",
    "    1.0 : 40,\n",
    "    2.0 : 40,\n",
    "    3.0 : 50, \n",
    "    4.0 : 50, \n",
    "    5.0 : 60,\n",
    "    6.0 : 60, \n",
    "    7.0 : 60, \n",
    "    8.0 : 70,\n",
    "    9.0 : 70,\n",
    "    10.0 : 80,\n",
    "    11.0 : 80,\n",
    "    12.0 : 80, \n",
    "    13.0 : 80,\n",
    "    14.0 : 90,\n",
    "    15.0 : 90\n",
    "}\n",
    "\n",
    "# mainstream: 0, avantgarde: 1\n",
    "PRAEGENDE_JUGENDJAHRE_movement = {\n",
    "    1.0 : 0,\n",
    "    2.0 : 1,\n",
    "    3.0 : 0, \n",
    "    4.0 : 1, \n",
    "    5.0 : 0,\n",
    "    6.0 : 1, \n",
    "    7.0 : 1, \n",
    "    8.0 : 0,\n",
    "    9.0 : 1,\n",
    "    10.0 : 0,\n",
    "    11.0 : 1,\n",
    "    12.0 : 0, \n",
    "    13.0 : 1,\n",
    "    14.0 : 0,\n",
    "    15.0 : 1\n",
    "}"
   ]
  },
  {
   "cell_type": "code",
   "execution_count": 27,
   "metadata": {},
   "outputs": [],
   "source": [
    "no_row_missing['PRAEGENDE_JUGENDJAHRE_decade'] = no_row_missing['PRAEGENDE_JUGENDJAHRE'].map(PRAEGENDE_JUGENDJAHRE_deacde)\n",
    "no_row_missing['PRAEGENDE_JUGENDJAHRE_movement'] = no_row_missing['PRAEGENDE_JUGENDJAHRE'].map(PRAEGENDE_JUGENDJAHRE_movement)\n",
    "no_row_missing.drop(['PRAEGENDE_JUGENDJAHRE'], axis=1, inplace=True)"
   ]
  },
  {
   "cell_type": "code",
   "execution_count": 28,
   "metadata": {},
   "outputs": [
    {
     "data": {
      "text/plain": [
       "array(['51', '24', '12', '43', '54', '22', '14', '13', '15', '33', '41',\n",
       "       '34', '55', '25', '23', '31', '52', '35', '45', '44', '32'],\n",
       "      dtype=object)"
      ]
     },
     "execution_count": 28,
     "metadata": {},
     "output_type": "execute_result"
    }
   ],
   "source": [
    "# Investigate \"CAMEO_INTL_2015\" and engineer two new variables.\n",
    "no_row_missing['CAMEO_INTL_2015'].unique()\n"
   ]
  },
  {
   "cell_type": "code",
   "execution_count": 29,
   "metadata": {},
   "outputs": [],
   "source": [
    "no_row_missing['CAMEO_INTL_2015_wealth'] = no_row_missing['CAMEO_INTL_2015'].str[0].astype(np.float)\n",
    "no_row_missing['CAMEO_INTL_2015_life_stage'] = no_row_missing['CAMEO_INTL_2015'].str[1].astype(np.float)\n",
    "no_row_missing.drop(['CAMEO_INTL_2015'], axis=1, inplace=True)"
   ]
  },
  {
   "cell_type": "code",
   "execution_count": 30,
   "metadata": {},
   "outputs": [],
   "source": [
    "# Deal with other mixed features\n",
    "\n",
    "# No clear patterns with these features - Drop them\n",
    "no_row_missing.drop(['LP_LEBENSPHASE_FEIN', 'LP_LEBENSPHASE_GROB', 'WOHNLAGE','PLZ8_BAUMAX'], axis=1, inplace=True)"
   ]
  },
  {
   "cell_type": "markdown",
   "metadata": {},
   "source": [
    "#### Discussion 1.2.2: Engineer Mixed-Type Features\n",
    "*PRAEGENDE_JUGENDJAHRE* and *CAMEO_INTL_2015* were encoded by following the instructions. The remaining mixed-type features are dropped"
   ]
  },
  {
   "cell_type": "markdown",
   "metadata": {},
   "source": [
    "#### Step 1.2.3: Complete Feature Selection\n",
    "\n",
    "In order to finish this step up, you need to make sure that your data frame now only has the columns that you want to keep. To summarize, the dataframe should consist of the following:\n",
    "- All numeric, interval, and ordinal type columns from the original dataset.\n",
    "- Binary categorical features (all numerically-encoded).\n",
    "- Engineered features from other multi-level categorical features and mixed features.\n",
    "\n",
    "Make sure that for any new columns that you have engineered, that you've excluded the original columns from the final dataset. Otherwise, their values will interfere with the analysis later on the project. For example, you should not keep \"PRAEGENDE_JUGENDJAHRE\", since its values won't be useful for the algorithm: only the values derived from it in the engineered features you created should be retained. As a reminder, your data should only be from **the subset with few or no missing values**."
   ]
  },
  {
   "cell_type": "code",
   "execution_count": null,
   "metadata": {},
   "outputs": [],
   "source": [
    "# If there are other re-engineering tasks you need to perform, make sure you\n",
    "# take care of them here. (Dealing with missing data will come in step 2.1.)"
   ]
  },
  {
   "cell_type": "code",
   "execution_count": 31,
   "metadata": {},
   "outputs": [
    {
     "data": {
      "text/plain": [
       "False"
      ]
     },
     "execution_count": 31,
     "metadata": {},
     "output_type": "execute_result"
    }
   ],
   "source": [
    "# Do whatever you need to in order to ensure that the dataframe only contains\n",
    "# the columns that should be passed to the algorithm functions.\n",
    "\n",
    "# Check that there is no NaN in the df. Should be False\n",
    "no_row_missing.isnull().any().any()"
   ]
  },
  {
   "cell_type": "code",
   "execution_count": 32,
   "metadata": {},
   "outputs": [],
   "source": [
    "# Make sure that the df does not contain any columns that should be excluded\n",
    "cols_to_exclude = (mixed_features)| (categorical_features - binary_features)"
   ]
  },
  {
   "cell_type": "code",
   "execution_count": 33,
   "metadata": {},
   "outputs": [
    {
     "data": {
      "text/plain": [
       "20"
      ]
     },
     "execution_count": 33,
     "metadata": {},
     "output_type": "execute_result"
    }
   ],
   "source": [
    "len(cols_to_exclude)"
   ]
  },
  {
   "cell_type": "code",
   "execution_count": 34,
   "metadata": {},
   "outputs": [
    {
     "data": {
      "text/plain": [
       "set()"
      ]
     },
     "execution_count": 34,
     "metadata": {},
     "output_type": "execute_result"
    }
   ],
   "source": [
    "set(no_row_missing.columns) & cols_to_exclude # should be null"
   ]
  },
  {
   "cell_type": "markdown",
   "metadata": {},
   "source": [
    "### Step 1.3: Create a Cleaning Function\n",
    "\n",
    "Even though you've finished cleaning up the general population demographics data, it's important to look ahead to the future and realize that you'll need to perform the same cleaning steps on the customer demographics data. In this substep, complete the function below to execute the main feature selection, encoding, and re-engineering steps you performed above. Then, when it comes to looking at the customer data in Step 3, you can just run this function on that DataFrame to get the trimmed dataset in a single step."
   ]
  },
  {
   "cell_type": "code",
   "execution_count": 35,
   "metadata": {},
   "outputs": [],
   "source": [
    "def clean_data(df):\n",
    "    \"\"\"\n",
    "    Perform feature trimming, re-encoding, and engineering for demographics\n",
    "    data\n",
    "    \n",
    "    INPUT: Demographics DataFrame\n",
    "    OUTPUT: Trimmed and cleaned demographics DataFrame\n",
    "    \"\"\"\n",
    "    \n",
    "    # Make copy of df so we don't change the original    \n",
    "    df = df.copy()\n",
    "    \n",
    "    \n",
    "    # Put in code here to execute all main cleaning steps:\n",
    "    # convert missing value codes into NaNs, ...\n",
    "\n",
    "    for idx, feat in feat_info.iterrows():\n",
    "\n",
    "        attribute = feat['attribute']\n",
    "\n",
    "        # Try converting string representation of list to actual list. If failed, then split up the string between commas to get the elements\n",
    "        try:\n",
    "            missing_or_unknown = ast.literal_eval(feat['missing_or_unknown'])\n",
    "        except:\n",
    "            missing_or_unknown = re.sub(r\"[\\[\\],]\", \" \", feat['missing_or_unknown']).strip().split()\n",
    "\n",
    "        if missing_or_unknown:\n",
    "            idx_missing_unknown = df[attribute].isin(missing_or_unknown) # Identify rows matching the missing value codes\n",
    "            df.loc[idx_missing_unknown, attribute] = np.nan # Replace missing or unknown with NaN\n",
    "\n",
    "    # remove selected columns and rows, ...\n",
    "    \n",
    "    # Drop the outlier_columns\n",
    "    df = df.drop(outlier_cols, axis=1)\n",
    "    \n",
    "    # Remove rows with more than 9 missing columns\n",
    "    missing_per_row = df.isnull().sum(axis=1)\n",
    "    df = df[missing_per_row <= 9]\n",
    "    \n",
    "    # select, re-encode, and engineer column values.\n",
    "    \n",
    "    # Use imputation to fill the NaNs\n",
    "    df = pd.DataFrame(data=imp.transform(df), index=df.index, columns=df.columns)\n",
    "    \n",
    "    # Encode categorical features\n",
    "    df = pd.concat([df, pd.get_dummies(df[list(features_to_encode)], prefix=list(features_to_encode), drop_first=True)], axis=1)\n",
    "    df = df.drop(list(features_to_encode), axis=1)\n",
    "        \n",
    "    # Re-encode \"PRAEGENDE_JUGENDJAHRE\"\n",
    "    \n",
    "    df['PRAEGENDE_JUGENDJAHRE_decade'] = df['PRAEGENDE_JUGENDJAHRE'].map(PRAEGENDE_JUGENDJAHRE_deacde)\n",
    "    df['PRAEGENDE_JUGENDJAHRE_movement'] = df['PRAEGENDE_JUGENDJAHRE'].map(PRAEGENDE_JUGENDJAHRE_movement)\n",
    "    df = df.drop(['PRAEGENDE_JUGENDJAHRE'], axis=1)\n",
    "\n",
    "    # Re-encode  \"CAMEO_INTL_2015\" \n",
    "    df['CAMEO_INTL_2015_wealth'] = df['CAMEO_INTL_2015'].str[0].astype(np.float)\n",
    "    df['CAMEO_INTL_2015_life_stage'] = df['CAMEO_INTL_2015'].str[1].astype(np.float)\n",
    "    df = df.drop(['CAMEO_INTL_2015'], axis=1)\n",
    "    \n",
    "    \n",
    "    # Drop the other mixed features\n",
    "    df = df.drop(['LP_LEBENSPHASE_FEIN', 'LP_LEBENSPHASE_GROB', 'WOHNLAGE','PLZ8_BAUMAX'], axis=1)\n",
    "\n",
    "    # Return the cleaned dataframe.\n",
    "    return df\n",
    "    \n",
    "    "
   ]
  },
  {
   "cell_type": "code",
   "execution_count": null,
   "metadata": {},
   "outputs": [],
   "source": [
    "# Comparing no_row_missing and clean_data(azdias)"
   ]
  },
  {
   "cell_type": "code",
   "execution_count": 36,
   "metadata": {},
   "outputs": [
    {
     "name": "stdout",
     "output_type": "stream",
     "text": [
      "<class 'pandas.core.frame.DataFrame'>\n",
      "Int64Index: 774743 entries, 1 to 891220\n",
      "Columns: 179 entries, ALTERSKATEGORIE_GROB to CAMEO_INTL_2015_life_stage\n",
      "dtypes: float64(2), int64(2), object(59), uint8(116)\n",
      "memory usage: 464.0+ MB\n"
     ]
    }
   ],
   "source": [
    "no_row_missing.info()"
   ]
  },
  {
   "cell_type": "code",
   "execution_count": 48,
   "metadata": {},
   "outputs": [],
   "source": [
    "azdias_clean = clean_data(azdias)"
   ]
  },
  {
   "cell_type": "code",
   "execution_count": 49,
   "metadata": {},
   "outputs": [
    {
     "name": "stdout",
     "output_type": "stream",
     "text": [
      "<class 'pandas.core.frame.DataFrame'>\n",
      "Int64Index: 774743 entries, 1 to 891220\n",
      "Columns: 179 entries, ALTERSKATEGORIE_GROB to CAMEO_INTL_2015_life_stage\n",
      "dtypes: float64(2), int64(2), object(59), uint8(116)\n",
      "memory usage: 464.0+ MB\n"
     ]
    }
   ],
   "source": [
    "azdias_clean.info()"
   ]
  },
  {
   "cell_type": "code",
   "execution_count": 50,
   "metadata": {},
   "outputs": [
    {
     "data": {
      "text/plain": [
       "True"
      ]
     },
     "execution_count": 50,
     "metadata": {},
     "output_type": "execute_result"
    }
   ],
   "source": [
    "# Verify that the two dfs are equal\n",
    "azdias_clean.equals(no_row_missing)"
   ]
  },
  {
   "cell_type": "markdown",
   "metadata": {},
   "source": [
    "## Step 2: Feature Transformation\n",
    "\n",
    "### Step 2.1: Apply Feature Scaling\n",
    "\n",
    "Before we apply dimensionality reduction techniques to the data, we need to perform feature scaling so that the principal component vectors are not influenced by the natural differences in scale for features. Starting from this part of the project, you'll want to keep an eye on the [API reference page for sklearn](http://scikit-learn.org/stable/modules/classes.html) to help you navigate to all of the classes and functions that you'll need. In this substep, you'll need to check the following:\n",
    "\n",
    "- sklearn requires that data not have missing values in order for its estimators to work properly. So, before applying the scaler to your data, make sure that you've cleaned the DataFrame of the remaining missing values. This can be as simple as just removing all data points with missing data, or applying an [Imputer](http://scikit-learn.org/stable/modules/generated/sklearn.preprocessing.Imputer.html) to replace all missing values. You might also try a more complicated procedure where you temporarily remove missing values in order to compute the scaling parameters before re-introducing those missing values and applying imputation. Think about how much missing data you have and what possible effects each approach might have on your analysis, and justify your decision in the discussion section below.\n",
    "- For the actual scaling function, a [StandardScaler](http://scikit-learn.org/stable/modules/generated/sklearn.preprocessing.StandardScaler.html) instance is suggested, scaling each feature to mean 0 and standard deviation 1.\n",
    "- For these classes, you can make use of the `.fit_transform()` method to both fit a procedure to the data as well as apply the transformation to the data at the same time. Don't forget to keep the fit sklearn objects handy, since you'll be applying them to the customer demographics data towards the end of the project."
   ]
  },
  {
   "cell_type": "code",
   "execution_count": 40,
   "metadata": {},
   "outputs": [
    {
     "data": {
      "text/plain": [
       "False"
      ]
     },
     "execution_count": 40,
     "metadata": {},
     "output_type": "execute_result"
    }
   ],
   "source": [
    "# If you've not yet cleaned the dataset of all NaN values, then investigate and\n",
    "# do that now.\n",
    "\n",
    "# Verify that the df has no missing NaN\n",
    "\n",
    "azdias_clean.isnull().any().any()"
   ]
  },
  {
   "cell_type": "code",
   "execution_count": 41,
   "metadata": {},
   "outputs": [
    {
     "name": "stderr",
     "output_type": "stream",
     "text": [
      "/home/paperspace/anaconda3/lib/python3.6/site-packages/sklearn/preprocessing/data.py:625: DataConversionWarning: Data with input dtype uint8, int64, float64, object were all converted to float64 by StandardScaler.\n",
      "  return self.partial_fit(X, y)\n",
      "/home/paperspace/anaconda3/lib/python3.6/site-packages/sklearn/base.py:462: DataConversionWarning: Data with input dtype uint8, int64, float64, object were all converted to float64 by StandardScaler.\n",
      "  return self.fit(X, **fit_params).transform(X)\n"
     ]
    }
   ],
   "source": [
    "# Apply feature scaling to the general population demographics data.\n",
    "from sklearn.preprocessing import StandardScaler\n",
    "\n",
    "scaler = StandardScaler()\n",
    "X = scaler.fit_transform(azdias_clean)"
   ]
  },
  {
   "cell_type": "code",
   "execution_count": 42,
   "metadata": {},
   "outputs": [
    {
     "data": {
      "text/plain": [
       "True"
      ]
     },
     "execution_count": 42,
     "metadata": {},
     "output_type": "execute_result"
    },
    {
     "data": {
      "text/plain": [
       "True"
      ]
     },
     "execution_count": 42,
     "metadata": {},
     "output_type": "execute_result"
    }
   ],
   "source": [
    "# Verify that the X is properly scaled for each column \n",
    "mean_ = X.mean(axis=0)\n",
    "std_ = X.std(axis=0)\n",
    "\n",
    "np.allclose(mean_, np.zeros(mean_.shape))\n",
    "np.allclose(std_, np.ones(std_.shape))"
   ]
  },
  {
   "cell_type": "markdown",
   "metadata": {},
   "source": [
    "### Discussion 2.1: Apply Feature Scaling\n",
    "\n",
    "StandardScaler was used to scale all columns. The results were verified."
   ]
  },
  {
   "cell_type": "markdown",
   "metadata": {},
   "source": [
    "### Step 2.2: Perform Dimensionality Reduction\n",
    "\n",
    "On your scaled data, you are now ready to apply dimensionality reduction techniques.\n",
    "\n",
    "- Use sklearn's [PCA](http://scikit-learn.org/stable/modules/generated/sklearn.decomposition.PCA.html) class to apply principal component analysis on the data, thus finding the vectors of maximal variance in the data. To start, you should not set any parameters (so all components are computed) or set a number of components that is at least half the number of features (so there's enough features to see the general trend in variability).\n",
    "- Check out the ratio of variance explained by each principal component as well as the cumulative variance explained. Try plotting the cumulative or sequential values using matplotlib's [`plot()`](https://matplotlib.org/api/_as_gen/matplotlib.pyplot.plot.html) function. Based on what you find, select a value for the number of transformed features you'll retain for the clustering part of the project.\n",
    "- Once you've made a choice for the number of components to keep, make sure you re-fit a PCA instance to perform the decided-on transformation."
   ]
  },
  {
   "cell_type": "code",
   "execution_count": 43,
   "metadata": {},
   "outputs": [],
   "source": [
    "# Apply PCA to the data.\n",
    "from sklearn.decomposition import PCA\n",
    "\n",
    "pca = PCA()\n",
    "X_pca = pca.fit_transform(X)"
   ]
  },
  {
   "cell_type": "code",
   "execution_count": 44,
   "metadata": {},
   "outputs": [
    {
     "data": {
      "text/plain": [
       "<Figure size 720x720 with 0 Axes>"
      ]
     },
     "execution_count": 44,
     "metadata": {},
     "output_type": "execute_result"
    },
    {
     "data": {
      "text/plain": [
       "<BarContainer object of 20 artists>"
      ]
     },
     "execution_count": 44,
     "metadata": {},
     "output_type": "execute_result"
    },
    {
     "data": {
      "text/plain": [
       "[<matplotlib.lines.Line2D at 0x7f19eceb7a90>]"
      ]
     },
     "execution_count": 44,
     "metadata": {},
     "output_type": "execute_result"
    },
    {
     "data": {
      "text/plain": [
       "([<matplotlib.axis.XTick at 0x7f19ecec51d0>,\n",
       "  <matplotlib.axis.XTick at 0x7f19eceb8ac8>,\n",
       "  <matplotlib.axis.XTick at 0x7f19eceb8860>,\n",
       "  <matplotlib.axis.XTick at 0x7f19ece0eef0>,\n",
       "  <matplotlib.axis.XTick at 0x7f19ece183c8>,\n",
       "  <matplotlib.axis.XTick at 0x7f19ece188d0>,\n",
       "  <matplotlib.axis.XTick at 0x7f19ece18da0>,\n",
       "  <matplotlib.axis.XTick at 0x7f19ece18828>,\n",
       "  <matplotlib.axis.XTick at 0x7f19ece1f240>,\n",
       "  <matplotlib.axis.XTick at 0x7f19ece1f710>,\n",
       "  <matplotlib.axis.XTick at 0x7f19ece1fbe0>,\n",
       "  <matplotlib.axis.XTick at 0x7f19ece29160>,\n",
       "  <matplotlib.axis.XTick at 0x7f19ece295c0>,\n",
       "  <matplotlib.axis.XTick at 0x7f19ece29ac8>,\n",
       "  <matplotlib.axis.XTick at 0x7f19ece29cf8>,\n",
       "  <matplotlib.axis.XTick at 0x7f19ece32518>,\n",
       "  <matplotlib.axis.XTick at 0x7f19ece298d0>,\n",
       "  <matplotlib.axis.XTick at 0x7f19ece1f2e8>,\n",
       "  <matplotlib.axis.XTick at 0x7f19ece32860>,\n",
       "  <matplotlib.axis.XTick at 0x7f19ece32d68>],\n",
       " <a list of 20 Text xticklabel objects>)"
      ]
     },
     "execution_count": 44,
     "metadata": {},
     "output_type": "execute_result"
    },
    {
     "data": {
      "text/plain": [
       "Text(0.5,0,'Components')"
      ]
     },
     "execution_count": 44,
     "metadata": {},
     "output_type": "execute_result"
    },
    {
     "data": {
      "text/plain": [
       "Text(0,0.5,'Explained Variance Ratio')"
      ]
     },
     "execution_count": 44,
     "metadata": {},
     "output_type": "execute_result"
    },
    {
     "data": {
      "text/plain": [
       "<matplotlib.legend.Legend at 0x7f19ece39160>"
      ]
     },
     "execution_count": 44,
     "metadata": {},
     "output_type": "execute_result"
    },
    {
     "data": {
      "image/png": "[encoded data removed]",
      "text/plain": [
       "<Figure size 720x720 with 1 Axes>"
      ]
     },
     "metadata": {
      "image/png": {
       "height": 589,
       "width": 617
      }
     },
     "output_type": "display_data"
    }
   ],
   "source": [
    "# Investigate the variance accounted for by each principal component.\n",
    "top_k = 20\n",
    "\n",
    "plt.figure(figsize=(10, 10))\n",
    "plt.bar(list(range(1, top_k+1)), pca.explained_variance_ratio_[:top_k], label='Explained Variance Ratio, per component')\n",
    "plt.plot(list(range(1, top_k+1)), pca.explained_variance_ratio_.cumsum()[:top_k], '--r', label='Explained Variance Ratio, Cumulative')\n",
    "plt.xticks(list(range(1, top_k+1)))\n",
    "plt.xlabel('Components')\n",
    "plt.ylabel('Explained Variance Ratio')\n",
    "plt.legend()\n",
    "plt.show()"
   ]
  },
  {
   "cell_type": "code",
   "execution_count": 45,
   "metadata": {},
   "outputs": [
    {
     "name": "stdout",
     "output_type": "stream",
     "text": [
      "92\n"
     ]
    }
   ],
   "source": [
    "# Find the smallest number of components to explain at least 85% of the variance\n",
    "\n",
    "min_n_components = np.min(np.argwhere(pca.explained_variance_ratio_.cumsum() > 0.85)) + 1\n",
    "print(min_n_components)"
   ]
  },
  {
   "cell_type": "code",
   "execution_count": 46,
   "metadata": {},
   "outputs": [
    {
     "data": {
      "text/plain": [
       "0.8540035697739198"
      ]
     },
     "execution_count": 46,
     "metadata": {},
     "output_type": "execute_result"
    }
   ],
   "source": [
    "# How much explained_variance_ratio \n",
    "pca.explained_variance_ratio_.cumsum()[min_n_components-1]"
   ]
  },
  {
   "cell_type": "code",
   "execution_count": 47,
   "metadata": {},
   "outputs": [],
   "source": [
    "# Re-apply PCA to the data while selecting for number of components to retain.\n",
    "pca_min = PCA(n_components=min_n_components)\n",
    "X_pca_min = pca_min.fit_transform(X)"
   ]
  },
  {
   "cell_type": "markdown",
   "metadata": {},
   "source": [
    "### Discussion 2.2: Perform Dimensionality Reduction\n",
    "\n",
    "I chose to retain the top 92 components (vs. 179 in the original data set) and achieve 85% of the explained variance ratio. It halves the number of dimensions while explaining most of the variance. "
   ]
  },
  {
   "cell_type": "markdown",
   "metadata": {},
   "source": [
    "### Step 2.3: Interpret Principal Components\n",
    "\n",
    "Now that we have our transformed principal components, it's a nice idea to check out the weight of each variable on the first few components to see if they can be interpreted in some fashion.\n",
    "\n",
    "As a reminder, each principal component is a unit vector that points in the direction of highest variance (after accounting for the variance captured by earlier principal components). The further a weight is from zero, the more the principal component is in the direction of the corresponding feature. If two features have large weights of the same sign (both positive or both negative), then increases in one tend expect to be associated with increases in the other. To contrast, features with different signs can be expected to show a negative correlation: increases in one variable should result in a decrease in the other.\n",
    "\n",
    "- To investigate the features, you should map each weight to their corresponding feature name, then sort the features according to weight. The most interesting features for each principal component, then, will be those at the beginning and end of the sorted list. Use the data dictionary document to help you understand these most prominent features, their relationships, and what a positive or negative value on the principal component might indicate.\n",
    "- You should investigate and interpret feature associations from the first three principal components in this substep. To help facilitate this, you should write a function that you can call at any time to print the sorted list of feature weights, for the *i*-th principal component. This might come in handy in the next step of the project, when you interpret the tendencies of the discovered clusters."
   ]
  },
  {
   "cell_type": "code",
   "execution_count": 51,
   "metadata": {},
   "outputs": [],
   "source": [
    "# HINT: Try defining a function here or in a new cell that you can reuse in the\n",
    "# other cells.\n",
    "import pprint\n",
    "def show_component(component, feat_names):  \n",
    "    s = pd.Series(component, index=feat_names)\n",
    "    s= s.sort_values(ascending=False)\n",
    "    pprint.pprint(s)"
   ]
  },
  {
   "cell_type": "code",
   "execution_count": 52,
   "metadata": {},
   "outputs": [
    {
     "name": "stdout",
     "output_type": "stream",
     "text": [
      "CAMEO_INTL_2015_wealth            0.192903\n",
      "PLZ8_ANTG3                        0.192191\n",
      "HH_EINKOMMEN_SCORE                0.189681\n",
      "PLZ8_ANTG4                        0.184553\n",
      "ORTSGR_KLS9                       0.162331\n",
      "EWDICHTE                          0.160593\n",
      "FINANZ_HAUSBAUER                  0.148791\n",
      "FINANZ_SPARER                     0.138019\n",
      "KBA05_ANTG4                       0.132322\n",
      "PLZ8_ANTG2                        0.131998\n",
      "LP_STATUS_FEIN_2.0                0.128143\n",
      "KBA05_ANTG3                       0.121481\n",
      "ARBEIT                            0.120424\n",
      "CAMEO_DEUG_2015_9                 0.119993\n",
      "ANZ_HAUSHALTE_AKTIV               0.118465\n",
      "RELAT_AB                          0.113167\n",
      "SEMIO_PFLICHT                     0.104804\n",
      "SEMIO_REL                         0.102690\n",
      "PRAEGENDE_JUGENDJAHRE_decade      0.100764\n",
      "CAMEO_DEUG_2015_8                 0.094546\n",
      "SEMIO_RAT                         0.086244\n",
      "ZABEOTYP_5.0                      0.085853\n",
      "SEMIO_TRADV                       0.080882\n",
      "FINANZ_ANLEGER                    0.072199\n",
      "SEMIO_MAT                         0.072019\n",
      "FINANZ_UNAUFFAELLIGER             0.071683\n",
      "SEMIO_FAM                         0.069934\n",
      "GEBAEUDETYP_3.0                   0.068408\n",
      "CAMEO_DEU_2015_8A                 0.066432\n",
      "GFK_URLAUBERTYP_12.0              0.065896\n",
      "                                    ...   \n",
      "CJT_GESAMTTYP_2.0                -0.057487\n",
      "WOHNDAUER_2008                   -0.059438\n",
      "LP_FAMILIE_GROB_5.0              -0.060797\n",
      "KBA13_ANZAHL_PKW                 -0.062868\n",
      "SEMIO_LUST                       -0.067476\n",
      "SEMIO_ERL                        -0.068538\n",
      "CAMEO_DEUG_2015_3                -0.069482\n",
      "CAMEO_DEUG_2015_4                -0.076899\n",
      "ANZ_PERSONEN                     -0.077471\n",
      "FINANZTYP_2.0                    -0.091171\n",
      "CAMEO_DEUG_2015_2                -0.094325\n",
      "GEBAEUDETYP_RASTER               -0.101292\n",
      "BALLRAUM                         -0.101667\n",
      "PRAEGENDE_JUGENDJAHRE_movement   -0.105801\n",
      "GREEN_AVANTGARDE                 -0.105801\n",
      "FINANZ_VORSORGER                 -0.106478\n",
      "ALTERSKATEGORIE_GROB             -0.108280\n",
      "LP_STATUS_FEIN_9.0               -0.114856\n",
      "LP_STATUS_GROB_4.0               -0.116152\n",
      "CAMEO_INTL_2015_life_stage       -0.118822\n",
      "LP_STATUS_FEIN_10.0              -0.120212\n",
      "LP_STATUS_GROB_5.0               -0.120212\n",
      "INNENSTADT                       -0.134504\n",
      "PLZ8_GBZ                         -0.141066\n",
      "KONSUMNAEHE                      -0.142969\n",
      "KBA05_GBZ                        -0.187449\n",
      "KBA05_ANTG1                      -0.190931\n",
      "PLZ8_ANTG1                       -0.193254\n",
      "MOBI_REGIO                       -0.200252\n",
      "FINANZ_MINIMALIST                -0.204158\n",
      "Length: 179, dtype: float64\n"
     ]
    }
   ],
   "source": [
    "# Map weights for the first principal component to corresponding feature names\n",
    "# and then print the linked values, sorted by weight.\n",
    "show_component(pca_min.components_[0], azdias_clean.columns)"
   ]
  },
  {
   "cell_type": "code",
   "execution_count": 53,
   "metadata": {},
   "outputs": [
    {
     "name": "stdout",
     "output_type": "stream",
     "text": [
      "ALTERSKATEGORIE_GROB            0.229054\n",
      "FINANZ_VORSORGER                0.216281\n",
      "ZABEOTYP_3.0                    0.202448\n",
      "SEMIO_ERL                       0.181914\n",
      "SEMIO_LUST                      0.162343\n",
      "RETOURTYP_BK_S                  0.157524\n",
      "W_KEIT_KIND_HH                  0.125406\n",
      "CJT_GESAMTTYP_2.0               0.108686\n",
      "FINANZ_HAUSBAUER                0.107970\n",
      "FINANZTYP_5.0                   0.100410\n",
      "PLZ8_ANTG3                      0.091534\n",
      "EWDICHTE                        0.086714\n",
      "PLZ8_ANTG4                      0.085451\n",
      "ORTSGR_KLS9                     0.085340\n",
      "FINANZTYP_2.0                   0.085120\n",
      "CAMEO_INTL_2015_wealth          0.080697\n",
      "SEMIO_KRIT                      0.078611\n",
      "SHOPPER_TYP_3.0                 0.076194\n",
      "SEMIO_KAEM                      0.068498\n",
      "KBA05_ANTG4                     0.067367\n",
      "FINANZ_MINIMALIST               0.066339\n",
      "PLZ8_ANTG2                      0.064994\n",
      "ARBEIT                          0.064609\n",
      "RELAT_AB                        0.062305\n",
      "GFK_URLAUBERTYP_4.0             0.061835\n",
      "FINANZTYP_6.0                   0.060597\n",
      "ANZ_HAUSHALTE_AKTIV             0.060528\n",
      "HH_EINKOMMEN_SCORE              0.056615\n",
      "LP_STATUS_FEIN_3.0              0.056290\n",
      "WOHNDAUER_2008                  0.051315\n",
      "                                  ...   \n",
      "BALLRAUM                       -0.055849\n",
      "SEMIO_SOZ                      -0.064869\n",
      "ANZ_PERSONEN                   -0.068509\n",
      "PLZ8_GBZ                       -0.068783\n",
      "KONSUMNAEHE                    -0.069116\n",
      "INNENSTADT                     -0.069477\n",
      "KBA05_ANTG1                    -0.071906\n",
      "LP_FAMILIE_GROB_4.0            -0.072634\n",
      "GFK_URLAUBERTYP_9.0            -0.074175\n",
      "LP_STATUS_FEIN_2.0             -0.077744\n",
      "MOBI_REGIO                     -0.078598\n",
      "LP_STATUS_FEIN_5.0             -0.083546\n",
      "FINANZTYP_3.0                  -0.083979\n",
      "KBA05_GBZ                      -0.084739\n",
      "ZABEOTYP_5.0                   -0.085313\n",
      "PLZ8_ANTG1                     -0.089624\n",
      "FINANZTYP_4.0                  -0.096105\n",
      "ZABEOTYP_4.0                   -0.105423\n",
      "SEMIO_MAT                      -0.130262\n",
      "SEMIO_FAM                      -0.135838\n",
      "SEMIO_RAT                      -0.163129\n",
      "ONLINE_AFFINITAET              -0.166734\n",
      "SEMIO_KULT                     -0.169490\n",
      "FINANZ_ANLEGER                 -0.200705\n",
      "SEMIO_PFLICHT                  -0.202825\n",
      "SEMIO_TRADV                    -0.207012\n",
      "FINANZ_UNAUFFAELLIGER          -0.212323\n",
      "SEMIO_REL                      -0.213317\n",
      "FINANZ_SPARER                  -0.217939\n",
      "PRAEGENDE_JUGENDJAHRE_decade   -0.227189\n",
      "Length: 179, dtype: float64\n"
     ]
    }
   ],
   "source": [
    "# Map weights for the second principal component to corresponding feature names\n",
    "# and then print the linked values, sorted by weight.\n",
    "show_component(pca_min.components_[1], azdias_clean.columns)"
   ]
  },
  {
   "cell_type": "code",
   "execution_count": 54,
   "metadata": {},
   "outputs": [
    {
     "name": "stdout",
     "output_type": "stream",
     "text": [
      "SEMIO_VERT                        0.329857\n",
      "SEMIO_FAM                         0.262757\n",
      "SEMIO_SOZ                         0.261780\n",
      "SEMIO_KULT                        0.251618\n",
      "FINANZTYP_5.0                     0.142380\n",
      "FINANZ_MINIMALIST                 0.139016\n",
      "SEMIO_REL                         0.109886\n",
      "SEMIO_MAT                         0.087254\n",
      "GREEN_AVANTGARDE                  0.084040\n",
      "PRAEGENDE_JUGENDJAHRE_movement    0.084040\n",
      "RETOURTYP_BK_S                    0.081319\n",
      "W_KEIT_KIND_HH                    0.064549\n",
      "EWDICHTE                          0.061687\n",
      "ORTSGR_KLS9                       0.061142\n",
      "LP_STATUS_FEIN_10.0               0.061029\n",
      "LP_STATUS_GROB_5.0                0.061029\n",
      "FINANZ_VORSORGER                  0.055178\n",
      "ZABEOTYP_6.0                      0.051167\n",
      "LP_STATUS_FEIN_3.0                0.048917\n",
      "PLZ8_ANTG3                        0.044516\n",
      "PLZ8_ANTG4                        0.043402\n",
      "SHOPPER_TYP_1.0                   0.041021\n",
      "PLZ8_ANTG2                        0.034347\n",
      "RELAT_AB                          0.033416\n",
      "LP_STATUS_GROB_3.0                0.032716\n",
      "SEMIO_LUST                        0.031479\n",
      "ARBEIT                            0.030049\n",
      "NATIONALITAET_KZ_2.0              0.030009\n",
      "LP_FAMILIE_FEIN_2.0               0.028845\n",
      "LP_FAMILIE_GROB_2.0               0.028845\n",
      "                                    ...   \n",
      "ZABEOTYP_3.0                     -0.030335\n",
      "LP_FAMILIE_FEIN_5.0              -0.030408\n",
      "GFK_URLAUBERTYP_9.0              -0.031461\n",
      "SEMIO_PFLICHT                    -0.032300\n",
      "NATIONALITAET_KZ_3.0             -0.032620\n",
      "GEBAEUDETYP_RASTER               -0.036732\n",
      "PLZ8_ANTG1                       -0.041287\n",
      "KKK                              -0.041807\n",
      "LP_FAMILIE_FEIN_4.0              -0.042203\n",
      "SHOPPER_TYP_3.0                  -0.043914\n",
      "HH_EINKOMMEN_SCORE               -0.044587\n",
      "KONSUMNAEHE                      -0.045478\n",
      "FINANZ_UNAUFFAELLIGER            -0.048368\n",
      "BALLRAUM                         -0.049235\n",
      "INNENSTADT                       -0.054680\n",
      "LP_FAMILIE_GROB_3.0              -0.058897\n",
      "PRAEGENDE_JUGENDJAHRE_decade     -0.062422\n",
      "FINANZ_SPARER                    -0.062723\n",
      "ZABEOTYP_4.0                     -0.064608\n",
      "FINANZ_HAUSBAUER                 -0.066810\n",
      "LP_STATUS_FEIN_4.0               -0.073133\n",
      "LP_STATUS_FEIN_2.0               -0.084399\n",
      "SHOPPER_TYP_2.0                  -0.095703\n",
      "FINANZ_ANLEGER                   -0.162231\n",
      "SEMIO_RAT                        -0.164609\n",
      "SEMIO_ERL                        -0.204029\n",
      "SEMIO_KRIT                       -0.268588\n",
      "SEMIO_DOM                        -0.290247\n",
      "SEMIO_KAEM                       -0.322880\n",
      "ANREDE_KZ                        -0.353846\n",
      "Length: 179, dtype: float64\n"
     ]
    }
   ],
   "source": [
    "# Map weights for the third principal component to corresponding feature names\n",
    "# and then print the linked values, sorted by weight.\n",
    "show_component(pca_min.components_[2], azdias_clean.columns)"
   ]
  },
  {
   "cell_type": "markdown",
   "metadata": {},
   "source": [
    "### Discussion 2.3: Interpret Principal Components\n",
    "\n",
    "#### For component 1 (top 2 positive and top 2 negative attributes): seems to point in the direction of poverty (positively correlated with very large families and low wealth typology, and with high typology of low financial interest and high movement)\n",
    "\n",
    "* CAMEO_INTL_2015_wealth: wealth typology (Wealthy 1 to Poor 5)\n",
    "* PLZ8_ANTG3: Number of 6-10 family houses in the PLZ8 region (0 no 6-10 family homes to 3 high share of 6-10 family homes)                     \n",
    "* FINANZ_MINIMALIST: financial typology, low financial interest (Very High 1 to Very Low 5)             \n",
    "* MOBI_REGIO: movement patterns (Very high movement 1 to None 6)    \n",
    "\n",
    "#### For component 2 (top 2 positive and top 2 negative attributes): seems to point in the direction of older people (older aged names, earlier decade, more religious, less 'be prepared', more 'money saver') \n",
    "\n",
    "* ALTERSKATEGORIE_GROB: estimated age based on given name (1 <30 years old to 4 >60 years old) \n",
    "* FINANZ_VORSORGER: financial typology, be prepared (1 very high to 5 very low)\n",
    "* PRAEGENDE_JUGENDJAHRE_decade: movement of person's youth, decade\n",
    "* FINANZ_SPARER: money saver, lower value means Very High \n",
    "\n",
    "#### For component 3 (top 2 positive and top 2 negative attributes): in the direction of being more male (less socially minded and dreamful, more combative) and also negative in the gender dimension (more male)\n",
    "\n",
    "* SEMIO_VERT: personality typology, dreamful  (1 highest affinity to 7 lowest affinity)                       \n",
    "* SEMIO_FAM:  personality typology, family minded (1 highest affinity to 7 lowest affinity)                \n",
    "* SEMIO_KAEM:  personality typology, combative attitude (1 highest affinity to 7 lowest affinity)                   \n",
    "* ANREDE_KZ:   gender (1 male to 2 female)\n"
   ]
  },
  {
   "cell_type": "markdown",
   "metadata": {},
   "source": [
    "## Step 3: Clustering\n",
    "\n",
    "### Step 3.1: Apply Clustering to General Population\n",
    "\n",
    "You've assessed and cleaned the demographics data, then scaled and transformed them. Now, it's time to see how the data clusters in the principal components space. In this substep, you will apply k-means clustering to the dataset and use the average within-cluster distances from each point to their assigned cluster's centroid to decide on a number of clusters to keep.\n",
    "\n",
    "- Use sklearn's [KMeans](http://scikit-learn.org/stable/modules/generated/sklearn.cluster.KMeans.html#sklearn.cluster.KMeans) class to perform k-means clustering on the PCA-transformed data.\n",
    "- Then, compute the average difference from each point to its assigned cluster's center. **Hint**: The KMeans object's `.score()` method might be useful here, but note that in sklearn, scores tend to be defined so that larger is better. Try applying it to a small, toy dataset, or use an internet search to help your understanding.\n",
    "- Perform the above two steps for a number of different cluster counts. You can then see how the average distance decreases with an increasing number of clusters. However, each additional cluster provides a smaller net benefit. Use this fact to select a final number of clusters in which to group the data. **Warning**: because of the large size of the dataset, it can take a long time for the algorithm to resolve. The more clusters to fit, the longer the algorithm will take. You should test for cluster counts through at least 10 clusters to get the full picture, but you shouldn't need to test for a number of clusters above about 30.\n",
    "- Once you've selected a final number of clusters to use, re-fit a KMeans instance to perform the clustering operation. Make sure that you also obtain the cluster assignments for the general demographics data, since you'll be using them in the final Step 3.3."
   ]
  },
  {
   "cell_type": "code",
   "execution_count": 55,
   "metadata": {},
   "outputs": [
    {
     "data": {
      "text/plain": [
       "KMeans(algorithm='auto', copy_x=True, init='k-means++', max_iter=300,\n",
       "    n_clusters=2, n_init=10, n_jobs=None, precompute_distances='auto',\n",
       "    random_state=0, tol=0.0001, verbose=0)"
      ]
     },
     "execution_count": 55,
     "metadata": {},
     "output_type": "execute_result"
    },
    {
     "data": {
      "text/plain": [
       "KMeans(algorithm='auto', copy_x=True, init='k-means++', max_iter=300,\n",
       "    n_clusters=3, n_init=10, n_jobs=None, precompute_distances='auto',\n",
       "    random_state=0, tol=0.0001, verbose=0)"
      ]
     },
     "execution_count": 55,
     "metadata": {},
     "output_type": "execute_result"
    },
    {
     "data": {
      "text/plain": [
       "KMeans(algorithm='auto', copy_x=True, init='k-means++', max_iter=300,\n",
       "    n_clusters=4, n_init=10, n_jobs=None, precompute_distances='auto',\n",
       "    random_state=0, tol=0.0001, verbose=0)"
      ]
     },
     "execution_count": 55,
     "metadata": {},
     "output_type": "execute_result"
    },
    {
     "data": {
      "text/plain": [
       "KMeans(algorithm='auto', copy_x=True, init='k-means++', max_iter=300,\n",
       "    n_clusters=5, n_init=10, n_jobs=None, precompute_distances='auto',\n",
       "    random_state=0, tol=0.0001, verbose=0)"
      ]
     },
     "execution_count": 55,
     "metadata": {},
     "output_type": "execute_result"
    },
    {
     "data": {
      "text/plain": [
       "KMeans(algorithm='auto', copy_x=True, init='k-means++', max_iter=300,\n",
       "    n_clusters=6, n_init=10, n_jobs=None, precompute_distances='auto',\n",
       "    random_state=0, tol=0.0001, verbose=0)"
      ]
     },
     "execution_count": 55,
     "metadata": {},
     "output_type": "execute_result"
    },
    {
     "data": {
      "text/plain": [
       "KMeans(algorithm='auto', copy_x=True, init='k-means++', max_iter=300,\n",
       "    n_clusters=7, n_init=10, n_jobs=None, precompute_distances='auto',\n",
       "    random_state=0, tol=0.0001, verbose=0)"
      ]
     },
     "execution_count": 55,
     "metadata": {},
     "output_type": "execute_result"
    },
    {
     "data": {
      "text/plain": [
       "KMeans(algorithm='auto', copy_x=True, init='k-means++', max_iter=300,\n",
       "    n_clusters=8, n_init=10, n_jobs=None, precompute_distances='auto',\n",
       "    random_state=0, tol=0.0001, verbose=0)"
      ]
     },
     "execution_count": 55,
     "metadata": {},
     "output_type": "execute_result"
    },
    {
     "data": {
      "text/plain": [
       "KMeans(algorithm='auto', copy_x=True, init='k-means++', max_iter=300,\n",
       "    n_clusters=9, n_init=10, n_jobs=None, precompute_distances='auto',\n",
       "    random_state=0, tol=0.0001, verbose=0)"
      ]
     },
     "execution_count": 55,
     "metadata": {},
     "output_type": "execute_result"
    },
    {
     "data": {
      "text/plain": [
       "KMeans(algorithm='auto', copy_x=True, init='k-means++', max_iter=300,\n",
       "    n_clusters=10, n_init=10, n_jobs=None, precompute_distances='auto',\n",
       "    random_state=0, tol=0.0001, verbose=0)"
      ]
     },
     "execution_count": 55,
     "metadata": {},
     "output_type": "execute_result"
    },
    {
     "data": {
      "text/plain": [
       "KMeans(algorithm='auto', copy_x=True, init='k-means++', max_iter=300,\n",
       "    n_clusters=11, n_init=10, n_jobs=None, precompute_distances='auto',\n",
       "    random_state=0, tol=0.0001, verbose=0)"
      ]
     },
     "execution_count": 55,
     "metadata": {},
     "output_type": "execute_result"
    },
    {
     "data": {
      "text/plain": [
       "KMeans(algorithm='auto', copy_x=True, init='k-means++', max_iter=300,\n",
       "    n_clusters=12, n_init=10, n_jobs=None, precompute_distances='auto',\n",
       "    random_state=0, tol=0.0001, verbose=0)"
      ]
     },
     "execution_count": 55,
     "metadata": {},
     "output_type": "execute_result"
    },
    {
     "data": {
      "text/plain": [
       "KMeans(algorithm='auto', copy_x=True, init='k-means++', max_iter=300,\n",
       "    n_clusters=13, n_init=10, n_jobs=None, precompute_distances='auto',\n",
       "    random_state=0, tol=0.0001, verbose=0)"
      ]
     },
     "execution_count": 55,
     "metadata": {},
     "output_type": "execute_result"
    },
    {
     "data": {
      "text/plain": [
       "KMeans(algorithm='auto', copy_x=True, init='k-means++', max_iter=300,\n",
       "    n_clusters=14, n_init=10, n_jobs=None, precompute_distances='auto',\n",
       "    random_state=0, tol=0.0001, verbose=0)"
      ]
     },
     "execution_count": 55,
     "metadata": {},
     "output_type": "execute_result"
    },
    {
     "data": {
      "text/plain": [
       "KMeans(algorithm='auto', copy_x=True, init='k-means++', max_iter=300,\n",
       "    n_clusters=15, n_init=10, n_jobs=None, precompute_distances='auto',\n",
       "    random_state=0, tol=0.0001, verbose=0)"
      ]
     },
     "execution_count": 55,
     "metadata": {},
     "output_type": "execute_result"
    },
    {
     "data": {
      "text/plain": [
       "KMeans(algorithm='auto', copy_x=True, init='k-means++', max_iter=300,\n",
       "    n_clusters=16, n_init=10, n_jobs=None, precompute_distances='auto',\n",
       "    random_state=0, tol=0.0001, verbose=0)"
      ]
     },
     "execution_count": 55,
     "metadata": {},
     "output_type": "execute_result"
    },
    {
     "data": {
      "text/plain": [
       "KMeans(algorithm='auto', copy_x=True, init='k-means++', max_iter=300,\n",
       "    n_clusters=17, n_init=10, n_jobs=None, precompute_distances='auto',\n",
       "    random_state=0, tol=0.0001, verbose=0)"
      ]
     },
     "execution_count": 55,
     "metadata": {},
     "output_type": "execute_result"
    },
    {
     "data": {
      "text/plain": [
       "KMeans(algorithm='auto', copy_x=True, init='k-means++', max_iter=300,\n",
       "    n_clusters=18, n_init=10, n_jobs=None, precompute_distances='auto',\n",
       "    random_state=0, tol=0.0001, verbose=0)"
      ]
     },
     "execution_count": 55,
     "metadata": {},
     "output_type": "execute_result"
    },
    {
     "data": {
      "text/plain": [
       "KMeans(algorithm='auto', copy_x=True, init='k-means++', max_iter=300,\n",
       "    n_clusters=19, n_init=10, n_jobs=None, precompute_distances='auto',\n",
       "    random_state=0, tol=0.0001, verbose=0)"
      ]
     },
     "execution_count": 55,
     "metadata": {},
     "output_type": "execute_result"
    }
   ],
   "source": [
    "from sklearn.cluster import KMeans\n",
    "\n",
    "avg_cluster_dist = []\n",
    "n_clusters = []\n",
    "\n",
    "for n in range(2, 20):\n",
    "    kmeans = KMeans(n, random_state=0)\n",
    "    kmeans.fit(X_pca_min)  \n",
    "    \n",
    "    # Calculate the sqrt of the average of the squared distance\n",
    "    dist_ = np.sqrt(kmeans.inertia_ / len(X_pca_min))\n",
    "    \n",
    "    n_clusters.append(n)\n",
    "    avg_cluster_dist.append(dist_)"
   ]
  },
  {
   "cell_type": "code",
   "execution_count": 56,
   "metadata": {},
   "outputs": [
    {
     "data": {
      "text/plain": [
       "[<matplotlib.lines.Line2D at 0x7f189838cbe0>]"
      ]
     },
     "execution_count": 56,
     "metadata": {},
     "output_type": "execute_result"
    },
    {
     "data": {
      "text/plain": [
       "Text(0.5,0,'Number of clusters')"
      ]
     },
     "execution_count": 56,
     "metadata": {},
     "output_type": "execute_result"
    },
    {
     "data": {
      "text/plain": [
       "Text(0,0.5,'Average distance to cluster centers')"
      ]
     },
     "execution_count": 56,
     "metadata": {},
     "output_type": "execute_result"
    },
    {
     "data": {
      "text/plain": [
       "([<matplotlib.axis.XTick at 0x7f189abacf98>,\n",
       "  <matplotlib.axis.XTick at 0x7f189abac898>,\n",
       "  <matplotlib.axis.XTick at 0x7f189abac5f8>,\n",
       "  <matplotlib.axis.XTick at 0x7f1897339160>,\n",
       "  <matplotlib.axis.XTick at 0x7f1897339a20>,\n",
       "  <matplotlib.axis.XTick at 0x7f1897339ef0>,\n",
       "  <matplotlib.axis.XTick at 0x7f1885a45400>,\n",
       "  <matplotlib.axis.XTick at 0x7f1885a458d0>,\n",
       "  <matplotlib.axis.XTick at 0x7f1885a45da0>,\n",
       "  <matplotlib.axis.XTick at 0x7f1885a459b0>,\n",
       "  <matplotlib.axis.XTick at 0x7f1897339d68>,\n",
       "  <matplotlib.axis.XTick at 0x7f19eceb79b0>,\n",
       "  <matplotlib.axis.XTick at 0x7f19eceb0e48>,\n",
       "  <matplotlib.axis.XTick at 0x7f1887578630>,\n",
       "  <matplotlib.axis.XTick at 0x7f1887578b00>,\n",
       "  <matplotlib.axis.XTick at 0x7f1887578d30>,\n",
       "  <matplotlib.axis.XTick at 0x7f1888b9a4e0>,\n",
       "  <matplotlib.axis.XTick at 0x7f1888b9a9b0>],\n",
       " <a list of 18 Text xticklabel objects>)"
      ]
     },
     "execution_count": 56,
     "metadata": {},
     "output_type": "execute_result"
    },
    {
     "data": {
      "image/png": "[encoded data removed]",
      "text/plain": [
       "<Figure size 432x288 with 1 Axes>"
      ]
     },
     "metadata": {
      "image/png": {
       "height": 263,
       "width": 393
      }
     },
     "output_type": "display_data"
    }
   ],
   "source": [
    "# Investigate the change in within-cluster distance across number of clusters.\n",
    "# HINT: Use matplotlib's plot function to visualize this relationship.\n",
    "\n",
    "plt.plot(n_clusters, avg_cluster_dist)\n",
    "plt.xlabel(\"Number of clusters\")\n",
    "plt.ylabel(\"Average distance to cluster centers\")\n",
    "plt.xticks(n_clusters)\n",
    "plt.show()\n"
   ]
  },
  {
   "cell_type": "code",
   "execution_count": 57,
   "metadata": {},
   "outputs": [
    {
     "data": {
      "text/plain": [
       "[11.916769003324534,\n",
       " 11.691000772245168,\n",
       " 11.540078279619207,\n",
       " 11.41304498863432,\n",
       " 11.329057804042263,\n",
       " 11.250311717229696,\n",
       " 11.201638799028713,\n",
       " 11.141715132236323,\n",
       " 11.107206499745931,\n",
       " 11.044317492513105,\n",
       " 11.004348857385002,\n",
       " 10.966171584652244,\n",
       " 10.92900872322883,\n",
       " 10.890769900673698,\n",
       " 10.862008485568078,\n",
       " 10.81295965313457,\n",
       " 10.772567110130304,\n",
       " 10.767651534125639]"
      ]
     },
     "execution_count": 57,
     "metadata": {},
     "output_type": "execute_result"
    }
   ],
   "source": [
    "avg_cluster_dist"
   ]
  },
  {
   "cell_type": "code",
   "execution_count": 58,
   "metadata": {},
   "outputs": [
    {
     "data": {
      "text/plain": [
       "array([-0.22576823, -0.15092249, -0.12703329, -0.08398718, -0.07874609,\n",
       "       -0.04867292, -0.05992367, -0.03450863, -0.06288901, -0.03996864,\n",
       "       -0.03817727, -0.03716286, -0.03823882, -0.02876142, -0.04904883,\n",
       "       -0.04039254, -0.00491558])"
      ]
     },
     "execution_count": 58,
     "metadata": {},
     "output_type": "execute_result"
    }
   ],
   "source": [
    "# Calculate the drop between successive KMeans with additional clusters\n",
    "np.diff(avg_cluster_dist)"
   ]
  },
  {
   "cell_type": "code",
   "execution_count": null,
   "metadata": {},
   "outputs": [],
   "source": [
    "# n_clusters = 17 seems to hit a low point, diff = -0.0497424"
   ]
  },
  {
   "cell_type": "code",
   "execution_count": 63,
   "metadata": {},
   "outputs": [
    {
     "data": {
      "text/plain": [
       "10.81295965313457"
      ]
     },
     "execution_count": 63,
     "metadata": {},
     "output_type": "execute_result"
    }
   ],
   "source": [
    "avg_cluster_dist[15]"
   ]
  },
  {
   "cell_type": "code",
   "execution_count": 64,
   "metadata": {},
   "outputs": [],
   "source": [
    "# Re-fit the k-means model with the selected number of clusters and obtain\n",
    "# cluster predictions for the general population demographics data.\n",
    "\n",
    "kmeans_final = KMeans(n_clusters=17, random_state=0)\n",
    "pred_general = kmeans_final.fit_predict(X_pca_min)"
   ]
  },
  {
   "cell_type": "markdown",
   "metadata": {},
   "source": [
    "### Discussion 3.1: Apply Clustering to General Population\n",
    "\n",
    "Based on visualization, n_clusters = 17 appears to be a good point to stop since the improvement slows down after that point"
   ]
  },
  {
   "cell_type": "markdown",
   "metadata": {},
   "source": [
    "### Step 3.2: Apply All Steps to the Customer Data\n",
    "\n",
    "Now that you have clusters and cluster centers for the general population, it's time to see how the customer data maps on to those clusters. Take care to not confuse this for re-fitting all of the models to the customer data. Instead, you're going to use the fits from the general population to clean, transform, and cluster the customer data. In the last step of the project, you will interpret how the general population fits apply to the customer data.\n",
    "\n",
    "- Don't forget when loading in the customers data, that it is semicolon (`;`) delimited.\n",
    "- Apply the same feature wrangling, selection, and engineering steps to the customer demographics using the `clean_data()` function you created earlier. (You can assume that the customer demographics data has similar meaning behind missing data patterns as the general demographics data.)\n",
    "- Use the sklearn objects from the general demographics data, and apply their transformations to the customers data. That is, you should not be using a `.fit()` or `.fit_transform()` method to re-fit the old objects, nor should you be creating new sklearn objects! Carry the data through the feature scaling, PCA, and clustering steps, obtaining cluster assignments for all of the data in the customer demographics data."
   ]
  },
  {
   "cell_type": "code",
   "execution_count": 65,
   "metadata": {},
   "outputs": [],
   "source": [
    "# Load in the customer demographics data.\n",
    "customers = pd.read_csv('./Udacity_CUSTOMERS_Subset.csv', sep=';')"
   ]
  },
  {
   "cell_type": "code",
   "execution_count": 66,
   "metadata": {},
   "outputs": [
    {
     "name": "stderr",
     "output_type": "stream",
     "text": [
      "/home/paperspace/anaconda3/lib/python3.6/site-packages/ipykernel_launcher.py:10: DataConversionWarning: Data with input dtype uint8, int64, float64, object were all converted to float64 by StandardScaler.\n",
      "  # Remove the CWD from sys.path while we load stuff.\n"
     ]
    }
   ],
   "source": [
    "# Apply preprocessing, feature transformation, and clustering from the general\n",
    "# demographics onto the customer data, obtaining cluster predictions for the\n",
    "# customer demographics data.\n",
    "customer_clean = clean_data(customers)\n",
    "\n",
    "# Deal with missing columns due to customer data set not having all of the levels for some categorical variables\n",
    "missing_cols = set(azdias_clean.columns) - set(customer_clean.columns)\n",
    "for c in missing_cols:\n",
    "    customer_clean[c] = 0.0\n",
    "customer_scaled = scaler.transform(customer_clean)\n",
    "customer_pca = pca_min.transform(customer_scaled)\n",
    "pred_customer = kmeans_final.predict(customer_pca)"
   ]
  },
  {
   "cell_type": "markdown",
   "metadata": {},
   "source": [
    "### Step 3.3: Compare Customer Data to Demographics Data\n",
    "\n",
    "At this point, you have clustered data based on demographics of the general population of Germany, and seen how the customer data for a mail-order sales company maps onto those demographic clusters. In this final substep, you will compare the two cluster distributions to see where the strongest customer base for the company is.\n",
    "\n",
    "Consider the proportion of persons in each cluster for the general population, and the proportions for the customers. If we think the company's customer base to be universal, then the cluster assignment proportions should be fairly similar between the two. If there are only particular segments of the population that are interested in the company's products, then we should see a mismatch from one to the other. If there is a higher proportion of persons in a cluster for the customer data compared to the general population (e.g. 5% of persons are assigned to a cluster for the general population, but 15% of the customer data is closest to that cluster's centroid) then that suggests the people in that cluster to be a target audience for the company. On the other hand, the proportion of the data in a cluster being larger in the general population than the customer data (e.g. only 2% of customers closest to a population centroid that captures 6% of the data) suggests that group of persons to be outside of the target demographics.\n",
    "\n",
    "Take a look at the following points in this step:\n",
    "\n",
    "- Compute the proportion of data points in each cluster for the general population and the customer data. Visualizations will be useful here: both for the individual dataset proportions, but also to visualize the ratios in cluster representation between groups. Seaborn's [`countplot()`](https://seaborn.pydata.org/generated/seaborn.countplot.html) or [`barplot()`](https://seaborn.pydata.org/generated/seaborn.barplot.html) function could be handy.\n",
    "  - Recall the analysis you performed in step 1.1.3 of the project, where you separated out certain data points from the dataset if they had more than a specified threshold of missing values. If you found that this group was qualitatively different from the main bulk of the data, you should treat this as an additional data cluster in this analysis. Make sure that you account for the number of data points in this subset, for both the general population and customer datasets, when making your computations!\n",
    "- Which cluster or clusters are overrepresented in the customer dataset compared to the general population? Select at least one such cluster and infer what kind of people might be represented by that cluster. Use the principal component interpretations from step 2.3 or look at additional components to help you make this inference. Alternatively, you can use the `.inverse_transform()` method of the PCA and StandardScaler objects to transform centroids back to the original data space and interpret the retrieved values directly.\n",
    "- Perform a similar investigation for the underrepresented clusters. Which cluster or clusters are underrepresented in the customer dataset compared to the general population, and what kinds of people are typified by these clusters?"
   ]
  },
  {
   "cell_type": "code",
   "execution_count": 70,
   "metadata": {},
   "outputs": [],
   "source": [
    "# Compare the proportion of data in each cluster for the customer data to the\n",
    "# proportion of data in each cluster for the general population.\n",
    "\n",
    "# Count the number of rows with each label\n",
    "bincnt_general = np.bincount(pred_general)\n",
    "bincnt_customer= np.bincount(pred_customer, minlength=np.max(pred_general) + 1)\n",
    "\n",
    "# Count the number of rows from the raw data that is missing from the final clustering\n",
    "n_missing_general = len(azdias) - len(pred_general)\n",
    "n_missing_customer = len(customers) - len(pred_customer)\n",
    "\n",
    "# Treat the missing rows as another cluster\n",
    "bincnt_general = np.append(bincnt_general, [n_missing_general])\n",
    "bincnt_customer = np.append(bincnt_customer, [n_missing_customer])\n",
    "\n",
    "# Normalize the count for general and customer\n",
    "\n",
    "pct_general = bincnt_general / sum(bincnt_general)\n",
    "pct_customer = bincnt_customer / sum(bincnt_customer)\n",
    "\n",
    "clusters = [str(x) for x in range(len(pct_general)-1)] + ['NaN']\n",
    "\n",
    "# What kinds of people are part of a cluster that is overrepresented in the\n",
    "# customer data compared to the general population?\n",
    "\n",
    "customer_general_ratio = pct_customer / pct_general "
   ]
  },
  {
   "cell_type": "code",
   "execution_count": 85,
   "metadata": {},
   "outputs": [],
   "source": [
    "np.set_printoptions(precision=5, suppress=True)"
   ]
  },
  {
   "cell_type": "code",
   "execution_count": 86,
   "metadata": {},
   "outputs": [
    {
     "data": {
      "text/plain": [
       "array([0.00063, 0.     , 0.     , 0.     , 0.0002 , 0.     , 0.     ,\n",
       "       0.     , 0.     , 0.     , 0.     , 0.     , 0.     , 0.     ,\n",
       "       0.70962, 0.     , 0.     , 0.28955])"
      ]
     },
     "execution_count": 86,
     "metadata": {},
     "output_type": "execute_result"
    }
   ],
   "source": [
    "pct_customer"
   ]
  },
  {
   "cell_type": "code",
   "execution_count": 87,
   "metadata": {},
   "outputs": [
    {
     "data": {
      "text/plain": [
       "array([0.00444, 0.03608, 0.03507, 0.1132 , 0.00729, 0.06422, 0.08054,\n",
       "       0.00492, 0.09145, 0.06847, 0.0745 , 0.04089, 0.06242, 0.09415,\n",
       "       0.07468, 0.00469, 0.01231, 0.13069])"
      ]
     },
     "execution_count": 87,
     "metadata": {},
     "output_type": "execute_result"
    }
   ],
   "source": [
    "pct_general"
   ]
  },
  {
   "cell_type": "code",
   "execution_count": 88,
   "metadata": {},
   "outputs": [
    {
     "data": {
      "text/plain": [
       "array([0.14109, 0.     , 0.     , 0.     , 0.02793, 0.     , 0.     ,\n",
       "       0.     , 0.     , 0.     , 0.     , 0.     , 0.     , 0.     ,\n",
       "       9.50219, 0.     , 0.     , 2.21547])"
      ]
     },
     "execution_count": 88,
     "metadata": {},
     "output_type": "execute_result"
    }
   ],
   "source": [
    "customer_general_ratio"
   ]
  },
  {
   "cell_type": "code",
   "execution_count": 89,
   "metadata": {},
   "outputs": [
    {
     "data": {
      "text/plain": [
       "<BarContainer object of 18 artists>"
      ]
     },
     "execution_count": 89,
     "metadata": {},
     "output_type": "execute_result"
    },
    {
     "data": {
      "text/plain": [
       "([<matplotlib.axis.XTick at 0x7f18880de6a0>,\n",
       "  <matplotlib.axis.XTick at 0x7f18881e6f28>,\n",
       "  <matplotlib.axis.XTick at 0x7f18881e6c88>,\n",
       "  <matplotlib.axis.XTick at 0x7f18870673c8>,\n",
       "  <matplotlib.axis.XTick at 0x7f1887067be0>,\n",
       "  <matplotlib.axis.XTick at 0x7f18859b3160>,\n",
       "  <matplotlib.axis.XTick at 0x7f18870676d8>,\n",
       "  <matplotlib.axis.XTick at 0x7f18859b30b8>,\n",
       "  <matplotlib.axis.XTick at 0x7f18859b3b70>,\n",
       "  <matplotlib.axis.XTick at 0x7f18852940f0>,\n",
       "  <matplotlib.axis.XTick at 0x7f1885294550>,\n",
       "  <matplotlib.axis.XTick at 0x7f1885294a58>,\n",
       "  <matplotlib.axis.XTick at 0x7f1885294f60>,\n",
       "  <matplotlib.axis.XTick at 0x7f18852c44a8>,\n",
       "  <matplotlib.axis.XTick at 0x7f18852c49b0>,\n",
       "  <matplotlib.axis.XTick at 0x7f18852c4eb8>,\n",
       "  <matplotlib.axis.XTick at 0x7f1885294b38>,\n",
       "  <matplotlib.axis.XTick at 0x7f18859b37f0>,\n",
       "  <matplotlib.axis.XTick at 0x7f1885206390>,\n",
       "  <matplotlib.axis.XTick at 0x7f1885206898>],\n",
       " <a list of 18 Text xticklabel objects>)"
      ]
     },
     "execution_count": 89,
     "metadata": {},
     "output_type": "execute_result"
    },
    {
     "data": {
      "text/plain": [
       "Text(0.5,0,'Cluster')"
      ]
     },
     "execution_count": 89,
     "metadata": {},
     "output_type": "execute_result"
    },
    {
     "data": {
      "text/plain": [
       "Text(0,0.5,'Customer-General Ratio')"
      ]
     },
     "execution_count": 89,
     "metadata": {},
     "output_type": "execute_result"
    },
    {
     "data": {
      "text/plain": [
       "<matplotlib.lines.Line2D at 0x7f1885206ac8>"
      ]
     },
     "execution_count": 89,
     "metadata": {},
     "output_type": "execute_result"
    },
    {
     "data": {
      "text/plain": [
       "[Text(0,0,'0%'),\n",
       " Text(0,0,'200%'),\n",
       " Text(0,0,'400%'),\n",
       " Text(0,0,'600%'),\n",
       " Text(0,0,'800%'),\n",
       " Text(0,0,'1000%')]"
      ]
     },
     "execution_count": 89,
     "metadata": {},
     "output_type": "execute_result"
    },
    {
     "data": {
      "image/png": "[encoded data removed]",
      "text/plain": [
       "<Figure size 432x288 with 1 Axes>"
      ]
     },
     "metadata": {
      "image/png": {
       "height": 263,
       "width": 400
      }
     },
     "output_type": "display_data"
    }
   ],
   "source": [
    "# Plot with seaborn barplot\n",
    "\n",
    "plt.bar(x=list(range(len(customer_general_ratio) )), height=customer_general_ratio)\n",
    "plt.xticks(list(range(len(customer_general_ratio) + 2)), clusters)\n",
    "plt.xlabel('Cluster')\n",
    "plt.ylabel('Customer-General Ratio')\n",
    "plt.axhline(y=1.0, color='r', linestyle='--')\n",
    "plt.gca().set_yticklabels(['{:.0f}%'.format(x*100) for x in plt.gca().get_yticks()]) \n",
    "plt.show()"
   ]
  },
  {
   "cell_type": "markdown",
   "metadata": {},
   "source": [
    "Cluster 14 is over-represented in the customer file"
   ]
  },
  {
   "cell_type": "markdown",
   "metadata": {},
   "source": [
    "### What kinds of people are part of a cluster that is underrepresented in the customer data compared to the general population?\n",
    "the other clusters that are present but under-represented in the customer file include clusters 0 and 4"
   ]
  },
  {
   "cell_type": "markdown",
   "metadata": {},
   "source": [
    "Customer file does not contain other clusters"
   ]
  },
  {
   "cell_type": "code",
   "execution_count": 91,
   "metadata": {},
   "outputs": [
    {
     "name": "stdout",
     "output_type": "stream",
     "text": [
      "[-4.09902  0.59101  0.89389  3.15688  0.18604 -0.90289 -0.99678 -0.21558\n",
      " -0.19198  0.26316  0.00037  0.18163  0.51932 -0.11534 -0.98986  0.8049\n",
      "  0.10921 -0.47768 -1.18377  0.88499  0.00261 -0.17427  0.54016  0.11284\n",
      " -0.02096  0.07592 -0.04977 -0.02821 -0.07426  0.0961   0.07476 -0.0846\n",
      " -0.02436  0.05991 -0.08721  0.0221   0.04662  0.03659  0.011    0.00599\n",
      "  0.13791  0.01404 -0.03806  0.04315 -0.00237 -0.00933  0.03452 -0.01364\n",
      " -0.03037 -0.0218   0.03232  0.05536  0.01062  0.02064  0.01861  0.0048\n",
      "  0.09085  0.01941 -0.10419  0.0346  -0.00161 -0.09596 -0.04598  0.06138\n",
      "  0.00894 -0.19757  0.05146  0.13464 -0.05126  0.04442  0.10624 -0.03222\n",
      " -0.01456  0.05403  0.04813  0.06854 -0.0943  -0.00299 -0.0606  -0.0114\n",
      "  0.08075  0.00504  0.01622  0.00597 -0.10554 -0.04665  0.07104 -0.00983\n",
      " -0.01925 -0.03387 -0.00098  0.09572]\n"
     ]
    }
   ],
   "source": [
    "# Re-create the over-represented cluster center\n",
    "cluster_center_pca = kmeans_final.cluster_centers_[14]\n",
    "print(cluster_center_pca)"
   ]
  },
  {
   "cell_type": "code",
   "execution_count": 92,
   "metadata": {},
   "outputs": [
    {
     "name": "stdout",
     "output_type": "stream",
     "text": [
      "[-2.36878 -0.25612  0.16207  1.50865 -0.52235 -0.21185  0.01265  0.13641\n",
      "  0.15098 -0.096   -0.25573  0.15525  0.05942 -0.36626 -0.17019 -0.07079\n",
      " -0.10588  0.2154   0.31686 -0.10708 -0.23342  0.20415  0.0334  -0.15511\n",
      "  0.32428  0.0079   0.14102  0.11131  0.15967 -0.50229 -0.13203 -0.03089\n",
      "  0.7621  -1.01432 -0.54548 -0.27676 -0.14477  0.60862 -0.7713  -0.53905\n",
      "  1.73425  0.06979 -0.50382 -0.90978 -0.7453  -1.82459  2.15189  1.27698\n",
      "  1.17235 -1.14498 -1.45794 -0.85866 -1.09596 -0.87681 -0.40565  2.07272\n",
      "  0.03828 -3.26549  2.13165 -2.57238  0.66264  0.68059  1.03128 -2.28636\n",
      " -2.19947  6.08618 -2.67829 -3.38642  0.79842 -1.96284  3.4092  -0.12878\n",
      "  0.99427 -0.61129  2.52325 -2.4307   0.24336  3.78851  1.91472  0.58715\n",
      " -0.38869 -1.40671 -2.86946 -1.88271 -1.65905 -1.50797 -0.13193 -1.18136\n",
      " -0.20568 -0.64782 -0.58677 -0.10981]\n",
      "[ 2.61912  5.04372 -0.09409  0.09189 -0.06083  0.93797  3.10895 -1.22216\n",
      "  1.68235  3.69656 -1.21541  0.69351  1.15046 -0.15697 -0.15337 -0.91732\n",
      "  0.35942  1.6379  -0.35567  0.53521  0.2167   0.44254  1.90793  0.51696\n",
      "  1.6461   0.70939  1.05282  3.8188   2.191    1.19106  0.16114  1.00578\n",
      " -0.90084  1.07304  2.41732  0.6189   1.3779   1.0957   0.97791  0.53733\n",
      "  0.68421 -0.64711  0.18362 -1.88337 -0.3065  -1.31022 -0.32528 -0.56681\n",
      "  1.11401 -0.22058  0.99128  0.0849  -0.48708  0.28221 -0.66584 -0.54608\n",
      " -0.44663 -0.31884  0.48251  0.26212 -1.13382 -0.0508   0.05444 -0.18906\n",
      "  0.62513 -1.03805 -0.54538  0.26031 -0.1687  -0.18015 -0.46818 -0.1339\n",
      " -0.20775  0.5789   1.18531 -0.4929   0.49156 -0.76249  1.56472  0.33399\n",
      "  1.46094 -1.20355 -1.18038 -0.78914  1.14841  1.55026  1.01376 -0.15067\n",
      "  0.11689 -0.69422 -0.01305  0.3602 ]\n"
     ]
    }
   ],
   "source": [
    "# Re-create the over-represented cluster center\n",
    "cluster_center_pca = kmeans_final.cluster_centers_[0]\n",
    "print(cluster_center_pca)\n",
    "\n",
    "cluster_center_pca = kmeans_final.cluster_centers_[4]\n",
    "print(cluster_center_pca)"
   ]
  },
  {
   "cell_type": "markdown",
   "metadata": {},
   "source": [
    "### Discussion 3.3: Compare Customer Data to Demographics Data\n",
    "\n",
    "The over-represented cluster 14 has the largest negative coefficient on the first component, and positive ones on the second and third, which suggest that they are wealthier (since positive component 1 relates to urban poverty) , older, and more male than the general population. \n",
    "\n",
    "Cluster 0, which is under-represented, has large negative first component, small negative second component, and small positive third component, which suggest they are wealthy, younger, and female. Cluster 4 has large positive first component, large positive second component, and small negative third component, which suggest they maybe poor, old, and female. Both of which were present in the Customer file but under-represented vs. the general population.  \n",
    "\n"
   ]
  },
  {
   "cell_type": "markdown",
   "metadata": {},
   "source": [
    "> Congratulations on making it this far in the project! Before you finish, make sure to check through the entire notebook from top to bottom to make sure that your analysis follows a logical flow and all of your findings are documented in **Discussion** cells. Once you've checked over all of your work, you should export the notebook as an HTML document to submit for evaluation. You can do this from the menu, navigating to **File -> Download as -> HTML (.html)**. You will submit both that document and this notebook for your project submission."
   ]
  },
  {
   "cell_type": "code",
   "execution_count": null,
   "metadata": {},
   "outputs": [],
   "source": []
  }
 ],
 "metadata": {
  "kernelspec": {
   "display_name": "Python 3",
   "language": "python",
   "name": "python3"
  },
  "language_info": {
   "codemirror_mode": {
    "name": "ipython",
    "version": 3
   },
   "file_extension": ".py",
   "mimetype": "text/x-python",
   "name": "python",
   "nbconvert_exporter": "python",
   "pygments_lexer": "ipython3",
   "version": "3.6.8"
  }
 },
 "nbformat": 4,
 "nbformat_minor": 2
}

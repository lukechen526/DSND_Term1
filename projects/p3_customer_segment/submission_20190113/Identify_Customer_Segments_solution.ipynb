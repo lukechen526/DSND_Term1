{
 "cells": [
  {
   "cell_type": "markdown",
   "metadata": {},
   "source": [
    "# Project: Identify Customer Segments\n",
    "\n",
    "In this project, you will apply unsupervised learning techniques to identify segments of the population that form the core customer base for a mail-order sales company in Germany. These segments can then be used to direct marketing campaigns towards audiences that will have the highest expected rate of returns. The data that you will use has been provided by our partners at Bertelsmann Arvato Analytics, and represents a real-life data science task.\n",
    "\n",
    "This notebook will help you complete this task by providing a framework within which you will perform your analysis steps. In each step of the project, you will see some text describing the subtask that you will perform, followed by one or more code cells for you to complete your work. **Feel free to add additional code and markdown cells as you go along so that you can explore everything in precise chunks.** The code cells provided in the base template will outline only the major tasks, and will usually not be enough to cover all of the minor tasks that comprise it.\n",
    "\n",
    "It should be noted that while there will be precise guidelines on how you should handle certain tasks in the project, there will also be places where an exact specification is not provided. **There will be times in the project where you will need to make and justify your own decisions on how to treat the data.** These are places where there may not be only one way to handle the data. In real-life tasks, there may be many valid ways to approach an analysis task. One of the most important things you can do is clearly document your approach so that other scientists can understand the decisions you've made.\n",
    "\n",
    "At the end of most sections, there will be a Markdown cell labeled **Discussion**. In these cells, you will report your findings for the completed section, as well as document the decisions that you made in your approach to each subtask. **Your project will be evaluated not just on the code used to complete the tasks outlined, but also your communication about your observations and conclusions at each stage.**"
   ]
  },
  {
   "cell_type": "code",
   "execution_count": 63,
   "metadata": {},
   "outputs": [],
   "source": [
    "# import libraries here; add more as necessary\n",
    "import numpy as np\n",
    "import pandas as pd\n",
    "import matplotlib.pyplot as plt\n",
    "import seaborn as sns\n",
    "\n",
    "# magic word for producing visualizations in notebook\n",
    "%matplotlib inline\n",
    "\n",
    "from IPython.core.interactiveshell import InteractiveShell\n",
    "InteractiveShell.ast_node_interactivity = \"all\"\n",
    "\n",
    "%config InlineBackend.figure_format = 'retina'"
   ]
  },
  {
   "cell_type": "markdown",
   "metadata": {},
   "source": [
    "### Step 0: Load the Data\n",
    "\n",
    "There are four files associated with this project (not including this one):\n",
    "\n",
    "- `Udacity_AZDIAS_Subset.csv`: Demographics data for the general population of Germany; 891211 persons (rows) x 85 features (columns).\n",
    "- `Udacity_CUSTOMERS_Subset.csv`: Demographics data for customers of a mail-order company; 191652 persons (rows) x 85 features (columns).\n",
    "- `Data_Dictionary.md`: Detailed information file about the features in the provided datasets.\n",
    "- `AZDIAS_Feature_Summary.csv`: Summary of feature attributes for demographics data; 85 features (rows) x 4 columns\n",
    "\n",
    "Each row of the demographics files represents a single person, but also includes information outside of individuals, including information about their household, building, and neighborhood. You will use this information to cluster the general population into groups with similar demographic properties. Then, you will see how the people in the customers dataset fit into those created clusters. The hope here is that certain clusters are over-represented in the customers data, as compared to the general population; those over-represented clusters will be assumed to be part of the core userbase. This information can then be used for further applications, such as targeting for a marketing campaign.\n",
    "\n",
    "To start off with, load in the demographics data for the general population into a pandas DataFrame, and do the same for the feature attributes summary. Note for all of the `.csv` data files in this project: they're semicolon (`;`) delimited, so you'll need an additional argument in your [`read_csv()`](https://pandas.pydata.org/pandas-docs/stable/generated/pandas.read_csv.html) call to read in the data properly. Also, considering the size of the main dataset, it may take some time for it to load completely.\n",
    "\n",
    "Once the dataset is loaded, it's recommended that you take a little bit of time just browsing the general structure of the dataset and feature summary file. You'll be getting deep into the innards of the cleaning in the first major step of the project, so gaining some general familiarity can help you get your bearings."
   ]
  },
  {
   "cell_type": "code",
   "execution_count": 2,
   "metadata": {},
   "outputs": [],
   "source": [
    "# Load in the general demographics data.\n",
    "azdias = pd.read_csv('./Udacity_AZDIAS_Subset.csv', sep=';')\n",
    "\n",
    "# Load in the feature summary file.\n",
    "feat_info =  pd.read_csv('./AZDIAS_Feature_Summary.csv', sep=';')"
   ]
  },
  {
   "cell_type": "code",
   "execution_count": 3,
   "metadata": {},
   "outputs": [
    {
     "data": {
      "text/html": [
       "<div>\n",
       "<style>\n",
       "    .dataframe thead tr:only-child th {\n",
       "        text-align: right;\n",
       "    }\n",
       "\n",
       "    .dataframe thead th {\n",
       "        text-align: left;\n",
       "    }\n",
       "\n",
       "    .dataframe tbody tr th {\n",
       "        vertical-align: top;\n",
       "    }\n",
       "</style>\n",
       "<table border=\"1\" class=\"dataframe\">\n",
       "  <thead>\n",
       "    <tr style=\"text-align: right;\">\n",
       "      <th></th>\n",
       "      <th>AGER_TYP</th>\n",
       "      <th>ALTERSKATEGORIE_GROB</th>\n",
       "      <th>ANREDE_KZ</th>\n",
       "      <th>CJT_GESAMTTYP</th>\n",
       "      <th>FINANZ_MINIMALIST</th>\n",
       "      <th>FINANZ_SPARER</th>\n",
       "      <th>FINANZ_VORSORGER</th>\n",
       "      <th>FINANZ_ANLEGER</th>\n",
       "      <th>FINANZ_UNAUFFAELLIGER</th>\n",
       "      <th>FINANZ_HAUSBAUER</th>\n",
       "      <th>...</th>\n",
       "      <th>PLZ8_ANTG1</th>\n",
       "      <th>PLZ8_ANTG2</th>\n",
       "      <th>PLZ8_ANTG3</th>\n",
       "      <th>PLZ8_ANTG4</th>\n",
       "      <th>PLZ8_BAUMAX</th>\n",
       "      <th>PLZ8_HHZ</th>\n",
       "      <th>PLZ8_GBZ</th>\n",
       "      <th>ARBEIT</th>\n",
       "      <th>ORTSGR_KLS9</th>\n",
       "      <th>RELAT_AB</th>\n",
       "    </tr>\n",
       "  </thead>\n",
       "  <tbody>\n",
       "    <tr>\n",
       "      <th>0</th>\n",
       "      <td>-1</td>\n",
       "      <td>2</td>\n",
       "      <td>1</td>\n",
       "      <td>2.0</td>\n",
       "      <td>3</td>\n",
       "      <td>4</td>\n",
       "      <td>3</td>\n",
       "      <td>5</td>\n",
       "      <td>5</td>\n",
       "      <td>3</td>\n",
       "      <td>...</td>\n",
       "      <td>NaN</td>\n",
       "      <td>NaN</td>\n",
       "      <td>NaN</td>\n",
       "      <td>NaN</td>\n",
       "      <td>NaN</td>\n",
       "      <td>NaN</td>\n",
       "      <td>NaN</td>\n",
       "      <td>NaN</td>\n",
       "      <td>NaN</td>\n",
       "      <td>NaN</td>\n",
       "    </tr>\n",
       "    <tr>\n",
       "      <th>1</th>\n",
       "      <td>-1</td>\n",
       "      <td>1</td>\n",
       "      <td>2</td>\n",
       "      <td>5.0</td>\n",
       "      <td>1</td>\n",
       "      <td>5</td>\n",
       "      <td>2</td>\n",
       "      <td>5</td>\n",
       "      <td>4</td>\n",
       "      <td>5</td>\n",
       "      <td>...</td>\n",
       "      <td>2.0</td>\n",
       "      <td>3.0</td>\n",
       "      <td>2.0</td>\n",
       "      <td>1.0</td>\n",
       "      <td>1.0</td>\n",
       "      <td>5.0</td>\n",
       "      <td>4.0</td>\n",
       "      <td>3.0</td>\n",
       "      <td>5.0</td>\n",
       "      <td>4.0</td>\n",
       "    </tr>\n",
       "    <tr>\n",
       "      <th>2</th>\n",
       "      <td>-1</td>\n",
       "      <td>3</td>\n",
       "      <td>2</td>\n",
       "      <td>3.0</td>\n",
       "      <td>1</td>\n",
       "      <td>4</td>\n",
       "      <td>1</td>\n",
       "      <td>2</td>\n",
       "      <td>3</td>\n",
       "      <td>5</td>\n",
       "      <td>...</td>\n",
       "      <td>3.0</td>\n",
       "      <td>3.0</td>\n",
       "      <td>1.0</td>\n",
       "      <td>0.0</td>\n",
       "      <td>1.0</td>\n",
       "      <td>4.0</td>\n",
       "      <td>4.0</td>\n",
       "      <td>3.0</td>\n",
       "      <td>5.0</td>\n",
       "      <td>2.0</td>\n",
       "    </tr>\n",
       "    <tr>\n",
       "      <th>3</th>\n",
       "      <td>2</td>\n",
       "      <td>4</td>\n",
       "      <td>2</td>\n",
       "      <td>2.0</td>\n",
       "      <td>4</td>\n",
       "      <td>2</td>\n",
       "      <td>5</td>\n",
       "      <td>2</td>\n",
       "      <td>1</td>\n",
       "      <td>2</td>\n",
       "      <td>...</td>\n",
       "      <td>2.0</td>\n",
       "      <td>2.0</td>\n",
       "      <td>2.0</td>\n",
       "      <td>0.0</td>\n",
       "      <td>1.0</td>\n",
       "      <td>3.0</td>\n",
       "      <td>4.0</td>\n",
       "      <td>2.0</td>\n",
       "      <td>3.0</td>\n",
       "      <td>3.0</td>\n",
       "    </tr>\n",
       "    <tr>\n",
       "      <th>4</th>\n",
       "      <td>-1</td>\n",
       "      <td>3</td>\n",
       "      <td>1</td>\n",
       "      <td>5.0</td>\n",
       "      <td>4</td>\n",
       "      <td>3</td>\n",
       "      <td>4</td>\n",
       "      <td>1</td>\n",
       "      <td>3</td>\n",
       "      <td>2</td>\n",
       "      <td>...</td>\n",
       "      <td>2.0</td>\n",
       "      <td>4.0</td>\n",
       "      <td>2.0</td>\n",
       "      <td>1.0</td>\n",
       "      <td>2.0</td>\n",
       "      <td>3.0</td>\n",
       "      <td>3.0</td>\n",
       "      <td>4.0</td>\n",
       "      <td>6.0</td>\n",
       "      <td>5.0</td>\n",
       "    </tr>\n",
       "  </tbody>\n",
       "</table>\n",
       "<p>5 rows × 85 columns</p>\n",
       "</div>"
      ],
      "text/plain": [
       "   AGER_TYP  ALTERSKATEGORIE_GROB  ANREDE_KZ  CJT_GESAMTTYP  \\\n",
       "0        -1                     2          1            2.0   \n",
       "1        -1                     1          2            5.0   \n",
       "2        -1                     3          2            3.0   \n",
       "3         2                     4          2            2.0   \n",
       "4        -1                     3          1            5.0   \n",
       "\n",
       "   FINANZ_MINIMALIST  FINANZ_SPARER  FINANZ_VORSORGER  FINANZ_ANLEGER  \\\n",
       "0                  3              4                 3               5   \n",
       "1                  1              5                 2               5   \n",
       "2                  1              4                 1               2   \n",
       "3                  4              2                 5               2   \n",
       "4                  4              3                 4               1   \n",
       "\n",
       "   FINANZ_UNAUFFAELLIGER  FINANZ_HAUSBAUER    ...     PLZ8_ANTG1  PLZ8_ANTG2  \\\n",
       "0                      5                 3    ...            NaN         NaN   \n",
       "1                      4                 5    ...            2.0         3.0   \n",
       "2                      3                 5    ...            3.0         3.0   \n",
       "3                      1                 2    ...            2.0         2.0   \n",
       "4                      3                 2    ...            2.0         4.0   \n",
       "\n",
       "   PLZ8_ANTG3  PLZ8_ANTG4  PLZ8_BAUMAX  PLZ8_HHZ  PLZ8_GBZ  ARBEIT  \\\n",
       "0         NaN         NaN          NaN       NaN       NaN     NaN   \n",
       "1         2.0         1.0          1.0       5.0       4.0     3.0   \n",
       "2         1.0         0.0          1.0       4.0       4.0     3.0   \n",
       "3         2.0         0.0          1.0       3.0       4.0     2.0   \n",
       "4         2.0         1.0          2.0       3.0       3.0     4.0   \n",
       "\n",
       "   ORTSGR_KLS9  RELAT_AB  \n",
       "0          NaN       NaN  \n",
       "1          5.0       4.0  \n",
       "2          5.0       2.0  \n",
       "3          3.0       3.0  \n",
       "4          6.0       5.0  \n",
       "\n",
       "[5 rows x 85 columns]"
      ]
     },
     "execution_count": 3,
     "metadata": {},
     "output_type": "execute_result"
    }
   ],
   "source": [
    "# Check the structure of the data after it's loaded (e.g. print the number of\n",
    "# rows and columns, print the first few rows).\n",
    "\n",
    "azdias.head()"
   ]
  },
  {
   "cell_type": "code",
   "execution_count": 4,
   "metadata": {},
   "outputs": [
    {
     "name": "stdout",
     "output_type": "stream",
     "text": [
      "<class 'pandas.core.frame.DataFrame'>\n",
      "RangeIndex: 891221 entries, 0 to 891220\n",
      "Data columns (total 85 columns):\n",
      "AGER_TYP                 891221 non-null int64\n",
      "ALTERSKATEGORIE_GROB     891221 non-null int64\n",
      "ANREDE_KZ                891221 non-null int64\n",
      "CJT_GESAMTTYP            886367 non-null float64\n",
      "FINANZ_MINIMALIST        891221 non-null int64\n",
      "FINANZ_SPARER            891221 non-null int64\n",
      "FINANZ_VORSORGER         891221 non-null int64\n",
      "FINANZ_ANLEGER           891221 non-null int64\n",
      "FINANZ_UNAUFFAELLIGER    891221 non-null int64\n",
      "FINANZ_HAUSBAUER         891221 non-null int64\n",
      "FINANZTYP                891221 non-null int64\n",
      "GEBURTSJAHR              891221 non-null int64\n",
      "GFK_URLAUBERTYP          886367 non-null float64\n",
      "GREEN_AVANTGARDE         891221 non-null int64\n",
      "HEALTH_TYP               891221 non-null int64\n",
      "LP_LEBENSPHASE_FEIN      886367 non-null float64\n",
      "LP_LEBENSPHASE_GROB      886367 non-null float64\n",
      "LP_FAMILIE_FEIN          886367 non-null float64\n",
      "LP_FAMILIE_GROB          886367 non-null float64\n",
      "LP_STATUS_FEIN           886367 non-null float64\n",
      "LP_STATUS_GROB           886367 non-null float64\n",
      "NATIONALITAET_KZ         891221 non-null int64\n",
      "PRAEGENDE_JUGENDJAHRE    891221 non-null int64\n",
      "RETOURTYP_BK_S           886367 non-null float64\n",
      "SEMIO_SOZ                891221 non-null int64\n",
      "SEMIO_FAM                891221 non-null int64\n",
      "SEMIO_REL                891221 non-null int64\n",
      "SEMIO_MAT                891221 non-null int64\n",
      "SEMIO_VERT               891221 non-null int64\n",
      "SEMIO_LUST               891221 non-null int64\n",
      "SEMIO_ERL                891221 non-null int64\n",
      "SEMIO_KULT               891221 non-null int64\n",
      "SEMIO_RAT                891221 non-null int64\n",
      "SEMIO_KRIT               891221 non-null int64\n",
      "SEMIO_DOM                891221 non-null int64\n",
      "SEMIO_KAEM               891221 non-null int64\n",
      "SEMIO_PFLICHT            891221 non-null int64\n",
      "SEMIO_TRADV              891221 non-null int64\n",
      "SHOPPER_TYP              891221 non-null int64\n",
      "SOHO_KZ                  817722 non-null float64\n",
      "TITEL_KZ                 817722 non-null float64\n",
      "VERS_TYP                 891221 non-null int64\n",
      "ZABEOTYP                 891221 non-null int64\n",
      "ALTER_HH                 817722 non-null float64\n",
      "ANZ_PERSONEN             817722 non-null float64\n",
      "ANZ_TITEL                817722 non-null float64\n",
      "HH_EINKOMMEN_SCORE       872873 non-null float64\n",
      "KK_KUNDENTYP             306609 non-null float64\n",
      "W_KEIT_KIND_HH           783619 non-null float64\n",
      "WOHNDAUER_2008           817722 non-null float64\n",
      "ANZ_HAUSHALTE_AKTIV      798073 non-null float64\n",
      "ANZ_HH_TITEL             794213 non-null float64\n",
      "GEBAEUDETYP              798073 non-null float64\n",
      "KONSUMNAEHE              817252 non-null float64\n",
      "MIN_GEBAEUDEJAHR         798073 non-null float64\n",
      "OST_WEST_KZ              798073 non-null object\n",
      "WOHNLAGE                 798073 non-null float64\n",
      "CAMEO_DEUG_2015          792242 non-null object\n",
      "CAMEO_DEU_2015           792242 non-null object\n",
      "CAMEO_INTL_2015          792242 non-null object\n",
      "KBA05_ANTG1              757897 non-null float64\n",
      "KBA05_ANTG2              757897 non-null float64\n",
      "KBA05_ANTG3              757897 non-null float64\n",
      "KBA05_ANTG4              757897 non-null float64\n",
      "KBA05_BAUMAX             757897 non-null float64\n",
      "KBA05_GBZ                757897 non-null float64\n",
      "BALLRAUM                 797481 non-null float64\n",
      "EWDICHTE                 797481 non-null float64\n",
      "INNENSTADT               797481 non-null float64\n",
      "GEBAEUDETYP_RASTER       798066 non-null float64\n",
      "KKK                      770025 non-null float64\n",
      "MOBI_REGIO               757897 non-null float64\n",
      "ONLINE_AFFINITAET        886367 non-null float64\n",
      "REGIOTYP                 770025 non-null float64\n",
      "KBA13_ANZAHL_PKW         785421 non-null float64\n",
      "PLZ8_ANTG1               774706 non-null float64\n",
      "PLZ8_ANTG2               774706 non-null float64\n",
      "PLZ8_ANTG3               774706 non-null float64\n",
      "PLZ8_ANTG4               774706 non-null float64\n",
      "PLZ8_BAUMAX              774706 non-null float64\n",
      "PLZ8_HHZ                 774706 non-null float64\n",
      "PLZ8_GBZ                 774706 non-null float64\n",
      "ARBEIT                   794005 non-null float64\n",
      "ORTSGR_KLS9              794005 non-null float64\n",
      "RELAT_AB                 794005 non-null float64\n",
      "dtypes: float64(49), int64(32), object(4)\n",
      "memory usage: 578.0+ MB\n"
     ]
    }
   ],
   "source": [
    "azdias.info()"
   ]
  },
  {
   "cell_type": "code",
   "execution_count": 5,
   "metadata": {},
   "outputs": [
    {
     "data": {
      "text/plain": [
       "AGER_TYP                      0\n",
       "ALTERSKATEGORIE_GROB          0\n",
       "ANREDE_KZ                     0\n",
       "CJT_GESAMTTYP              4854\n",
       "FINANZ_MINIMALIST             0\n",
       "FINANZ_SPARER                 0\n",
       "FINANZ_VORSORGER              0\n",
       "FINANZ_ANLEGER                0\n",
       "FINANZ_UNAUFFAELLIGER         0\n",
       "FINANZ_HAUSBAUER              0\n",
       "FINANZTYP                     0\n",
       "GEBURTSJAHR                   0\n",
       "GFK_URLAUBERTYP            4854\n",
       "GREEN_AVANTGARDE              0\n",
       "HEALTH_TYP                    0\n",
       "LP_LEBENSPHASE_FEIN        4854\n",
       "LP_LEBENSPHASE_GROB        4854\n",
       "LP_FAMILIE_FEIN            4854\n",
       "LP_FAMILIE_GROB            4854\n",
       "LP_STATUS_FEIN             4854\n",
       "LP_STATUS_GROB             4854\n",
       "NATIONALITAET_KZ              0\n",
       "PRAEGENDE_JUGENDJAHRE         0\n",
       "RETOURTYP_BK_S             4854\n",
       "SEMIO_SOZ                     0\n",
       "SEMIO_FAM                     0\n",
       "SEMIO_REL                     0\n",
       "SEMIO_MAT                     0\n",
       "SEMIO_VERT                    0\n",
       "SEMIO_LUST                    0\n",
       "                          ...  \n",
       "OST_WEST_KZ               93148\n",
       "WOHNLAGE                  93148\n",
       "CAMEO_DEUG_2015           98979\n",
       "CAMEO_DEU_2015            98979\n",
       "CAMEO_INTL_2015           98979\n",
       "KBA05_ANTG1              133324\n",
       "KBA05_ANTG2              133324\n",
       "KBA05_ANTG3              133324\n",
       "KBA05_ANTG4              133324\n",
       "KBA05_BAUMAX             133324\n",
       "KBA05_GBZ                133324\n",
       "BALLRAUM                  93740\n",
       "EWDICHTE                  93740\n",
       "INNENSTADT                93740\n",
       "GEBAEUDETYP_RASTER        93155\n",
       "KKK                      121196\n",
       "MOBI_REGIO               133324\n",
       "ONLINE_AFFINITAET          4854\n",
       "REGIOTYP                 121196\n",
       "KBA13_ANZAHL_PKW         105800\n",
       "PLZ8_ANTG1               116515\n",
       "PLZ8_ANTG2               116515\n",
       "PLZ8_ANTG3               116515\n",
       "PLZ8_ANTG4               116515\n",
       "PLZ8_BAUMAX              116515\n",
       "PLZ8_HHZ                 116515\n",
       "PLZ8_GBZ                 116515\n",
       "ARBEIT                    97216\n",
       "ORTSGR_KLS9               97216\n",
       "RELAT_AB                  97216\n",
       "Length: 85, dtype: int64"
      ]
     },
     "execution_count": 5,
     "metadata": {},
     "output_type": "execute_result"
    }
   ],
   "source": [
    "# Count the number of NaNs in each column (before converting missing vaue codes to NaNs)\n",
    "azdias.isnull().sum()"
   ]
  },
  {
   "cell_type": "code",
   "execution_count": 6,
   "metadata": {},
   "outputs": [
    {
     "data": {
      "text/html": [
       "<div>\n",
       "<style>\n",
       "    .dataframe thead tr:only-child th {\n",
       "        text-align: right;\n",
       "    }\n",
       "\n",
       "    .dataframe thead th {\n",
       "        text-align: left;\n",
       "    }\n",
       "\n",
       "    .dataframe tbody tr th {\n",
       "        vertical-align: top;\n",
       "    }\n",
       "</style>\n",
       "<table border=\"1\" class=\"dataframe\">\n",
       "  <thead>\n",
       "    <tr style=\"text-align: right;\">\n",
       "      <th></th>\n",
       "      <th>attribute</th>\n",
       "      <th>information_level</th>\n",
       "      <th>type</th>\n",
       "      <th>missing_or_unknown</th>\n",
       "    </tr>\n",
       "  </thead>\n",
       "  <tbody>\n",
       "    <tr>\n",
       "      <th>0</th>\n",
       "      <td>AGER_TYP</td>\n",
       "      <td>person</td>\n",
       "      <td>categorical</td>\n",
       "      <td>[-1,0]</td>\n",
       "    </tr>\n",
       "    <tr>\n",
       "      <th>1</th>\n",
       "      <td>ALTERSKATEGORIE_GROB</td>\n",
       "      <td>person</td>\n",
       "      <td>ordinal</td>\n",
       "      <td>[-1,0,9]</td>\n",
       "    </tr>\n",
       "    <tr>\n",
       "      <th>2</th>\n",
       "      <td>ANREDE_KZ</td>\n",
       "      <td>person</td>\n",
       "      <td>categorical</td>\n",
       "      <td>[-1,0]</td>\n",
       "    </tr>\n",
       "    <tr>\n",
       "      <th>3</th>\n",
       "      <td>CJT_GESAMTTYP</td>\n",
       "      <td>person</td>\n",
       "      <td>categorical</td>\n",
       "      <td>[0]</td>\n",
       "    </tr>\n",
       "    <tr>\n",
       "      <th>4</th>\n",
       "      <td>FINANZ_MINIMALIST</td>\n",
       "      <td>person</td>\n",
       "      <td>ordinal</td>\n",
       "      <td>[-1]</td>\n",
       "    </tr>\n",
       "    <tr>\n",
       "      <th>5</th>\n",
       "      <td>FINANZ_SPARER</td>\n",
       "      <td>person</td>\n",
       "      <td>ordinal</td>\n",
       "      <td>[-1]</td>\n",
       "    </tr>\n",
       "    <tr>\n",
       "      <th>6</th>\n",
       "      <td>FINANZ_VORSORGER</td>\n",
       "      <td>person</td>\n",
       "      <td>ordinal</td>\n",
       "      <td>[-1]</td>\n",
       "    </tr>\n",
       "    <tr>\n",
       "      <th>7</th>\n",
       "      <td>FINANZ_ANLEGER</td>\n",
       "      <td>person</td>\n",
       "      <td>ordinal</td>\n",
       "      <td>[-1]</td>\n",
       "    </tr>\n",
       "    <tr>\n",
       "      <th>8</th>\n",
       "      <td>FINANZ_UNAUFFAELLIGER</td>\n",
       "      <td>person</td>\n",
       "      <td>ordinal</td>\n",
       "      <td>[-1]</td>\n",
       "    </tr>\n",
       "    <tr>\n",
       "      <th>9</th>\n",
       "      <td>FINANZ_HAUSBAUER</td>\n",
       "      <td>person</td>\n",
       "      <td>ordinal</td>\n",
       "      <td>[-1]</td>\n",
       "    </tr>\n",
       "    <tr>\n",
       "      <th>10</th>\n",
       "      <td>FINANZTYP</td>\n",
       "      <td>person</td>\n",
       "      <td>categorical</td>\n",
       "      <td>[-1]</td>\n",
       "    </tr>\n",
       "    <tr>\n",
       "      <th>11</th>\n",
       "      <td>GEBURTSJAHR</td>\n",
       "      <td>person</td>\n",
       "      <td>numeric</td>\n",
       "      <td>[0]</td>\n",
       "    </tr>\n",
       "    <tr>\n",
       "      <th>12</th>\n",
       "      <td>GFK_URLAUBERTYP</td>\n",
       "      <td>person</td>\n",
       "      <td>categorical</td>\n",
       "      <td>[]</td>\n",
       "    </tr>\n",
       "    <tr>\n",
       "      <th>13</th>\n",
       "      <td>GREEN_AVANTGARDE</td>\n",
       "      <td>person</td>\n",
       "      <td>categorical</td>\n",
       "      <td>[]</td>\n",
       "    </tr>\n",
       "    <tr>\n",
       "      <th>14</th>\n",
       "      <td>HEALTH_TYP</td>\n",
       "      <td>person</td>\n",
       "      <td>ordinal</td>\n",
       "      <td>[-1,0]</td>\n",
       "    </tr>\n",
       "    <tr>\n",
       "      <th>15</th>\n",
       "      <td>LP_LEBENSPHASE_FEIN</td>\n",
       "      <td>person</td>\n",
       "      <td>mixed</td>\n",
       "      <td>[0]</td>\n",
       "    </tr>\n",
       "    <tr>\n",
       "      <th>16</th>\n",
       "      <td>LP_LEBENSPHASE_GROB</td>\n",
       "      <td>person</td>\n",
       "      <td>mixed</td>\n",
       "      <td>[0]</td>\n",
       "    </tr>\n",
       "    <tr>\n",
       "      <th>17</th>\n",
       "      <td>LP_FAMILIE_FEIN</td>\n",
       "      <td>person</td>\n",
       "      <td>categorical</td>\n",
       "      <td>[0]</td>\n",
       "    </tr>\n",
       "    <tr>\n",
       "      <th>18</th>\n",
       "      <td>LP_FAMILIE_GROB</td>\n",
       "      <td>person</td>\n",
       "      <td>categorical</td>\n",
       "      <td>[0]</td>\n",
       "    </tr>\n",
       "    <tr>\n",
       "      <th>19</th>\n",
       "      <td>LP_STATUS_FEIN</td>\n",
       "      <td>person</td>\n",
       "      <td>categorical</td>\n",
       "      <td>[0]</td>\n",
       "    </tr>\n",
       "    <tr>\n",
       "      <th>20</th>\n",
       "      <td>LP_STATUS_GROB</td>\n",
       "      <td>person</td>\n",
       "      <td>categorical</td>\n",
       "      <td>[0]</td>\n",
       "    </tr>\n",
       "    <tr>\n",
       "      <th>21</th>\n",
       "      <td>NATIONALITAET_KZ</td>\n",
       "      <td>person</td>\n",
       "      <td>categorical</td>\n",
       "      <td>[-1,0]</td>\n",
       "    </tr>\n",
       "    <tr>\n",
       "      <th>22</th>\n",
       "      <td>PRAEGENDE_JUGENDJAHRE</td>\n",
       "      <td>person</td>\n",
       "      <td>mixed</td>\n",
       "      <td>[-1,0]</td>\n",
       "    </tr>\n",
       "    <tr>\n",
       "      <th>23</th>\n",
       "      <td>RETOURTYP_BK_S</td>\n",
       "      <td>person</td>\n",
       "      <td>ordinal</td>\n",
       "      <td>[0]</td>\n",
       "    </tr>\n",
       "    <tr>\n",
       "      <th>24</th>\n",
       "      <td>SEMIO_SOZ</td>\n",
       "      <td>person</td>\n",
       "      <td>ordinal</td>\n",
       "      <td>[-1,9]</td>\n",
       "    </tr>\n",
       "    <tr>\n",
       "      <th>25</th>\n",
       "      <td>SEMIO_FAM</td>\n",
       "      <td>person</td>\n",
       "      <td>ordinal</td>\n",
       "      <td>[-1,9]</td>\n",
       "    </tr>\n",
       "    <tr>\n",
       "      <th>26</th>\n",
       "      <td>SEMIO_REL</td>\n",
       "      <td>person</td>\n",
       "      <td>ordinal</td>\n",
       "      <td>[-1,9]</td>\n",
       "    </tr>\n",
       "    <tr>\n",
       "      <th>27</th>\n",
       "      <td>SEMIO_MAT</td>\n",
       "      <td>person</td>\n",
       "      <td>ordinal</td>\n",
       "      <td>[-1,9]</td>\n",
       "    </tr>\n",
       "    <tr>\n",
       "      <th>28</th>\n",
       "      <td>SEMIO_VERT</td>\n",
       "      <td>person</td>\n",
       "      <td>ordinal</td>\n",
       "      <td>[-1,9]</td>\n",
       "    </tr>\n",
       "    <tr>\n",
       "      <th>29</th>\n",
       "      <td>SEMIO_LUST</td>\n",
       "      <td>person</td>\n",
       "      <td>ordinal</td>\n",
       "      <td>[-1,9]</td>\n",
       "    </tr>\n",
       "    <tr>\n",
       "      <th>...</th>\n",
       "      <td>...</td>\n",
       "      <td>...</td>\n",
       "      <td>...</td>\n",
       "      <td>...</td>\n",
       "    </tr>\n",
       "    <tr>\n",
       "      <th>55</th>\n",
       "      <td>OST_WEST_KZ</td>\n",
       "      <td>building</td>\n",
       "      <td>categorical</td>\n",
       "      <td>[-1]</td>\n",
       "    </tr>\n",
       "    <tr>\n",
       "      <th>56</th>\n",
       "      <td>WOHNLAGE</td>\n",
       "      <td>building</td>\n",
       "      <td>mixed</td>\n",
       "      <td>[-1]</td>\n",
       "    </tr>\n",
       "    <tr>\n",
       "      <th>57</th>\n",
       "      <td>CAMEO_DEUG_2015</td>\n",
       "      <td>microcell_rr4</td>\n",
       "      <td>categorical</td>\n",
       "      <td>[-1,X]</td>\n",
       "    </tr>\n",
       "    <tr>\n",
       "      <th>58</th>\n",
       "      <td>CAMEO_DEU_2015</td>\n",
       "      <td>microcell_rr4</td>\n",
       "      <td>categorical</td>\n",
       "      <td>[XX]</td>\n",
       "    </tr>\n",
       "    <tr>\n",
       "      <th>59</th>\n",
       "      <td>CAMEO_INTL_2015</td>\n",
       "      <td>microcell_rr4</td>\n",
       "      <td>mixed</td>\n",
       "      <td>[-1,XX]</td>\n",
       "    </tr>\n",
       "    <tr>\n",
       "      <th>60</th>\n",
       "      <td>KBA05_ANTG1</td>\n",
       "      <td>microcell_rr3</td>\n",
       "      <td>ordinal</td>\n",
       "      <td>[-1]</td>\n",
       "    </tr>\n",
       "    <tr>\n",
       "      <th>61</th>\n",
       "      <td>KBA05_ANTG2</td>\n",
       "      <td>microcell_rr3</td>\n",
       "      <td>ordinal</td>\n",
       "      <td>[-1]</td>\n",
       "    </tr>\n",
       "    <tr>\n",
       "      <th>62</th>\n",
       "      <td>KBA05_ANTG3</td>\n",
       "      <td>microcell_rr3</td>\n",
       "      <td>ordinal</td>\n",
       "      <td>[-1]</td>\n",
       "    </tr>\n",
       "    <tr>\n",
       "      <th>63</th>\n",
       "      <td>KBA05_ANTG4</td>\n",
       "      <td>microcell_rr3</td>\n",
       "      <td>ordinal</td>\n",
       "      <td>[-1]</td>\n",
       "    </tr>\n",
       "    <tr>\n",
       "      <th>64</th>\n",
       "      <td>KBA05_BAUMAX</td>\n",
       "      <td>microcell_rr3</td>\n",
       "      <td>mixed</td>\n",
       "      <td>[-1,0]</td>\n",
       "    </tr>\n",
       "    <tr>\n",
       "      <th>65</th>\n",
       "      <td>KBA05_GBZ</td>\n",
       "      <td>microcell_rr3</td>\n",
       "      <td>ordinal</td>\n",
       "      <td>[-1,0]</td>\n",
       "    </tr>\n",
       "    <tr>\n",
       "      <th>66</th>\n",
       "      <td>BALLRAUM</td>\n",
       "      <td>postcode</td>\n",
       "      <td>ordinal</td>\n",
       "      <td>[-1]</td>\n",
       "    </tr>\n",
       "    <tr>\n",
       "      <th>67</th>\n",
       "      <td>EWDICHTE</td>\n",
       "      <td>postcode</td>\n",
       "      <td>ordinal</td>\n",
       "      <td>[-1]</td>\n",
       "    </tr>\n",
       "    <tr>\n",
       "      <th>68</th>\n",
       "      <td>INNENSTADT</td>\n",
       "      <td>postcode</td>\n",
       "      <td>ordinal</td>\n",
       "      <td>[-1]</td>\n",
       "    </tr>\n",
       "    <tr>\n",
       "      <th>69</th>\n",
       "      <td>GEBAEUDETYP_RASTER</td>\n",
       "      <td>region_rr1</td>\n",
       "      <td>ordinal</td>\n",
       "      <td>[]</td>\n",
       "    </tr>\n",
       "    <tr>\n",
       "      <th>70</th>\n",
       "      <td>KKK</td>\n",
       "      <td>region_rr1</td>\n",
       "      <td>ordinal</td>\n",
       "      <td>[-1,0]</td>\n",
       "    </tr>\n",
       "    <tr>\n",
       "      <th>71</th>\n",
       "      <td>MOBI_REGIO</td>\n",
       "      <td>region_rr1</td>\n",
       "      <td>ordinal</td>\n",
       "      <td>[]</td>\n",
       "    </tr>\n",
       "    <tr>\n",
       "      <th>72</th>\n",
       "      <td>ONLINE_AFFINITAET</td>\n",
       "      <td>region_rr1</td>\n",
       "      <td>ordinal</td>\n",
       "      <td>[]</td>\n",
       "    </tr>\n",
       "    <tr>\n",
       "      <th>73</th>\n",
       "      <td>REGIOTYP</td>\n",
       "      <td>region_rr1</td>\n",
       "      <td>ordinal</td>\n",
       "      <td>[-1,0]</td>\n",
       "    </tr>\n",
       "    <tr>\n",
       "      <th>74</th>\n",
       "      <td>KBA13_ANZAHL_PKW</td>\n",
       "      <td>macrocell_plz8</td>\n",
       "      <td>numeric</td>\n",
       "      <td>[]</td>\n",
       "    </tr>\n",
       "    <tr>\n",
       "      <th>75</th>\n",
       "      <td>PLZ8_ANTG1</td>\n",
       "      <td>macrocell_plz8</td>\n",
       "      <td>ordinal</td>\n",
       "      <td>[-1]</td>\n",
       "    </tr>\n",
       "    <tr>\n",
       "      <th>76</th>\n",
       "      <td>PLZ8_ANTG2</td>\n",
       "      <td>macrocell_plz8</td>\n",
       "      <td>ordinal</td>\n",
       "      <td>[-1]</td>\n",
       "    </tr>\n",
       "    <tr>\n",
       "      <th>77</th>\n",
       "      <td>PLZ8_ANTG3</td>\n",
       "      <td>macrocell_plz8</td>\n",
       "      <td>ordinal</td>\n",
       "      <td>[-1]</td>\n",
       "    </tr>\n",
       "    <tr>\n",
       "      <th>78</th>\n",
       "      <td>PLZ8_ANTG4</td>\n",
       "      <td>macrocell_plz8</td>\n",
       "      <td>ordinal</td>\n",
       "      <td>[-1]</td>\n",
       "    </tr>\n",
       "    <tr>\n",
       "      <th>79</th>\n",
       "      <td>PLZ8_BAUMAX</td>\n",
       "      <td>macrocell_plz8</td>\n",
       "      <td>mixed</td>\n",
       "      <td>[-1,0]</td>\n",
       "    </tr>\n",
       "    <tr>\n",
       "      <th>80</th>\n",
       "      <td>PLZ8_HHZ</td>\n",
       "      <td>macrocell_plz8</td>\n",
       "      <td>ordinal</td>\n",
       "      <td>[-1]</td>\n",
       "    </tr>\n",
       "    <tr>\n",
       "      <th>81</th>\n",
       "      <td>PLZ8_GBZ</td>\n",
       "      <td>macrocell_plz8</td>\n",
       "      <td>ordinal</td>\n",
       "      <td>[-1]</td>\n",
       "    </tr>\n",
       "    <tr>\n",
       "      <th>82</th>\n",
       "      <td>ARBEIT</td>\n",
       "      <td>community</td>\n",
       "      <td>ordinal</td>\n",
       "      <td>[-1,9]</td>\n",
       "    </tr>\n",
       "    <tr>\n",
       "      <th>83</th>\n",
       "      <td>ORTSGR_KLS9</td>\n",
       "      <td>community</td>\n",
       "      <td>ordinal</td>\n",
       "      <td>[-1,0]</td>\n",
       "    </tr>\n",
       "    <tr>\n",
       "      <th>84</th>\n",
       "      <td>RELAT_AB</td>\n",
       "      <td>community</td>\n",
       "      <td>ordinal</td>\n",
       "      <td>[-1,9]</td>\n",
       "    </tr>\n",
       "  </tbody>\n",
       "</table>\n",
       "<p>85 rows × 4 columns</p>\n",
       "</div>"
      ],
      "text/plain": [
       "                attribute information_level         type missing_or_unknown\n",
       "0                AGER_TYP            person  categorical             [-1,0]\n",
       "1    ALTERSKATEGORIE_GROB            person      ordinal           [-1,0,9]\n",
       "2               ANREDE_KZ            person  categorical             [-1,0]\n",
       "3           CJT_GESAMTTYP            person  categorical                [0]\n",
       "4       FINANZ_MINIMALIST            person      ordinal               [-1]\n",
       "5           FINANZ_SPARER            person      ordinal               [-1]\n",
       "6        FINANZ_VORSORGER            person      ordinal               [-1]\n",
       "7          FINANZ_ANLEGER            person      ordinal               [-1]\n",
       "8   FINANZ_UNAUFFAELLIGER            person      ordinal               [-1]\n",
       "9        FINANZ_HAUSBAUER            person      ordinal               [-1]\n",
       "10              FINANZTYP            person  categorical               [-1]\n",
       "11            GEBURTSJAHR            person      numeric                [0]\n",
       "12        GFK_URLAUBERTYP            person  categorical                 []\n",
       "13       GREEN_AVANTGARDE            person  categorical                 []\n",
       "14             HEALTH_TYP            person      ordinal             [-1,0]\n",
       "15    LP_LEBENSPHASE_FEIN            person        mixed                [0]\n",
       "16    LP_LEBENSPHASE_GROB            person        mixed                [0]\n",
       "17        LP_FAMILIE_FEIN            person  categorical                [0]\n",
       "18        LP_FAMILIE_GROB            person  categorical                [0]\n",
       "19         LP_STATUS_FEIN            person  categorical                [0]\n",
       "20         LP_STATUS_GROB            person  categorical                [0]\n",
       "21       NATIONALITAET_KZ            person  categorical             [-1,0]\n",
       "22  PRAEGENDE_JUGENDJAHRE            person        mixed             [-1,0]\n",
       "23         RETOURTYP_BK_S            person      ordinal                [0]\n",
       "24              SEMIO_SOZ            person      ordinal             [-1,9]\n",
       "25              SEMIO_FAM            person      ordinal             [-1,9]\n",
       "26              SEMIO_REL            person      ordinal             [-1,9]\n",
       "27              SEMIO_MAT            person      ordinal             [-1,9]\n",
       "28             SEMIO_VERT            person      ordinal             [-1,9]\n",
       "29             SEMIO_LUST            person      ordinal             [-1,9]\n",
       "..                    ...               ...          ...                ...\n",
       "55            OST_WEST_KZ          building  categorical               [-1]\n",
       "56               WOHNLAGE          building        mixed               [-1]\n",
       "57        CAMEO_DEUG_2015     microcell_rr4  categorical             [-1,X]\n",
       "58         CAMEO_DEU_2015     microcell_rr4  categorical               [XX]\n",
       "59        CAMEO_INTL_2015     microcell_rr4        mixed            [-1,XX]\n",
       "60            KBA05_ANTG1     microcell_rr3      ordinal               [-1]\n",
       "61            KBA05_ANTG2     microcell_rr3      ordinal               [-1]\n",
       "62            KBA05_ANTG3     microcell_rr3      ordinal               [-1]\n",
       "63            KBA05_ANTG4     microcell_rr3      ordinal               [-1]\n",
       "64           KBA05_BAUMAX     microcell_rr3        mixed             [-1,0]\n",
       "65              KBA05_GBZ     microcell_rr3      ordinal             [-1,0]\n",
       "66               BALLRAUM          postcode      ordinal               [-1]\n",
       "67               EWDICHTE          postcode      ordinal               [-1]\n",
       "68             INNENSTADT          postcode      ordinal               [-1]\n",
       "69     GEBAEUDETYP_RASTER        region_rr1      ordinal                 []\n",
       "70                    KKK        region_rr1      ordinal             [-1,0]\n",
       "71             MOBI_REGIO        region_rr1      ordinal                 []\n",
       "72      ONLINE_AFFINITAET        region_rr1      ordinal                 []\n",
       "73               REGIOTYP        region_rr1      ordinal             [-1,0]\n",
       "74       KBA13_ANZAHL_PKW    macrocell_plz8      numeric                 []\n",
       "75             PLZ8_ANTG1    macrocell_plz8      ordinal               [-1]\n",
       "76             PLZ8_ANTG2    macrocell_plz8      ordinal               [-1]\n",
       "77             PLZ8_ANTG3    macrocell_plz8      ordinal               [-1]\n",
       "78             PLZ8_ANTG4    macrocell_plz8      ordinal               [-1]\n",
       "79            PLZ8_BAUMAX    macrocell_plz8        mixed             [-1,0]\n",
       "80               PLZ8_HHZ    macrocell_plz8      ordinal               [-1]\n",
       "81               PLZ8_GBZ    macrocell_plz8      ordinal               [-1]\n",
       "82                 ARBEIT         community      ordinal             [-1,9]\n",
       "83            ORTSGR_KLS9         community      ordinal             [-1,0]\n",
       "84               RELAT_AB         community      ordinal             [-1,9]\n",
       "\n",
       "[85 rows x 4 columns]"
      ]
     },
     "execution_count": 6,
     "metadata": {},
     "output_type": "execute_result"
    }
   ],
   "source": [
    "feat_info"
   ]
  },
  {
   "cell_type": "markdown",
   "metadata": {},
   "source": [
    "> **Tip**: Add additional cells to keep everything in reasonably-sized chunks! Keyboard shortcut `esc --> a` (press escape to enter command mode, then press the 'A' key) adds a new cell before the active cell, and `esc --> b` adds a new cell after the active cell. If you need to convert an active cell to a markdown cell, use `esc --> m` and to convert to a code cell, use `esc --> y`. \n",
    "\n",
    "## Step 1: Preprocessing\n",
    "\n",
    "### Step 1.1: Assess Missing Data\n",
    "\n",
    "The feature summary file contains a summary of properties for each demographics data column. You will use this file to help you make cleaning decisions during this stage of the project. First of all, you should assess the demographics data in terms of missing data. Pay attention to the following points as you perform your analysis, and take notes on what you observe. Make sure that you fill in the **Discussion** cell with your findings and decisions at the end of each step that has one!\n",
    "\n",
    "#### Step 1.1.1: Convert Missing Value Codes to NaNs\n",
    "The fourth column of the feature attributes summary (loaded in above as `feat_info`) documents the codes from the data dictionary that indicate missing or unknown data. While the file encodes this as a list (e.g. `[-1,0]`), this will get read in as a string object. You'll need to do a little bit of parsing to make use of it to identify and clean the data. Convert data that matches a 'missing' or 'unknown' value code into a numpy NaN value. You might want to see how much data takes on a 'missing' or 'unknown' code, and how much data is naturally missing, as a point of interest.\n",
    "\n",
    "**As one more reminder, you are encouraged to add additional cells to break up your analysis into manageable chunks.**"
   ]
  },
  {
   "cell_type": "code",
   "execution_count": 7,
   "metadata": {},
   "outputs": [],
   "source": [
    "# Identify missing or unknown data values and convert them to NaNs.\n",
    "import re, ast\n",
    "\n",
    "azdias_ = azdias.copy() # Keep copy of the original azdias df\n",
    "\n",
    "for idx, feat in feat_info.iterrows():\n",
    "    \n",
    "    attribute = feat['attribute']\n",
    "    \n",
    "    # Try converting string representation of list to actual list. If failed, then split up the string between commas to get the elements\n",
    "    try:\n",
    "        missing_or_unknown = ast.literal_eval(feat['missing_or_unknown'])\n",
    "    except:\n",
    "        missing_or_unknown = re.sub(r\"[\\[\\],]\", \" \", feat['missing_or_unknown']).strip().split()\n",
    "            \n",
    "    if missing_or_unknown:\n",
    "        idx_missing_unknown = azdias_[attribute].isin(missing_or_unknown) # Identify rows matching the missing value codes\n",
    "        azdias_.loc[idx_missing_unknown, attribute] = np.nan # Replace missing or unknown with NaN"
   ]
  },
  {
   "cell_type": "markdown",
   "metadata": {},
   "source": [
    "#### Step 1.1.2: Assess Missing Data in Each Column\n",
    "\n",
    "How much missing data is present in each column? There are a few columns that are outliers in terms of the proportion of values that are missing. You will want to use matplotlib's [`hist()`](https://matplotlib.org/api/_as_gen/matplotlib.pyplot.hist.html) function to visualize the distribution of missing value counts to find these columns. Identify and document these columns. While some of these columns might have justifications for keeping or re-encoding the data, for this project you should just remove them from the dataframe. (Feel free to make remarks about these outlier columns in the discussion, however!)\n",
    "\n",
    "For the remaining features, are there any patterns in which columns have, or share, missing data?"
   ]
  },
  {
   "cell_type": "code",
   "execution_count": 8,
   "metadata": {},
   "outputs": [],
   "source": [
    "# Perform an assessment of how much missing data there is in each column of the\n",
    "# dataset.\n",
    "\n",
    "# Calculate the number of Nans in each column \n",
    "missing = azdias_.isnull().sum()\n",
    "missing_pct = missing / len(azdias_)"
   ]
  },
  {
   "cell_type": "code",
   "execution_count": 9,
   "metadata": {},
   "outputs": [
    {
     "data": {
      "text/plain": [
       "TITEL_KZ                 0.997576\n",
       "AGER_TYP                 0.769554\n",
       "KK_KUNDENTYP             0.655967\n",
       "KBA05_BAUMAX             0.534687\n",
       "GEBURTSJAHR              0.440203\n",
       "ALTER_HH                 0.348137\n",
       "REGIOTYP                 0.177357\n",
       "KKK                      0.177357\n",
       "W_KEIT_KIND_HH           0.166051\n",
       "KBA05_ANTG4              0.149597\n",
       "KBA05_GBZ                0.149597\n",
       "MOBI_REGIO               0.149597\n",
       "KBA05_ANTG1              0.149597\n",
       "KBA05_ANTG2              0.149597\n",
       "KBA05_ANTG3              0.149597\n",
       "PLZ8_GBZ                 0.130736\n",
       "PLZ8_HHZ                 0.130736\n",
       "PLZ8_BAUMAX              0.130736\n",
       "PLZ8_ANTG4               0.130736\n",
       "PLZ8_ANTG1               0.130736\n",
       "PLZ8_ANTG3               0.130736\n",
       "PLZ8_ANTG2               0.130736\n",
       "SHOPPER_TYP              0.124768\n",
       "VERS_TYP                 0.124768\n",
       "HEALTH_TYP               0.124768\n",
       "NATIONALITAET_KZ         0.121536\n",
       "PRAEGENDE_JUGENDJAHRE    0.121366\n",
       "KBA13_ANZAHL_PKW         0.118714\n",
       "ANZ_HAUSHALTE_AKTIV      0.111769\n",
       "CAMEO_INTL_2015          0.111479\n",
       "                           ...   \n",
       "RETOURTYP_BK_S           0.005446\n",
       "ONLINE_AFFINITAET        0.005446\n",
       "LP_STATUS_FEIN           0.005446\n",
       "LP_STATUS_GROB           0.005446\n",
       "GFK_URLAUBERTYP          0.005446\n",
       "ALTERSKATEGORIE_GROB     0.003233\n",
       "FINANZTYP                0.000000\n",
       "GREEN_AVANTGARDE         0.000000\n",
       "FINANZ_HAUSBAUER         0.000000\n",
       "FINANZ_UNAUFFAELLIGER    0.000000\n",
       "FINANZ_ANLEGER           0.000000\n",
       "FINANZ_SPARER            0.000000\n",
       "FINANZ_MINIMALIST        0.000000\n",
       "ANREDE_KZ                0.000000\n",
       "FINANZ_VORSORGER         0.000000\n",
       "SEMIO_FAM                0.000000\n",
       "SEMIO_SOZ                0.000000\n",
       "SEMIO_REL                0.000000\n",
       "SEMIO_MAT                0.000000\n",
       "SEMIO_VERT               0.000000\n",
       "SEMIO_LUST               0.000000\n",
       "SEMIO_ERL                0.000000\n",
       "SEMIO_KULT               0.000000\n",
       "SEMIO_RAT                0.000000\n",
       "SEMIO_KRIT               0.000000\n",
       "SEMIO_DOM                0.000000\n",
       "SEMIO_KAEM               0.000000\n",
       "SEMIO_PFLICHT            0.000000\n",
       "SEMIO_TRADV              0.000000\n",
       "ZABEOTYP                 0.000000\n",
       "Length: 85, dtype: float64"
      ]
     },
     "execution_count": 9,
     "metadata": {},
     "output_type": "execute_result"
    }
   ],
   "source": [
    "# Investigate patterns in the amount of missing data in each column.\n",
    "missing_pct.sort_values(ascending=False)"
   ]
  },
  {
   "cell_type": "code",
   "execution_count": 10,
   "metadata": {},
   "outputs": [
    {
     "name": "stdout",
     "output_type": "stream",
     "text": [
      "AGER_TYP                 0.769554\n",
      "ALTERSKATEGORIE_GROB     0.003233\n",
      "ANREDE_KZ                0.000000\n",
      "CJT_GESAMTTYP            0.005446\n",
      "FINANZ_MINIMALIST        0.000000\n",
      "FINANZ_SPARER            0.000000\n",
      "FINANZ_VORSORGER         0.000000\n",
      "FINANZ_ANLEGER           0.000000\n",
      "FINANZ_UNAUFFAELLIGER    0.000000\n",
      "FINANZ_HAUSBAUER         0.000000\n",
      "FINANZTYP                0.000000\n",
      "GEBURTSJAHR              0.440203\n",
      "GFK_URLAUBERTYP          0.005446\n",
      "GREEN_AVANTGARDE         0.000000\n",
      "HEALTH_TYP               0.124768\n",
      "LP_LEBENSPHASE_FEIN      0.109549\n",
      "LP_LEBENSPHASE_GROB      0.106115\n",
      "LP_FAMILIE_FEIN          0.087287\n",
      "LP_FAMILIE_GROB          0.087287\n",
      "LP_STATUS_FEIN           0.005446\n",
      "LP_STATUS_GROB           0.005446\n",
      "NATIONALITAET_KZ         0.121536\n",
      "PRAEGENDE_JUGENDJAHRE    0.121366\n",
      "RETOURTYP_BK_S           0.005446\n",
      "SEMIO_SOZ                0.000000\n",
      "SEMIO_FAM                0.000000\n",
      "SEMIO_REL                0.000000\n",
      "SEMIO_MAT                0.000000\n",
      "SEMIO_VERT               0.000000\n",
      "SEMIO_LUST               0.000000\n",
      "SEMIO_ERL                0.000000\n",
      "SEMIO_KULT               0.000000\n",
      "SEMIO_RAT                0.000000\n",
      "SEMIO_KRIT               0.000000\n",
      "SEMIO_DOM                0.000000\n",
      "SEMIO_KAEM               0.000000\n",
      "SEMIO_PFLICHT            0.000000\n",
      "SEMIO_TRADV              0.000000\n",
      "SHOPPER_TYP              0.124768\n",
      "SOHO_KZ                  0.082470\n",
      "TITEL_KZ                 0.997576\n",
      "VERS_TYP                 0.124768\n",
      "ZABEOTYP                 0.000000\n",
      "ALTER_HH                 0.348137\n",
      "ANZ_PERSONEN             0.082470\n",
      "ANZ_TITEL                0.082470\n",
      "HH_EINKOMMEN_SCORE       0.020587\n",
      "KK_KUNDENTYP             0.655967\n",
      "W_KEIT_KIND_HH           0.166051\n",
      "WOHNDAUER_2008           0.082470\n",
      "ANZ_HAUSHALTE_AKTIV      0.111769\n",
      "ANZ_HH_TITEL             0.108848\n",
      "GEBAEUDETYP              0.104517\n",
      "KONSUMNAEHE              0.082997\n",
      "MIN_GEBAEUDEJAHR         0.104517\n",
      "OST_WEST_KZ              0.104517\n",
      "WOHNLAGE                 0.104517\n",
      "CAMEO_DEUG_2015          0.111479\n",
      "CAMEO_DEU_2015           0.111479\n",
      "CAMEO_INTL_2015          0.111479\n",
      "KBA05_ANTG1              0.149597\n",
      "KBA05_ANTG2              0.149597\n",
      "KBA05_ANTG3              0.149597\n",
      "KBA05_ANTG4              0.149597\n",
      "KBA05_BAUMAX             0.534687\n",
      "KBA05_GBZ                0.149597\n",
      "BALLRAUM                 0.105182\n",
      "EWDICHTE                 0.105182\n",
      "INNENSTADT               0.105182\n",
      "GEBAEUDETYP_RASTER       0.104525\n",
      "KKK                      0.177357\n",
      "MOBI_REGIO               0.149597\n",
      "ONLINE_AFFINITAET        0.005446\n",
      "REGIOTYP                 0.177357\n",
      "KBA13_ANZAHL_PKW         0.118714\n",
      "PLZ8_ANTG1               0.130736\n",
      "PLZ8_ANTG2               0.130736\n",
      "PLZ8_ANTG3               0.130736\n",
      "PLZ8_ANTG4               0.130736\n",
      "PLZ8_BAUMAX              0.130736\n",
      "PLZ8_HHZ                 0.130736\n",
      "PLZ8_GBZ                 0.130736\n",
      "ARBEIT                   0.109260\n",
      "ORTSGR_KLS9              0.109147\n",
      "RELAT_AB                 0.109260\n",
      "dtype: float64\n"
     ]
    }
   ],
   "source": [
    "# Display missing pct for all columns\n",
    "\n",
    "# Change the # of rows getting display temporarily before switching back\n",
    "current_max_row = pd.options.display.max_rows\n",
    "pd.options.display.max_rows = 100\n",
    "\n",
    "print(missing_pct)\n",
    "\n",
    "pd.options.display.max_rows = current_max_row"
   ]
  },
  {
   "cell_type": "code",
   "execution_count": 11,
   "metadata": {},
   "outputs": [
    {
     "data": {
      "text/plain": [
       "count    85.000000\n",
       "mean      0.110541\n",
       "std       0.164498\n",
       "min       0.000000\n",
       "25%       0.000000\n",
       "50%       0.104517\n",
       "75%       0.130736\n",
       "max       0.997576\n",
       "dtype: float64"
      ]
     },
     "execution_count": 11,
     "metadata": {},
     "output_type": "execute_result"
    }
   ],
   "source": [
    "missing_pct.describe()"
   ]
  },
  {
   "cell_type": "code",
   "execution_count": 12,
   "metadata": {},
   "outputs": [],
   "source": [
    "# Remove the outlier columns from the dataset. (You'll perform other data\n",
    "# engineering tasks such as re-encoding and imputation later.)\n",
    "\n",
    "# Drop columns with missing percent > 30% \n",
    "outlier_cols = missing_pct[missing_pct > 0.30].index.tolist()\n",
    "\n",
    "azdias_.drop(outlier_cols, inplace=True, axis=1)"
   ]
  },
  {
   "cell_type": "markdown",
   "metadata": {},
   "source": [
    "#### Discussion 1.1.2: Assess Missing Data in Each Column\n",
    "The median column has about 10% of its values missing, but 6 columns have >30% of their values missing. After these columns the the next highest missing percentage is about 18%. \n",
    "\n",
    "Columns that are related have identical missing percentage. For example, the columns related to personality topology (\"SEMIO...\") have the same missing percentage, as do the columns related to RR3 micro cell features (\"KBA05...\").\n",
    "\n",
    "\n"
   ]
  },
  {
   "cell_type": "markdown",
   "metadata": {},
   "source": [
    "#### Step 1.1.3: Assess Missing Data in Each Row\n",
    "\n",
    "Now, you'll perform a similar assessment for the rows of the dataset. How much data is missing in each row? As with the columns, you should see some groups of points that have a very different numbers of missing values. Divide the data into two subsets: one for data points that are above some threshold for missing values, and a second subset for points below that threshold.\n",
    "\n",
    "In order to know what to do with the outlier rows, we should see if the distribution of data values on columns that are not missing data (or are missing very little data) are similar or different between the two groups. Select at least five of these columns and compare the distribution of values.\n",
    "- You can use seaborn's [`countplot()`](https://seaborn.pydata.org/generated/seaborn.countplot.html) function to create a bar chart of code frequencies and matplotlib's [`subplot()`](https://matplotlib.org/api/_as_gen/matplotlib.pyplot.subplot.html) function to put bar charts for the two subplots side by side.\n",
    "- To reduce repeated code, you might want to write a function that can perform this comparison, taking as one of its arguments a column to be compared.\n",
    "\n",
    "Depending on what you observe in your comparison, this will have implications on how you approach your conclusions later in the analysis. If the distributions of non-missing features look similar between the data with many missing values and the data with few or no missing values, then we could argue that simply dropping those points from the analysis won't present a major issue. On the other hand, if the data with many missing values looks very different from the data with few or no missing values, then we should make a note on those data as special. We'll revisit these data later on. **Either way, you should continue your analysis for now using just the subset of the data with few or no missing values.**"
   ]
  },
  {
   "cell_type": "code",
   "execution_count": 13,
   "metadata": {},
   "outputs": [
    {
     "data": {
      "text/plain": [
       "<matplotlib.axes._subplots.AxesSubplot at 0x7fb5e82ff828>"
      ]
     },
     "execution_count": 13,
     "metadata": {},
     "output_type": "execute_result"
    },
    {
     "data": {
      "image/png": "[encoded data removed]",
      "text/plain": [
       "<Figure size 1440x720 with 1 Axes>"
      ]
     },
     "metadata": {},
     "output_type": "display_data"
    }
   ],
   "source": [
    "# How much data is missing in each row of the dataset?\n",
    "missing_per_row = azdias_.isnull().sum(axis=1)\n",
    "\n",
    "# Plot the distribution of rows by their numbers of missing attributes\n",
    "plt.figure(figsize=(20,10))\n",
    "sns.countplot(x=missing_per_row)"
   ]
  },
  {
   "cell_type": "code",
   "execution_count": 14,
   "metadata": {},
   "outputs": [],
   "source": [
    "# Write code to divide the data into two subsets based on the number of missing\n",
    "# values in each row.\n",
    "no_row_missing = azdias_[missing_per_row == 0]\n",
    "row_missing = azdias_[missing_per_row > 0]"
   ]
  },
  {
   "cell_type": "code",
   "execution_count": 15,
   "metadata": {},
   "outputs": [
    {
     "data": {
      "image/png": "[encoded data removed]",
      "text/plain": [
       "<Figure size 720x720 with 2 Axes>"
      ]
     },
     "metadata": {},
     "output_type": "display_data"
    },
    {
     "data": {
      "image/png": "[encoded data removed]",
      "text/plain": [
       "<Figure size 720x720 with 2 Axes>"
      ]
     },
     "metadata": {},
     "output_type": "display_data"
    },
    {
     "data": {
      "image/png": "[encoded data removed]",
      "text/plain": [
       "<Figure size 720x720 with 2 Axes>"
      ]
     },
     "metadata": {},
     "output_type": "display_data"
    },
    {
     "data": {
      "image/png": "[encoded data removed]",
      "text/plain": [
       "<Figure size 720x720 with 2 Axes>"
      ]
     },
     "metadata": {},
     "output_type": "display_data"
    },
    {
     "data": {
      "image/png": "[encoded data removed]",
      "text/plain": [
       "<Figure size 720x720 with 2 Axes>"
      ]
     },
     "metadata": {},
     "output_type": "display_data"
    }
   ],
   "source": [
    "# Compare the distribution of values for at least five columns where there are\n",
    "# no or few missing values, between the two subsets.\n",
    "\n",
    "def compare_feature_distribution(feature_name, subset1, subset2):\n",
    "    plt.figure(figsize=(10,10))\n",
    "    \n",
    "    plt.subplot(1, 2, 1)\n",
    "    plt.title('Subset 1')\n",
    "    sns.countplot(x=feature_name, data=subset1)\n",
    "    \n",
    "    plt.subplot(1, 2, 2)\n",
    "    plt.title('Subset 2')\n",
    "    sns.countplot(x=feature_name, data=subset2)\n",
    "    \n",
    "\n",
    "features = missing_pct.sort_values(ascending=True).index[:5].tolist() # Select top 5 columns with least amount of missing values\n",
    "\n",
    "\n",
    "for feat in features:\n",
    "    compare_feature_distribution(feat, no_row_missing, row_missing)\n",
    "    "
   ]
  },
  {
   "cell_type": "markdown",
   "metadata": {},
   "source": [
    "#### Discussion 1.1.3: Assess Missing Data in Each Row\n",
    "\n",
    "The subset of data with 0 values missing seem to have different distributions than the ones with more missing columns. Plotting the top 5 columns with the least amount of missing and comparing the distributions between the two subsets of data indicate that they have different distribution across most of these columns"
   ]
  },
  {
   "cell_type": "code",
   "execution_count": 16,
   "metadata": {},
   "outputs": [
    {
     "name": "stdout",
     "output_type": "stream",
     "text": [
      "<class 'pandas.core.frame.DataFrame'>\n",
      "Int64Index: 623209 entries, 1 to 891220\n",
      "Data columns (total 79 columns):\n",
      "ALTERSKATEGORIE_GROB     623209 non-null float64\n",
      "ANREDE_KZ                623209 non-null float64\n",
      "CJT_GESAMTTYP            623209 non-null float64\n",
      "FINANZ_MINIMALIST        623209 non-null float64\n",
      "FINANZ_SPARER            623209 non-null float64\n",
      "FINANZ_VORSORGER         623209 non-null float64\n",
      "FINANZ_ANLEGER           623209 non-null float64\n",
      "FINANZ_UNAUFFAELLIGER    623209 non-null float64\n",
      "FINANZ_HAUSBAUER         623209 non-null float64\n",
      "FINANZTYP                623209 non-null float64\n",
      "GFK_URLAUBERTYP          623209 non-null float64\n",
      "GREEN_AVANTGARDE         623209 non-null int64\n",
      "HEALTH_TYP               623209 non-null float64\n",
      "LP_LEBENSPHASE_FEIN      623209 non-null float64\n",
      "LP_LEBENSPHASE_GROB      623209 non-null float64\n",
      "LP_FAMILIE_FEIN          623209 non-null float64\n",
      "LP_FAMILIE_GROB          623209 non-null float64\n",
      "LP_STATUS_FEIN           623209 non-null float64\n",
      "LP_STATUS_GROB           623209 non-null float64\n",
      "NATIONALITAET_KZ         623209 non-null float64\n",
      "PRAEGENDE_JUGENDJAHRE    623209 non-null float64\n",
      "RETOURTYP_BK_S           623209 non-null float64\n",
      "SEMIO_SOZ                623209 non-null float64\n",
      "SEMIO_FAM                623209 non-null float64\n",
      "SEMIO_REL                623209 non-null float64\n",
      "SEMIO_MAT                623209 non-null float64\n",
      "SEMIO_VERT               623209 non-null float64\n",
      "SEMIO_LUST               623209 non-null float64\n",
      "SEMIO_ERL                623209 non-null float64\n",
      "SEMIO_KULT               623209 non-null float64\n",
      "SEMIO_RAT                623209 non-null float64\n",
      "SEMIO_KRIT               623209 non-null float64\n",
      "SEMIO_DOM                623209 non-null float64\n",
      "SEMIO_KAEM               623209 non-null float64\n",
      "SEMIO_PFLICHT            623209 non-null float64\n",
      "SEMIO_TRADV              623209 non-null float64\n",
      "SHOPPER_TYP              623209 non-null float64\n",
      "SOHO_KZ                  623209 non-null float64\n",
      "VERS_TYP                 623209 non-null float64\n",
      "ZABEOTYP                 623209 non-null float64\n",
      "ANZ_PERSONEN             623209 non-null float64\n",
      "ANZ_TITEL                623209 non-null float64\n",
      "HH_EINKOMMEN_SCORE       623209 non-null float64\n",
      "W_KEIT_KIND_HH           623209 non-null float64\n",
      "WOHNDAUER_2008           623209 non-null float64\n",
      "ANZ_HAUSHALTE_AKTIV      623209 non-null float64\n",
      "ANZ_HH_TITEL             623209 non-null float64\n",
      "GEBAEUDETYP              623209 non-null float64\n",
      "KONSUMNAEHE              623209 non-null float64\n",
      "MIN_GEBAEUDEJAHR         623209 non-null float64\n",
      "OST_WEST_KZ              623209 non-null object\n",
      "WOHNLAGE                 623209 non-null float64\n",
      "CAMEO_DEUG_2015          623209 non-null object\n",
      "CAMEO_DEU_2015           623209 non-null object\n",
      "CAMEO_INTL_2015          623209 non-null object\n",
      "KBA05_ANTG1              623209 non-null float64\n",
      "KBA05_ANTG2              623209 non-null float64\n",
      "KBA05_ANTG3              623209 non-null float64\n",
      "KBA05_ANTG4              623209 non-null float64\n",
      "KBA05_GBZ                623209 non-null float64\n",
      "BALLRAUM                 623209 non-null float64\n",
      "EWDICHTE                 623209 non-null float64\n",
      "INNENSTADT               623209 non-null float64\n",
      "GEBAEUDETYP_RASTER       623209 non-null float64\n",
      "KKK                      623209 non-null float64\n",
      "MOBI_REGIO               623209 non-null float64\n",
      "ONLINE_AFFINITAET        623209 non-null float64\n",
      "REGIOTYP                 623209 non-null float64\n",
      "KBA13_ANZAHL_PKW         623209 non-null float64\n",
      "PLZ8_ANTG1               623209 non-null float64\n",
      "PLZ8_ANTG2               623209 non-null float64\n",
      "PLZ8_ANTG3               623209 non-null float64\n",
      "PLZ8_ANTG4               623209 non-null float64\n",
      "PLZ8_BAUMAX              623209 non-null float64\n",
      "PLZ8_HHZ                 623209 non-null float64\n",
      "PLZ8_GBZ                 623209 non-null float64\n",
      "ARBEIT                   623209 non-null float64\n",
      "ORTSGR_KLS9              623209 non-null float64\n",
      "RELAT_AB                 623209 non-null float64\n",
      "dtypes: float64(74), int64(1), object(4)\n",
      "memory usage: 400.4+ MB\n",
      "<class 'pandas.core.frame.DataFrame'>\n",
      "Int64Index: 268012 entries, 0 to 891218\n",
      "Data columns (total 79 columns):\n",
      "ALTERSKATEGORIE_GROB     265131 non-null float64\n",
      "ANREDE_KZ                268012 non-null float64\n",
      "CJT_GESAMTTYP            263158 non-null float64\n",
      "FINANZ_MINIMALIST        268012 non-null float64\n",
      "FINANZ_SPARER            268012 non-null float64\n",
      "FINANZ_VORSORGER         268012 non-null float64\n",
      "FINANZ_ANLEGER           268012 non-null float64\n",
      "FINANZ_UNAUFFAELLIGER    268012 non-null float64\n",
      "FINANZ_HAUSBAUER         268012 non-null float64\n",
      "FINANZTYP                268012 non-null float64\n",
      "GFK_URLAUBERTYP          263158 non-null float64\n",
      "GREEN_AVANTGARDE         268012 non-null int64\n",
      "HEALTH_TYP               156816 non-null float64\n",
      "LP_LEBENSPHASE_FEIN      170380 non-null float64\n",
      "LP_LEBENSPHASE_GROB      173440 non-null float64\n",
      "LP_FAMILIE_FEIN          190220 non-null float64\n",
      "LP_FAMILIE_GROB          190220 non-null float64\n",
      "LP_STATUS_FEIN           263158 non-null float64\n",
      "LP_STATUS_GROB           263158 non-null float64\n",
      "NATIONALITAET_KZ         159697 non-null float64\n",
      "PRAEGENDE_JUGENDJAHRE    159848 non-null float64\n",
      "RETOURTYP_BK_S           263158 non-null float64\n",
      "SEMIO_SOZ                268012 non-null float64\n",
      "SEMIO_FAM                268012 non-null float64\n",
      "SEMIO_REL                268012 non-null float64\n",
      "SEMIO_MAT                268012 non-null float64\n",
      "SEMIO_VERT               268012 non-null float64\n",
      "SEMIO_LUST               268012 non-null float64\n",
      "SEMIO_ERL                268012 non-null float64\n",
      "SEMIO_KULT               268012 non-null float64\n",
      "SEMIO_RAT                268012 non-null float64\n",
      "SEMIO_KRIT               268012 non-null float64\n",
      "SEMIO_DOM                268012 non-null float64\n",
      "SEMIO_KAEM               268012 non-null float64\n",
      "SEMIO_PFLICHT            268012 non-null float64\n",
      "SEMIO_TRADV              268012 non-null float64\n",
      "SHOPPER_TYP              156816 non-null float64\n",
      "SOHO_KZ                  194513 non-null float64\n",
      "VERS_TYP                 156816 non-null float64\n",
      "ZABEOTYP                 268012 non-null float64\n",
      "ANZ_PERSONEN             194513 non-null float64\n",
      "ANZ_TITEL                194513 non-null float64\n",
      "HH_EINKOMMEN_SCORE       249664 non-null float64\n",
      "W_KEIT_KIND_HH           120024 non-null float64\n",
      "WOHNDAUER_2008           194513 non-null float64\n",
      "ANZ_HAUSHALTE_AKTIV      168401 non-null float64\n",
      "ANZ_HH_TITEL             171004 non-null float64\n",
      "GEBAEUDETYP              174864 non-null float64\n",
      "KONSUMNAEHE              194043 non-null float64\n",
      "MIN_GEBAEUDEJAHR         174864 non-null float64\n",
      "OST_WEST_KZ              174864 non-null object\n",
      "WOHNLAGE                 174864 non-null float64\n",
      "CAMEO_DEUG_2015          168660 non-null object\n",
      "CAMEO_DEU_2015           168660 non-null object\n",
      "CAMEO_INTL_2015          168660 non-null object\n",
      "KBA05_ANTG1              134688 non-null float64\n",
      "KBA05_ANTG2              134688 non-null float64\n",
      "KBA05_ANTG3              134688 non-null float64\n",
      "KBA05_ANTG4              134688 non-null float64\n",
      "KBA05_GBZ                134688 non-null float64\n",
      "BALLRAUM                 174272 non-null float64\n",
      "EWDICHTE                 174272 non-null float64\n",
      "INNENSTADT               174272 non-null float64\n",
      "GEBAEUDETYP_RASTER       174857 non-null float64\n",
      "KKK                      109948 non-null float64\n",
      "MOBI_REGIO               134688 non-null float64\n",
      "ONLINE_AFFINITAET        263158 non-null float64\n",
      "REGIOTYP                 109948 non-null float64\n",
      "KBA13_ANZAHL_PKW         162212 non-null float64\n",
      "PLZ8_ANTG1               151497 non-null float64\n",
      "PLZ8_ANTG2               151497 non-null float64\n",
      "PLZ8_ANTG3               151497 non-null float64\n",
      "PLZ8_ANTG4               151497 non-null float64\n",
      "PLZ8_BAUMAX              151497 non-null float64\n",
      "PLZ8_HHZ                 151497 non-null float64\n",
      "PLZ8_GBZ                 151497 non-null float64\n",
      "ARBEIT                   170637 non-null float64\n",
      "ORTSGR_KLS9              170738 non-null float64\n",
      "RELAT_AB                 170637 non-null float64\n",
      "dtypes: float64(74), int64(1), object(4)\n",
      "memory usage: 173.6+ MB\n"
     ]
    }
   ],
   "source": [
    "no_row_missing.info()\n",
    "row_missing.info()"
   ]
  },
  {
   "cell_type": "code",
   "execution_count": 17,
   "metadata": {},
   "outputs": [],
   "source": [
    "# Make a copy of the subset so further changes don't affect azdias_ directly\n",
    "no_row_missing = no_row_missing.copy()"
   ]
  },
  {
   "cell_type": "markdown",
   "metadata": {},
   "source": [
    "### Step 1.2: Select and Re-Encode Features\n",
    "\n",
    "Checking for missing data isn't the only way in which you can prepare a dataset for analysis. Since the unsupervised learning techniques to be used will only work on data that is encoded numerically, you need to make a few encoding changes or additional assumptions to be able to make progress. In addition, while almost all of the values in the dataset are encoded using numbers, not all of them represent numeric values. Check the third column of the feature summary (`feat_info`) for a summary of types of measurement.\n",
    "- For numeric and interval data, these features can be kept without changes.\n",
    "- Most of the variables in the dataset are ordinal in nature. While ordinal values may technically be non-linear in spacing, make the simplifying assumption that the ordinal variables can be treated as being interval in nature (that is, kept without any changes).\n",
    "- Special handling may be necessary for the remaining two variable types: categorical, and 'mixed'.\n",
    "\n",
    "In the first two parts of this sub-step, you will perform an investigation of the categorical and mixed-type features and make a decision on each of them, whether you will keep, drop, or re-encode each. Then, in the last part, you will create a new data frame with only the selected and engineered columns.\n",
    "\n",
    "Data wrangling is often the trickiest part of the data analysis process, and there's a lot of it to be done here. But stick with it: once you're done with this step, you'll be ready to get to the machine learning parts of the project!"
   ]
  },
  {
   "cell_type": "code",
   "execution_count": 18,
   "metadata": {},
   "outputs": [
    {
     "data": {
      "text/plain": [
       "ordinal        49\n",
       "categorical    21\n",
       "mixed           7\n",
       "numeric         7\n",
       "interval        1\n",
       "Name: type, dtype: int64"
      ]
     },
     "execution_count": 18,
     "metadata": {},
     "output_type": "execute_result"
    }
   ],
   "source": [
    "# How many features are there of each data type?\n",
    "feat_info['type'].value_counts()"
   ]
  },
  {
   "cell_type": "markdown",
   "metadata": {},
   "source": [
    "#### Step 1.2.1: Re-Encode Categorical Features\n",
    "\n",
    "For categorical data, you would ordinarily need to encode the levels as dummy variables. Depending on the number of categories, perform one of the following:\n",
    "- For binary (two-level) categoricals that take numeric values, you can keep them without needing to do anything.\n",
    "- There is one binary variable that takes on non-numeric values. For this one, you need to re-encode the values as numbers or create a dummy variable.\n",
    "- For multi-level categoricals (three or more values), you can choose to encode the values using multiple dummy variables (e.g. via [OneHotEncoder](http://scikit-learn.org/stable/modules/generated/sklearn.preprocessing.OneHotEncoder.html)), or (to keep things straightforward) just drop them from the analysis. As always, document your choices in the Discussion section."
   ]
  },
  {
   "cell_type": "code",
   "execution_count": 19,
   "metadata": {},
   "outputs": [
    {
     "name": "stdout",
     "output_type": "stream",
     "text": [
      "LP_STATUS_GROB: [1. 2. 5. 4. 3.]\n",
      "LP_FAMILIE_GROB: [3. 1. 5. 2. 4.]\n",
      "FINANZTYP: [1. 5. 2. 4. 6. 3.]\n",
      "OST_WEST_KZ: ['W' 'O']\n",
      "GEBAEUDETYP: [8. 1. 3. 5.]\n",
      "SHOPPER_TYP: [3. 2. 0. 1.]\n",
      "SOHO_KZ: [1. 0.]\n",
      "VERS_TYP: [2. 1.]\n",
      "GFK_URLAUBERTYP: [10.  5.  1. 12.  9.  3.  8. 11.  4.  7.  6.  2.]\n",
      "ANREDE_KZ: [2. 1.]\n",
      "ZABEOTYP: [5. 4. 1. 6. 3. 2.]\n",
      "CJT_GESAMTTYP: [5. 3. 2. 4. 1. 6.]\n",
      "NATIONALITAET_KZ: [1. 2. 3.]\n",
      "CAMEO_DEUG_2015: ['8' '4' '6' '2' '1' '9' '5' '7' '3']\n",
      "LP_FAMILIE_FEIN: [ 5.  1. 10.  2.  7. 11.  8.  4.  6.  9.  3.]\n",
      "LP_STATUS_FEIN: [ 2.  3.  4.  1. 10.  9.  5.  6.  7.  8.]\n",
      "CAMEO_DEU_2015: ['8A' '4C' '6B' '8C' '4A' '2D' '1A' '1E' '9D' '5D' '9E' '9B' '1B' '8B'\n",
      " '7A' '3D' '4E' '3C' '5A' '7B' '9A' '6E' '6D' '2C' '5C' '9C' '7D' '5E'\n",
      " '1D' '8D' '6C' '5B' '7C' '4D' '3A' '2B' '7E' '4B' '2A' '3B' '6F' '5F'\n",
      " '1C' '6A']\n",
      "GREEN_AVANTGARDE: [0 1]\n"
     ]
    }
   ],
   "source": [
    "# Assess categorical variables: which are binary, which are multi-level, and\n",
    "# which one needs to be re-encoded?\n",
    "\n",
    "# find categorial features that have not been dropped in Step 1.1.2\n",
    "categorical_features = set(feat_info[feat_info['type'] == 'categorical']['attribute'].tolist()) & set(no_row_missing.columns) \n",
    "for feature in categorical_features:\n",
    "    print(f\"{feature}: {no_row_missing[feature].unique()}\")\n"
   ]
  },
  {
   "cell_type": "code",
   "execution_count": 20,
   "metadata": {},
   "outputs": [],
   "source": [
    "# Re-encode categorical variable(s) to be kept in the analysis.\n",
    "categorical_features = set(categorical_features)\n",
    "\n",
    "binary_features = {'ANREDE_KZ', 'GREEN_AVANTGARDE', 'SOHO_KZ', 'VERS_TYP'} # Binary features that are already encoded as numeric valuesb\n",
    "\n",
    "features_to_encode = categorical_features - binary_features\n",
    "\n",
    "for feature in features_to_encode:\n",
    "    no_row_missing = pd.concat([no_row_missing, pd.get_dummies(no_row_missing[feature], prefix=feature, drop_first=True)], axis=1)\n",
    "    no_row_missing.drop([feature], axis=1, inplace=True)"
   ]
  },
  {
   "cell_type": "code",
   "execution_count": 21,
   "metadata": {},
   "outputs": [
    {
     "name": "stdout",
     "output_type": "stream",
     "text": [
      "Index(['ALTERSKATEGORIE_GROB', 'ANREDE_KZ', 'FINANZ_MINIMALIST',\n",
      "       'FINANZ_SPARER', 'FINANZ_VORSORGER', 'FINANZ_ANLEGER',\n",
      "       'FINANZ_UNAUFFAELLIGER', 'FINANZ_HAUSBAUER', 'GREEN_AVANTGARDE',\n",
      "       'HEALTH_TYP', 'LP_LEBENSPHASE_FEIN', 'LP_LEBENSPHASE_GROB',\n",
      "       'PRAEGENDE_JUGENDJAHRE', 'RETOURTYP_BK_S', 'SEMIO_SOZ', 'SEMIO_FAM',\n",
      "       'SEMIO_REL', 'SEMIO_MAT', 'SEMIO_VERT', 'SEMIO_LUST', 'SEMIO_ERL',\n",
      "       'SEMIO_KULT', 'SEMIO_RAT', 'SEMIO_KRIT', 'SEMIO_DOM', 'SEMIO_KAEM',\n",
      "       'SEMIO_PFLICHT', 'SEMIO_TRADV', 'SOHO_KZ', 'VERS_TYP', 'ANZ_PERSONEN',\n",
      "       'ANZ_TITEL', 'HH_EINKOMMEN_SCORE', 'W_KEIT_KIND_HH', 'WOHNDAUER_2008',\n",
      "       'ANZ_HAUSHALTE_AKTIV', 'ANZ_HH_TITEL', 'KONSUMNAEHE',\n",
      "       'MIN_GEBAEUDEJAHR', 'WOHNLAGE', 'CAMEO_INTL_2015', 'KBA05_ANTG1',\n",
      "       'KBA05_ANTG2', 'KBA05_ANTG3', 'KBA05_ANTG4', 'KBA05_GBZ', 'BALLRAUM',\n",
      "       'EWDICHTE', 'INNENSTADT', 'GEBAEUDETYP_RASTER', 'KKK', 'MOBI_REGIO',\n",
      "       'ONLINE_AFFINITAET', 'REGIOTYP', 'KBA13_ANZAHL_PKW', 'PLZ8_ANTG1',\n",
      "       'PLZ8_ANTG2', 'PLZ8_ANTG3', 'PLZ8_ANTG4', 'PLZ8_BAUMAX', 'PLZ8_HHZ',\n",
      "       'PLZ8_GBZ', 'ARBEIT', 'ORTSGR_KLS9', 'RELAT_AB', 'LP_FAMILIE_GROB_2.0',\n",
      "       'LP_FAMILIE_GROB_3.0', 'LP_FAMILIE_GROB_4.0', 'LP_FAMILIE_GROB_5.0',\n",
      "       'LP_STATUS_GROB_2.0', 'LP_STATUS_GROB_3.0', 'LP_STATUS_GROB_4.0',\n",
      "       'LP_STATUS_GROB_5.0', 'FINANZTYP_2.0', 'FINANZTYP_3.0', 'FINANZTYP_4.0',\n",
      "       'FINANZTYP_5.0', 'FINANZTYP_6.0', 'OST_WEST_KZ_W', 'GEBAEUDETYP_3.0',\n",
      "       'GEBAEUDETYP_5.0', 'GEBAEUDETYP_8.0', 'SHOPPER_TYP_1.0',\n",
      "       'SHOPPER_TYP_2.0', 'SHOPPER_TYP_3.0', 'GFK_URLAUBERTYP_2.0',\n",
      "       'GFK_URLAUBERTYP_3.0', 'GFK_URLAUBERTYP_4.0', 'GFK_URLAUBERTYP_5.0',\n",
      "       'GFK_URLAUBERTYP_6.0', 'GFK_URLAUBERTYP_7.0', 'GFK_URLAUBERTYP_8.0',\n",
      "       'GFK_URLAUBERTYP_9.0', 'GFK_URLAUBERTYP_10.0', 'GFK_URLAUBERTYP_11.0',\n",
      "       'GFK_URLAUBERTYP_12.0', 'ZABEOTYP_2.0', 'ZABEOTYP_3.0', 'ZABEOTYP_4.0',\n",
      "       'ZABEOTYP_5.0', 'ZABEOTYP_6.0', 'CJT_GESAMTTYP_2.0',\n",
      "       'CJT_GESAMTTYP_3.0', 'CJT_GESAMTTYP_4.0', 'CJT_GESAMTTYP_5.0',\n",
      "       'CJT_GESAMTTYP_6.0', 'NATIONALITAET_KZ_2.0', 'NATIONALITAET_KZ_3.0',\n",
      "       'CAMEO_DEUG_2015_2', 'CAMEO_DEUG_2015_3', 'CAMEO_DEUG_2015_4',\n",
      "       'CAMEO_DEUG_2015_5', 'CAMEO_DEUG_2015_6', 'CAMEO_DEUG_2015_7',\n",
      "       'CAMEO_DEUG_2015_8', 'CAMEO_DEUG_2015_9', 'LP_FAMILIE_FEIN_2.0',\n",
      "       'LP_FAMILIE_FEIN_3.0', 'LP_FAMILIE_FEIN_4.0', 'LP_FAMILIE_FEIN_5.0',\n",
      "       'LP_FAMILIE_FEIN_6.0', 'LP_FAMILIE_FEIN_7.0', 'LP_FAMILIE_FEIN_8.0',\n",
      "       'LP_FAMILIE_FEIN_9.0', 'LP_FAMILIE_FEIN_10.0', 'LP_FAMILIE_FEIN_11.0',\n",
      "       'LP_STATUS_FEIN_2.0', 'LP_STATUS_FEIN_3.0', 'LP_STATUS_FEIN_4.0',\n",
      "       'LP_STATUS_FEIN_5.0', 'LP_STATUS_FEIN_6.0', 'LP_STATUS_FEIN_7.0',\n",
      "       'LP_STATUS_FEIN_8.0', 'LP_STATUS_FEIN_9.0', 'LP_STATUS_FEIN_10.0',\n",
      "       'CAMEO_DEU_2015_1B', 'CAMEO_DEU_2015_1C', 'CAMEO_DEU_2015_1D',\n",
      "       'CAMEO_DEU_2015_1E', 'CAMEO_DEU_2015_2A', 'CAMEO_DEU_2015_2B',\n",
      "       'CAMEO_DEU_2015_2C', 'CAMEO_DEU_2015_2D', 'CAMEO_DEU_2015_3A',\n",
      "       'CAMEO_DEU_2015_3B', 'CAMEO_DEU_2015_3C', 'CAMEO_DEU_2015_3D',\n",
      "       'CAMEO_DEU_2015_4A', 'CAMEO_DEU_2015_4B', 'CAMEO_DEU_2015_4C',\n",
      "       'CAMEO_DEU_2015_4D', 'CAMEO_DEU_2015_4E', 'CAMEO_DEU_2015_5A',\n",
      "       'CAMEO_DEU_2015_5B', 'CAMEO_DEU_2015_5C', 'CAMEO_DEU_2015_5D',\n",
      "       'CAMEO_DEU_2015_5E', 'CAMEO_DEU_2015_5F', 'CAMEO_DEU_2015_6A',\n",
      "       'CAMEO_DEU_2015_6B', 'CAMEO_DEU_2015_6C', 'CAMEO_DEU_2015_6D',\n",
      "       'CAMEO_DEU_2015_6E', 'CAMEO_DEU_2015_6F', 'CAMEO_DEU_2015_7A',\n",
      "       'CAMEO_DEU_2015_7B', 'CAMEO_DEU_2015_7C', 'CAMEO_DEU_2015_7D',\n",
      "       'CAMEO_DEU_2015_7E', 'CAMEO_DEU_2015_8A', 'CAMEO_DEU_2015_8B',\n",
      "       'CAMEO_DEU_2015_8C', 'CAMEO_DEU_2015_8D', 'CAMEO_DEU_2015_9A',\n",
      "       'CAMEO_DEU_2015_9B', 'CAMEO_DEU_2015_9C', 'CAMEO_DEU_2015_9D',\n",
      "       'CAMEO_DEU_2015_9E'],\n",
      "      dtype='object')\n"
     ]
    }
   ],
   "source": [
    "# Print all column names\n",
    "import pprint\n",
    "pd.set_option('display.max_seq_items',None)\n",
    "pprint.pprint(no_row_missing.columns)"
   ]
  },
  {
   "cell_type": "code",
   "execution_count": 22,
   "metadata": {},
   "outputs": [
    {
     "name": "stdout",
     "output_type": "stream",
     "text": [
      "<class 'pandas.core.frame.DataFrame'>\n",
      "Int64Index: 623209 entries, 1 to 891220\n",
      "Columns: 178 entries, ALTERSKATEGORIE_GROB to CAMEO_DEU_2015_9E\n",
      "dtypes: float64(63), int64(1), object(1), uint8(113)\n",
      "memory usage: 381.0+ MB\n"
     ]
    }
   ],
   "source": [
    "no_row_missing.info()"
   ]
  },
  {
   "cell_type": "code",
   "execution_count": 23,
   "metadata": {},
   "outputs": [
    {
     "data": {
      "text/html": [
       "<div>\n",
       "<style>\n",
       "    .dataframe thead tr:only-child th {\n",
       "        text-align: right;\n",
       "    }\n",
       "\n",
       "    .dataframe thead th {\n",
       "        text-align: left;\n",
       "    }\n",
       "\n",
       "    .dataframe tbody tr th {\n",
       "        vertical-align: top;\n",
       "    }\n",
       "</style>\n",
       "<table border=\"1\" class=\"dataframe\">\n",
       "  <thead>\n",
       "    <tr style=\"text-align: right;\">\n",
       "      <th></th>\n",
       "      <th>ALTERSKATEGORIE_GROB</th>\n",
       "      <th>ANREDE_KZ</th>\n",
       "      <th>FINANZ_MINIMALIST</th>\n",
       "      <th>FINANZ_SPARER</th>\n",
       "      <th>FINANZ_VORSORGER</th>\n",
       "      <th>FINANZ_ANLEGER</th>\n",
       "      <th>FINANZ_UNAUFFAELLIGER</th>\n",
       "      <th>FINANZ_HAUSBAUER</th>\n",
       "      <th>GREEN_AVANTGARDE</th>\n",
       "      <th>HEALTH_TYP</th>\n",
       "      <th>...</th>\n",
       "      <th>CAMEO_DEU_2015_7E</th>\n",
       "      <th>CAMEO_DEU_2015_8A</th>\n",
       "      <th>CAMEO_DEU_2015_8B</th>\n",
       "      <th>CAMEO_DEU_2015_8C</th>\n",
       "      <th>CAMEO_DEU_2015_8D</th>\n",
       "      <th>CAMEO_DEU_2015_9A</th>\n",
       "      <th>CAMEO_DEU_2015_9B</th>\n",
       "      <th>CAMEO_DEU_2015_9C</th>\n",
       "      <th>CAMEO_DEU_2015_9D</th>\n",
       "      <th>CAMEO_DEU_2015_9E</th>\n",
       "    </tr>\n",
       "  </thead>\n",
       "  <tbody>\n",
       "    <tr>\n",
       "      <th>1</th>\n",
       "      <td>1.0</td>\n",
       "      <td>2.0</td>\n",
       "      <td>1.0</td>\n",
       "      <td>5.0</td>\n",
       "      <td>2.0</td>\n",
       "      <td>5.0</td>\n",
       "      <td>4.0</td>\n",
       "      <td>5.0</td>\n",
       "      <td>0</td>\n",
       "      <td>3.0</td>\n",
       "      <td>...</td>\n",
       "      <td>0</td>\n",
       "      <td>1</td>\n",
       "      <td>0</td>\n",
       "      <td>0</td>\n",
       "      <td>0</td>\n",
       "      <td>0</td>\n",
       "      <td>0</td>\n",
       "      <td>0</td>\n",
       "      <td>0</td>\n",
       "      <td>0</td>\n",
       "    </tr>\n",
       "    <tr>\n",
       "      <th>2</th>\n",
       "      <td>3.0</td>\n",
       "      <td>2.0</td>\n",
       "      <td>1.0</td>\n",
       "      <td>4.0</td>\n",
       "      <td>1.0</td>\n",
       "      <td>2.0</td>\n",
       "      <td>3.0</td>\n",
       "      <td>5.0</td>\n",
       "      <td>1</td>\n",
       "      <td>3.0</td>\n",
       "      <td>...</td>\n",
       "      <td>0</td>\n",
       "      <td>0</td>\n",
       "      <td>0</td>\n",
       "      <td>0</td>\n",
       "      <td>0</td>\n",
       "      <td>0</td>\n",
       "      <td>0</td>\n",
       "      <td>0</td>\n",
       "      <td>0</td>\n",
       "      <td>0</td>\n",
       "    </tr>\n",
       "    <tr>\n",
       "      <th>4</th>\n",
       "      <td>3.0</td>\n",
       "      <td>1.0</td>\n",
       "      <td>4.0</td>\n",
       "      <td>3.0</td>\n",
       "      <td>4.0</td>\n",
       "      <td>1.0</td>\n",
       "      <td>3.0</td>\n",
       "      <td>2.0</td>\n",
       "      <td>0</td>\n",
       "      <td>3.0</td>\n",
       "      <td>...</td>\n",
       "      <td>0</td>\n",
       "      <td>0</td>\n",
       "      <td>0</td>\n",
       "      <td>0</td>\n",
       "      <td>0</td>\n",
       "      <td>0</td>\n",
       "      <td>0</td>\n",
       "      <td>0</td>\n",
       "      <td>0</td>\n",
       "      <td>0</td>\n",
       "    </tr>\n",
       "    <tr>\n",
       "      <th>5</th>\n",
       "      <td>1.0</td>\n",
       "      <td>2.0</td>\n",
       "      <td>3.0</td>\n",
       "      <td>1.0</td>\n",
       "      <td>5.0</td>\n",
       "      <td>2.0</td>\n",
       "      <td>2.0</td>\n",
       "      <td>5.0</td>\n",
       "      <td>0</td>\n",
       "      <td>3.0</td>\n",
       "      <td>...</td>\n",
       "      <td>0</td>\n",
       "      <td>0</td>\n",
       "      <td>0</td>\n",
       "      <td>1</td>\n",
       "      <td>0</td>\n",
       "      <td>0</td>\n",
       "      <td>0</td>\n",
       "      <td>0</td>\n",
       "      <td>0</td>\n",
       "      <td>0</td>\n",
       "    </tr>\n",
       "    <tr>\n",
       "      <th>6</th>\n",
       "      <td>2.0</td>\n",
       "      <td>2.0</td>\n",
       "      <td>1.0</td>\n",
       "      <td>5.0</td>\n",
       "      <td>1.0</td>\n",
       "      <td>5.0</td>\n",
       "      <td>4.0</td>\n",
       "      <td>3.0</td>\n",
       "      <td>0</td>\n",
       "      <td>2.0</td>\n",
       "      <td>...</td>\n",
       "      <td>0</td>\n",
       "      <td>0</td>\n",
       "      <td>0</td>\n",
       "      <td>0</td>\n",
       "      <td>0</td>\n",
       "      <td>0</td>\n",
       "      <td>0</td>\n",
       "      <td>0</td>\n",
       "      <td>0</td>\n",
       "      <td>0</td>\n",
       "    </tr>\n",
       "  </tbody>\n",
       "</table>\n",
       "<p>5 rows × 178 columns</p>\n",
       "</div>"
      ],
      "text/plain": [
       "   ALTERSKATEGORIE_GROB  ANREDE_KZ  FINANZ_MINIMALIST  FINANZ_SPARER  \\\n",
       "1                   1.0        2.0                1.0            5.0   \n",
       "2                   3.0        2.0                1.0            4.0   \n",
       "4                   3.0        1.0                4.0            3.0   \n",
       "5                   1.0        2.0                3.0            1.0   \n",
       "6                   2.0        2.0                1.0            5.0   \n",
       "\n",
       "   FINANZ_VORSORGER  FINANZ_ANLEGER  FINANZ_UNAUFFAELLIGER  FINANZ_HAUSBAUER  \\\n",
       "1               2.0             5.0                    4.0               5.0   \n",
       "2               1.0             2.0                    3.0               5.0   \n",
       "4               4.0             1.0                    3.0               2.0   \n",
       "5               5.0             2.0                    2.0               5.0   \n",
       "6               1.0             5.0                    4.0               3.0   \n",
       "\n",
       "   GREEN_AVANTGARDE  HEALTH_TYP        ...          CAMEO_DEU_2015_7E  \\\n",
       "1                 0         3.0        ...                          0   \n",
       "2                 1         3.0        ...                          0   \n",
       "4                 0         3.0        ...                          0   \n",
       "5                 0         3.0        ...                          0   \n",
       "6                 0         2.0        ...                          0   \n",
       "\n",
       "   CAMEO_DEU_2015_8A  CAMEO_DEU_2015_8B  CAMEO_DEU_2015_8C  CAMEO_DEU_2015_8D  \\\n",
       "1                  1                  0                  0                  0   \n",
       "2                  0                  0                  0                  0   \n",
       "4                  0                  0                  0                  0   \n",
       "5                  0                  0                  1                  0   \n",
       "6                  0                  0                  0                  0   \n",
       "\n",
       "   CAMEO_DEU_2015_9A  CAMEO_DEU_2015_9B  CAMEO_DEU_2015_9C  CAMEO_DEU_2015_9D  \\\n",
       "1                  0                  0                  0                  0   \n",
       "2                  0                  0                  0                  0   \n",
       "4                  0                  0                  0                  0   \n",
       "5                  0                  0                  0                  0   \n",
       "6                  0                  0                  0                  0   \n",
       "\n",
       "   CAMEO_DEU_2015_9E  \n",
       "1                  0  \n",
       "2                  0  \n",
       "4                  0  \n",
       "5                  0  \n",
       "6                  0  \n",
       "\n",
       "[5 rows x 178 columns]"
      ]
     },
     "execution_count": 23,
     "metadata": {},
     "output_type": "execute_result"
    }
   ],
   "source": [
    "no_row_missing.head()"
   ]
  },
  {
   "cell_type": "markdown",
   "metadata": {},
   "source": [
    "#### Discussion 1.2.1: Re-Encode Categorical Features\n",
    "\n",
    "I decided to keep all categorical features and dummify the ones that were either (1) binary but not numerical, or (2) multi-level. I used Pandas get_dummies to get the dummified columns and then drop the original column."
   ]
  },
  {
   "cell_type": "markdown",
   "metadata": {},
   "source": [
    "#### Step 1.2.2: Engineer Mixed-Type Features\n",
    "\n",
    "There are a handful of features that are marked as \"mixed\" in the feature summary that require special treatment in order to be included in the analysis. There are two in particular that deserve attention; the handling of the rest are up to your own choices:\n",
    "- \"PRAEGENDE_JUGENDJAHRE\" combines information on three dimensions: generation by decade, movement (mainstream vs. avantgarde), and nation (east vs. west). While there aren't enough levels to disentangle east from west, you should create two new variables to capture the other two dimensions: an interval-type variable for decade, and a binary variable for movement.\n",
    "- \"CAMEO_INTL_2015\" combines information on two axes: wealth and life stage. Break up the two-digit codes by their 'tens'-place and 'ones'-place digits into two new ordinal variables (which, for the purposes of this project, is equivalent to just treating them as their raw numeric values).\n",
    "- If you decide to keep or engineer new features around the other mixed-type features, make sure you note your steps in the Discussion section.\n",
    "\n",
    "Be sure to check `Data_Dictionary.md` for the details needed to finish these tasks."
   ]
  },
  {
   "cell_type": "code",
   "execution_count": 24,
   "metadata": {},
   "outputs": [
    {
     "name": "stdout",
     "output_type": "stream",
     "text": [
      "{'LP_LEBENSPHASE_FEIN', 'PLZ8_BAUMAX', 'WOHNLAGE', 'CAMEO_INTL_2015', 'LP_LEBENSPHASE_GROB', 'PRAEGENDE_JUGENDJAHRE'}\n"
     ]
    }
   ],
   "source": [
    "# List all mixed columns\n",
    "\n",
    "mixed_features = set(feat_info[feat_info['type'] == 'mixed']['attribute'].tolist()) & set(no_row_missing.columns)\n",
    "print(mixed_features)"
   ]
  },
  {
   "cell_type": "code",
   "execution_count": 25,
   "metadata": {},
   "outputs": [
    {
     "data": {
      "text/plain": [
       "array([14., 15.,  8.,  3., 10., 11.,  9.,  5.,  4.,  2.,  6.,  1., 12.,\n",
       "       13.,  7.])"
      ]
     },
     "execution_count": 25,
     "metadata": {},
     "output_type": "execute_result"
    }
   ],
   "source": [
    "# Investigate \"PRAEGENDE_JUGENDJAHRE\" and engineer two new variables.\n",
    "no_row_missing['PRAEGENDE_JUGENDJAHRE'].unique()"
   ]
  },
  {
   "cell_type": "code",
   "execution_count": 26,
   "metadata": {},
   "outputs": [],
   "source": [
    "PRAEGENDE_JUGENDJAHRE_deacde = {\n",
    "    1.0 : 40,\n",
    "    2.0 : 40,\n",
    "    3.0 : 50, \n",
    "    4.0 : 50, \n",
    "    5.0 : 60,\n",
    "    6.0 : 60, \n",
    "    7.0 : 60, \n",
    "    8.0 : 70,\n",
    "    9.0 : 70,\n",
    "    10.0 : 80,\n",
    "    11.0 : 80,\n",
    "    12.0 : 80, \n",
    "    13.0 : 80,\n",
    "    14.0 : 90,\n",
    "    15.0 : 90\n",
    "}\n",
    "\n",
    "# mainstream: 0, avantgarde: 1\n",
    "PRAEGENDE_JUGENDJAHRE_movement = {\n",
    "    1.0 : 0,\n",
    "    2.0 : 1,\n",
    "    3.0 : 0, \n",
    "    4.0 : 1, \n",
    "    5.0 : 0,\n",
    "    6.0 : 1, \n",
    "    7.0 : 1, \n",
    "    8.0 : 0,\n",
    "    9.0 : 1,\n",
    "    10.0 : 0,\n",
    "    11.0 : 1,\n",
    "    12.0 : 0, \n",
    "    13.0 : 1,\n",
    "    14.0 : 0,\n",
    "    15.0 : 1\n",
    "}"
   ]
  },
  {
   "cell_type": "code",
   "execution_count": 27,
   "metadata": {},
   "outputs": [],
   "source": [
    "no_row_missing['PRAEGENDE_JUGENDJAHRE_decade'] = no_row_missing['PRAEGENDE_JUGENDJAHRE'].map(PRAEGENDE_JUGENDJAHRE_deacde)\n",
    "no_row_missing['PRAEGENDE_JUGENDJAHRE_movement'] = no_row_missing['PRAEGENDE_JUGENDJAHRE'].map(PRAEGENDE_JUGENDJAHRE_movement)\n",
    "no_row_missing.drop(['PRAEGENDE_JUGENDJAHRE'], axis=1, inplace=True)"
   ]
  },
  {
   "cell_type": "code",
   "execution_count": 28,
   "metadata": {},
   "outputs": [
    {
     "data": {
      "text/plain": [
       "array(['51', '24', '43', '54', '22', '14', '13', '15', '34', '55', '41',\n",
       "       '25', '31', '52', '45', '35', '33', '44', '32', '23', '12'],\n",
       "      dtype=object)"
      ]
     },
     "execution_count": 28,
     "metadata": {},
     "output_type": "execute_result"
    }
   ],
   "source": [
    "# Investigate \"CAMEO_INTL_2015\" and engineer two new variables.\n",
    "no_row_missing['CAMEO_INTL_2015'].unique()\n"
   ]
  },
  {
   "cell_type": "code",
   "execution_count": 29,
   "metadata": {},
   "outputs": [],
   "source": [
    "no_row_missing['CAMEO_INTL_2015_wealth'] = no_row_missing['CAMEO_INTL_2015'].str[0].astype(np.float)\n",
    "no_row_missing['CAMEO_INTL_2015_life_stage'] = no_row_missing['CAMEO_INTL_2015'].str[1].astype(np.float)\n",
    "no_row_missing.drop(['CAMEO_INTL_2015'], axis=1, inplace=True)"
   ]
  },
  {
   "cell_type": "code",
   "execution_count": 30,
   "metadata": {},
   "outputs": [],
   "source": [
    "# Deal with other mixed features\n",
    "\n",
    "# No clear patterns with these features - Drop them\n",
    "no_row_missing.drop(['LP_LEBENSPHASE_FEIN', 'LP_LEBENSPHASE_GROB'], axis=1, inplace=True)"
   ]
  },
  {
   "cell_type": "code",
   "execution_count": 31,
   "metadata": {},
   "outputs": [
    {
     "data": {
      "text/plain": [
       "3.0    204534\n",
       "7.0    132068\n",
       "4.0    109059\n",
       "2.0     79948\n",
       "5.0     56113\n",
       "1.0     36612\n",
       "8.0      4871\n",
       "0.0         4\n",
       "Name: WOHNLAGE, dtype: int64"
      ]
     },
     "execution_count": 31,
     "metadata": {},
     "output_type": "execute_result"
    }
   ],
   "source": [
    "# WOHNLAGE\n",
    "no_row_missing['WOHNLAGE'].value_counts()"
   ]
  },
  {
   "cell_type": "code",
   "execution_count": 32,
   "metadata": {},
   "outputs": [],
   "source": [
    "# Drop rows with WOHNLAGE = 0 \n",
    "no_row_missing = no_row_missing[no_row_missing['WOHNLAGE']!=0]"
   ]
  },
  {
   "cell_type": "code",
   "execution_count": 33,
   "metadata": {},
   "outputs": [
    {
     "data": {
      "text/plain": [
       "1.0    391892\n",
       "5.0     81656\n",
       "2.0     59097\n",
       "4.0     47397\n",
       "3.0     43163\n",
       "Name: PLZ8_BAUMAX, dtype: int64"
      ]
     },
     "execution_count": 33,
     "metadata": {},
     "output_type": "execute_result"
    }
   ],
   "source": [
    "# PLZ8_BAUMAX\n",
    "no_row_missing['PLZ8_BAUMAX'].value_counts()"
   ]
  },
  {
   "cell_type": "code",
   "execution_count": 34,
   "metadata": {},
   "outputs": [],
   "source": [
    "# Keep all rows, and treat as ordinal"
   ]
  },
  {
   "cell_type": "markdown",
   "metadata": {},
   "source": [
    "#### Discussion 1.2.2: Engineer Mixed-Type Features\n",
    "*PRAEGENDE_JUGENDJAHRE* and *CAMEO_INTL_2015* were encoded by following the instructions. *LP_LEBENSPHASE_FEIN*, *LP_LEBENSPHASE_GROB* were dropped since the ordering seemed arbitrary. *WOHNLAGE* and *PLZ8_BAUMAX* can be treated (mostly) as ordinal, with rows containing 0 dropped."
   ]
  },
  {
   "cell_type": "markdown",
   "metadata": {},
   "source": [
    "#### Step 1.2.3: Complete Feature Selection\n",
    "\n",
    "In order to finish this step up, you need to make sure that your data frame now only has the columns that you want to keep. To summarize, the dataframe should consist of the following:\n",
    "- All numeric, interval, and ordinal type columns from the original dataset.\n",
    "- Binary categorical features (all numerically-encoded).\n",
    "- Engineered features from other multi-level categorical features and mixed features.\n",
    "\n",
    "Make sure that for any new columns that you have engineered, that you've excluded the original columns from the final dataset. Otherwise, their values will interfere with the analysis later on the project. For example, you should not keep \"PRAEGENDE_JUGENDJAHRE\", since its values won't be useful for the algorithm: only the values derived from it in the engineered features you created should be retained. As a reminder, your data should only be from **the subset with few or no missing values**."
   ]
  },
  {
   "cell_type": "code",
   "execution_count": null,
   "metadata": {},
   "outputs": [],
   "source": [
    "# If there are other re-engineering tasks you need to perform, make sure you\n",
    "# take care of them here. (Dealing with missing data will come in step 2.1.)"
   ]
  },
  {
   "cell_type": "code",
   "execution_count": 35,
   "metadata": {},
   "outputs": [
    {
     "data": {
      "text/plain": [
       "False"
      ]
     },
     "execution_count": 35,
     "metadata": {},
     "output_type": "execute_result"
    }
   ],
   "source": [
    "# Do whatever you need to in order to ensure that the dataframe only contains\n",
    "# the columns that should be passed to the algorithm functions.\n",
    "\n",
    "# Check that there is no NaN in the df. Should be False\n",
    "no_row_missing.isnull().any().any()"
   ]
  },
  {
   "cell_type": "code",
   "execution_count": 36,
   "metadata": {},
   "outputs": [],
   "source": [
    "# Make sure that the df does not contain any columns that should be excluded\n",
    "cols_to_exclude = (mixed_features - {'PLZ8_BAUMAX', 'WOHNLAGE'})| (categorical_features - binary_features)"
   ]
  },
  {
   "cell_type": "code",
   "execution_count": 37,
   "metadata": {},
   "outputs": [
    {
     "data": {
      "text/plain": [
       "18"
      ]
     },
     "execution_count": 37,
     "metadata": {},
     "output_type": "execute_result"
    }
   ],
   "source": [
    "len(cols_to_exclude)"
   ]
  },
  {
   "cell_type": "code",
   "execution_count": 38,
   "metadata": {},
   "outputs": [
    {
     "data": {
      "text/plain": [
       "set()"
      ]
     },
     "execution_count": 38,
     "metadata": {},
     "output_type": "execute_result"
    }
   ],
   "source": [
    "set(no_row_missing.columns) & cols_to_exclude # should be null"
   ]
  },
  {
   "cell_type": "markdown",
   "metadata": {},
   "source": [
    "### Step 1.3: Create a Cleaning Function\n",
    "\n",
    "Even though you've finished cleaning up the general population demographics data, it's important to look ahead to the future and realize that you'll need to perform the same cleaning steps on the customer demographics data. In this substep, complete the function below to execute the main feature selection, encoding, and re-engineering steps you performed above. Then, when it comes to looking at the customer data in Step 3, you can just run this function on that DataFrame to get the trimmed dataset in a single step."
   ]
  },
  {
   "cell_type": "code",
   "execution_count": 39,
   "metadata": {},
   "outputs": [],
   "source": [
    "def clean_data(df):\n",
    "    \"\"\"\n",
    "    Perform feature trimming, re-encoding, and engineering for demographics\n",
    "    data\n",
    "    \n",
    "    INPUT: Demographics DataFrame\n",
    "    OUTPUT: Trimmed and cleaned demographics DataFrame\n",
    "    \"\"\"\n",
    "    \n",
    "    # Make copy of df so we don't change the original    \n",
    "    df = df.copy()\n",
    "    \n",
    "    \n",
    "    # Put in code here to execute all main cleaning steps:\n",
    "    # convert missing value codes into NaNs, ...\n",
    "\n",
    "    for idx, feat in feat_info.iterrows():\n",
    "\n",
    "        attribute = feat['attribute']\n",
    "\n",
    "        # Try converting string representation of list to actual list. If failed, then split up the string between commas to get the elements\n",
    "        try:\n",
    "            missing_or_unknown = ast.literal_eval(feat['missing_or_unknown'])\n",
    "        except:\n",
    "            missing_or_unknown = re.sub(r\"[\\[\\],]\", \" \", feat['missing_or_unknown']).strip().split()\n",
    "\n",
    "        if missing_or_unknown:\n",
    "            idx_missing_unknown = df[attribute].isin(missing_or_unknown) # Identify rows matching the missing value codes\n",
    "            df.loc[idx_missing_unknown, attribute] = np.nan # Replace missing or unknown with NaN\n",
    "\n",
    "    # remove selected columns and rows, ...\n",
    "    \n",
    "    # Drop the outlier_columns\n",
    "    df = df.drop(outlier_cols, axis=1)\n",
    "    \n",
    "    # Remove rows with missing values\n",
    "    missing_per_row = df.isnull().sum(axis=1)\n",
    "    df = df[missing_per_row == 0]\n",
    "    \n",
    "    # select, re-encode, and engineer column values.\n",
    "    \n",
    "    # Encode categorical features\n",
    "    for feature in features_to_encode:\n",
    "        df = pd.concat([df, pd.get_dummies(df[feature], prefix=feature, drop_first=True)], axis=1)\n",
    "        df = df.drop([feature], axis=1)\n",
    "        \n",
    "    # Re-encode \"PRAEGENDE_JUGENDJAHRE\"\n",
    "    \n",
    "    df['PRAEGENDE_JUGENDJAHRE_decade'] = df['PRAEGENDE_JUGENDJAHRE'].map(PRAEGENDE_JUGENDJAHRE_deacde)\n",
    "    df['PRAEGENDE_JUGENDJAHRE_movement'] = df['PRAEGENDE_JUGENDJAHRE'].map(PRAEGENDE_JUGENDJAHRE_movement)\n",
    "    df = df.drop(['PRAEGENDE_JUGENDJAHRE'], axis=1)\n",
    "\n",
    "    # Re-encode  \"CAMEO_INTL_2015\" \n",
    "    df['CAMEO_INTL_2015_wealth'] = df['CAMEO_INTL_2015'].str[0].astype(np.float)\n",
    "    df['CAMEO_INTL_2015_life_stage'] = df['CAMEO_INTL_2015'].str[1].astype(np.float)\n",
    "    df = df.drop(['CAMEO_INTL_2015'], axis=1)\n",
    "    \n",
    "    \n",
    "    # No clear patterns with these features - Drop them\n",
    "    df = df.drop(['LP_LEBENSPHASE_FEIN', 'LP_LEBENSPHASE_GROB'], axis=1)\n",
    "    \n",
    "    # Drop rows with WOHNLAGE == 0 \n",
    "    df = df[df['WOHNLAGE']!=0]\n",
    "    \n",
    "    # Return the cleaned dataframe.\n",
    "    return df\n",
    "    \n",
    "    "
   ]
  },
  {
   "cell_type": "code",
   "execution_count": null,
   "metadata": {},
   "outputs": [],
   "source": [
    "# Comparing no_row_missing and clean_data(azdias)"
   ]
  },
  {
   "cell_type": "code",
   "execution_count": 40,
   "metadata": {},
   "outputs": [
    {
     "name": "stdout",
     "output_type": "stream",
     "text": [
      "<class 'pandas.core.frame.DataFrame'>\n",
      "Int64Index: 623205 entries, 1 to 891220\n",
      "Columns: 178 entries, ALTERSKATEGORIE_GROB to CAMEO_INTL_2015_life_stage\n",
      "dtypes: float64(62), int64(3), uint8(113)\n",
      "memory usage: 381.0 MB\n"
     ]
    }
   ],
   "source": [
    "no_row_missing.info()"
   ]
  },
  {
   "cell_type": "code",
   "execution_count": 41,
   "metadata": {},
   "outputs": [],
   "source": [
    "azdias_clean = clean_data(azdias)"
   ]
  },
  {
   "cell_type": "code",
   "execution_count": 42,
   "metadata": {},
   "outputs": [
    {
     "name": "stdout",
     "output_type": "stream",
     "text": [
      "<class 'pandas.core.frame.DataFrame'>\n",
      "Int64Index: 623205 entries, 1 to 891220\n",
      "Columns: 178 entries, ALTERSKATEGORIE_GROB to CAMEO_INTL_2015_life_stage\n",
      "dtypes: float64(62), int64(3), uint8(113)\n",
      "memory usage: 381.0 MB\n"
     ]
    }
   ],
   "source": [
    "azdias_clean.info()"
   ]
  },
  {
   "cell_type": "code",
   "execution_count": 43,
   "metadata": {},
   "outputs": [
    {
     "data": {
      "text/plain": [
       "True"
      ]
     },
     "execution_count": 43,
     "metadata": {},
     "output_type": "execute_result"
    }
   ],
   "source": [
    "# Verify that the two dfs are equal\n",
    "azdias_clean.equals(no_row_missing)"
   ]
  },
  {
   "cell_type": "markdown",
   "metadata": {},
   "source": [
    "## Step 2: Feature Transformation\n",
    "\n",
    "### Step 2.1: Apply Feature Scaling\n",
    "\n",
    "Before we apply dimensionality reduction techniques to the data, we need to perform feature scaling so that the principal component vectors are not influenced by the natural differences in scale for features. Starting from this part of the project, you'll want to keep an eye on the [API reference page for sklearn](http://scikit-learn.org/stable/modules/classes.html) to help you navigate to all of the classes and functions that you'll need. In this substep, you'll need to check the following:\n",
    "\n",
    "- sklearn requires that data not have missing values in order for its estimators to work properly. So, before applying the scaler to your data, make sure that you've cleaned the DataFrame of the remaining missing values. This can be as simple as just removing all data points with missing data, or applying an [Imputer](http://scikit-learn.org/stable/modules/generated/sklearn.preprocessing.Imputer.html) to replace all missing values. You might also try a more complicated procedure where you temporarily remove missing values in order to compute the scaling parameters before re-introducing those missing values and applying imputation. Think about how much missing data you have and what possible effects each approach might have on your analysis, and justify your decision in the discussion section below.\n",
    "- For the actual scaling function, a [StandardScaler](http://scikit-learn.org/stable/modules/generated/sklearn.preprocessing.StandardScaler.html) instance is suggested, scaling each feature to mean 0 and standard deviation 1.\n",
    "- For these classes, you can make use of the `.fit_transform()` method to both fit a procedure to the data as well as apply the transformation to the data at the same time. Don't forget to keep the fit sklearn objects handy, since you'll be applying them to the customer demographics data towards the end of the project."
   ]
  },
  {
   "cell_type": "code",
   "execution_count": 50,
   "metadata": {},
   "outputs": [
    {
     "data": {
      "text/plain": [
       "False"
      ]
     },
     "execution_count": 50,
     "metadata": {},
     "output_type": "execute_result"
    }
   ],
   "source": [
    "# If you've not yet cleaned the dataset of all NaN values, then investigate and\n",
    "# do that now.\n",
    "\n",
    "# Verify that the df has no missing NaN\n",
    "\n",
    "azdias_clean.isnull().any().any()"
   ]
  },
  {
   "cell_type": "code",
   "execution_count": 51,
   "metadata": {},
   "outputs": [],
   "source": [
    "# Apply feature scaling to the general population demographics data.\n",
    "from sklearn.preprocessing import StandardScaler\n",
    "\n",
    "scaler = StandardScaler()\n",
    "X = scaler.fit_transform(azdias_clean)"
   ]
  },
  {
   "cell_type": "code",
   "execution_count": 52,
   "metadata": {},
   "outputs": [
    {
     "data": {
      "text/plain": [
       "True"
      ]
     },
     "execution_count": 52,
     "metadata": {},
     "output_type": "execute_result"
    }
   ],
   "source": [
    "# Verify that the X is properly scaled for each column \n",
    "mean_ = X.mean(axis=0)\n",
    "std_ = X.std(axis=0)\n",
    "\n",
    "np.allclose(mean_, np.zeros(mean_.shape))\n",
    "np.allclose(std_, np.ones(std_.shape))"
   ]
  },
  {
   "cell_type": "markdown",
   "metadata": {},
   "source": [
    "### Discussion 2.1: Apply Feature Scaling\n",
    "\n",
    "StandardScaler was used to scale all columns. The results were verified."
   ]
  },
  {
   "cell_type": "markdown",
   "metadata": {},
   "source": [
    "### Step 2.2: Perform Dimensionality Reduction\n",
    "\n",
    "On your scaled data, you are now ready to apply dimensionality reduction techniques.\n",
    "\n",
    "- Use sklearn's [PCA](http://scikit-learn.org/stable/modules/generated/sklearn.decomposition.PCA.html) class to apply principal component analysis on the data, thus finding the vectors of maximal variance in the data. To start, you should not set any parameters (so all components are computed) or set a number of components that is at least half the number of features (so there's enough features to see the general trend in variability).\n",
    "- Check out the ratio of variance explained by each principal component as well as the cumulative variance explained. Try plotting the cumulative or sequential values using matplotlib's [`plot()`](https://matplotlib.org/api/_as_gen/matplotlib.pyplot.plot.html) function. Based on what you find, select a value for the number of transformed features you'll retain for the clustering part of the project.\n",
    "- Once you've made a choice for the number of components to keep, make sure you re-fit a PCA instance to perform the decided-on transformation."
   ]
  },
  {
   "cell_type": "code",
   "execution_count": 53,
   "metadata": {},
   "outputs": [],
   "source": [
    "# Apply PCA to the data.\n",
    "from sklearn.decomposition import PCA\n",
    "\n",
    "pca = PCA()\n",
    "X_pca = pca.fit_transform(X)"
   ]
  },
  {
   "cell_type": "code",
   "execution_count": 54,
   "metadata": {},
   "outputs": [
    {
     "data": {
      "image/png": "[encoded data removed]",
      "text/plain": [
       "<Figure size 720x720 with 1 Axes>"
      ]
     },
     "metadata": {},
     "output_type": "display_data"
    }
   ],
   "source": [
    "# Investigate the variance accounted for by each principal component.\n",
    "top_k = 20\n",
    "\n",
    "plt.figure(figsize=(10, 10))\n",
    "plt.bar(list(range(1, top_k+1)), pca.explained_variance_ratio_[:top_k], label='Explained Variance Ratio, per component')\n",
    "plt.plot(list(range(1, top_k+1)), pca.explained_variance_ratio_.cumsum()[:top_k], '--r', label='Explained Variance Ratio, Cumulative')\n",
    "plt.xticks(list(range(1, top_k+1)))\n",
    "plt.xlabel('Components')\n",
    "plt.ylabel('Explained Variance Ratio')\n",
    "plt.legend()\n",
    "plt.show()"
   ]
  },
  {
   "cell_type": "code",
   "execution_count": 55,
   "metadata": {},
   "outputs": [
    {
     "name": "stdout",
     "output_type": "stream",
     "text": [
      "89\n"
     ]
    }
   ],
   "source": [
    "# Find the smallest number of components to explain at least 85% of the variance\n",
    "\n",
    "min_n_components = np.min(np.argwhere(pca.explained_variance_ratio_.cumsum() > 0.85)) + 1\n",
    "print(min_n_components)"
   ]
  },
  {
   "cell_type": "code",
   "execution_count": 56,
   "metadata": {},
   "outputs": [
    {
     "data": {
      "text/plain": [
       "0.8508774612528742"
      ]
     },
     "execution_count": 56,
     "metadata": {},
     "output_type": "execute_result"
    }
   ],
   "source": [
    "# How much explained_variance_ratio \n",
    "pca.explained_variance_ratio_.cumsum()[min_n_components-1]"
   ]
  },
  {
   "cell_type": "code",
   "execution_count": 57,
   "metadata": {},
   "outputs": [],
   "source": [
    "# Re-apply PCA to the data while selecting for number of components to retain.\n",
    "pca_min = PCA(n_components=min_n_components)\n",
    "X_pca_min = pca_min.fit_transform(X)"
   ]
  },
  {
   "cell_type": "markdown",
   "metadata": {},
   "source": [
    "### Discussion 2.2: Perform Dimensionality Reduction\n",
    "\n",
    "I chose to retain the top 89 components (vs. 178 in the original data set) and achieve 85% of the explained variance ratio. It halves the number of dimensions while explaining most of the variance. "
   ]
  },
  {
   "cell_type": "markdown",
   "metadata": {},
   "source": [
    "### Step 2.3: Interpret Principal Components\n",
    "\n",
    "Now that we have our transformed principal components, it's a nice idea to check out the weight of each variable on the first few components to see if they can be interpreted in some fashion.\n",
    "\n",
    "As a reminder, each principal component is a unit vector that points in the direction of highest variance (after accounting for the variance captured by earlier principal components). The further a weight is from zero, the more the principal component is in the direction of the corresponding feature. If two features have large weights of the same sign (both positive or both negative), then increases in one tend expect to be associated with increases in the other. To contrast, features with different signs can be expected to show a negative correlation: increases in one variable should result in a decrease in the other.\n",
    "\n",
    "- To investigate the features, you should map each weight to their corresponding feature name, then sort the features according to weight. The most interesting features for each principal component, then, will be those at the beginning and end of the sorted list. Use the data dictionary document to help you understand these most prominent features, their relationships, and what a positive or negative value on the principal component might indicate.\n",
    "- You should investigate and interpret feature associations from the first three principal components in this substep. To help facilitate this, you should write a function that you can call at any time to print the sorted list of feature weights, for the *i*-th principal component. This might come in handy in the next step of the project, when you interpret the tendencies of the discovered clusters."
   ]
  },
  {
   "cell_type": "code",
   "execution_count": 58,
   "metadata": {},
   "outputs": [],
   "source": [
    "# HINT: Try defining a function here or in a new cell that you can reuse in the\n",
    "# other cells.\n",
    "import pprint\n",
    "def show_component(component, feat_names):  \n",
    "    s = pd.Series(component, index=feat_names)\n",
    "    s= s.sort_values(ascending=False)\n",
    "    pprint.pprint(s)"
   ]
  },
  {
   "cell_type": "code",
   "execution_count": 59,
   "metadata": {},
   "outputs": [
    {
     "name": "stdout",
     "output_type": "stream",
     "text": [
      "PLZ8_ANTG3                        0.188047\n",
      "CAMEO_INTL_2015_wealth            0.184949\n",
      "PLZ8_ANTG4                        0.182735\n",
      "PLZ8_BAUMAX                       0.180065\n",
      "HH_EINKOMMEN_SCORE                0.178861\n",
      "ORTSGR_KLS9                       0.158837\n",
      "EWDICHTE                          0.155917\n",
      "FINANZ_HAUSBAUER                  0.136211\n",
      "FINANZ_SPARER                     0.135763\n",
      "KBA05_ANTG4                       0.128232\n",
      "PLZ8_ANTG2                        0.124914\n",
      "LP_STATUS_FEIN_2.0                0.119509\n",
      "ARBEIT                            0.119213\n",
      "KBA05_ANTG3                       0.116929\n",
      "ANZ_HAUSHALTE_AKTIV               0.115221\n",
      "CAMEO_DEUG_2015_9                 0.115061\n",
      "RELAT_AB                          0.107974\n",
      "SEMIO_PFLICHT                     0.103625\n",
      "SEMIO_REL                         0.100397\n",
      "PRAEGENDE_JUGENDJAHRE_decade      0.100376\n",
      "SEMIO_TRADV                       0.092764\n",
      "CAMEO_DEUG_2015_8                 0.092532\n",
      "SEMIO_RAT                         0.086437\n",
      "ZABEOTYP_5.0                      0.085658\n",
      "SEMIO_MAT                         0.077371\n",
      "SEMIO_FAM                         0.072819\n",
      "FINANZ_UNAUFFAELLIGER             0.071891\n",
      "FINANZ_ANLEGER                    0.070452\n",
      "SEMIO_KULT                        0.068709\n",
      "GFK_URLAUBERTYP_12.0              0.065053\n",
      "                                    ...   \n",
      "LP_FAMILIE_GROB_5.0              -0.059572\n",
      "WOHNLAGE                         -0.060686\n",
      "WOHNDAUER_2008                   -0.060705\n",
      "CAMEO_DEUG_2015_3                -0.067178\n",
      "KBA13_ANZAHL_PKW                 -0.068270\n",
      "CAMEO_DEUG_2015_4                -0.076427\n",
      "ANZ_PERSONEN                     -0.076575\n",
      "SEMIO_ERL                        -0.078735\n",
      "SEMIO_LUST                       -0.082940\n",
      "CAMEO_DEUG_2015_2                -0.087828\n",
      "FINANZTYP_2.0                    -0.090926\n",
      "BALLRAUM                         -0.098086\n",
      "GEBAEUDETYP_RASTER               -0.098729\n",
      "PRAEGENDE_JUGENDJAHRE_movement   -0.105255\n",
      "GREEN_AVANTGARDE                 -0.105255\n",
      "LP_STATUS_FEIN_9.0               -0.105821\n",
      "LP_STATUS_GROB_4.0               -0.106735\n",
      "FINANZ_VORSORGER                 -0.108925\n",
      "ALTERSKATEGORIE_GROB             -0.114564\n",
      "CAMEO_INTL_2015_life_stage       -0.117801\n",
      "LP_STATUS_GROB_5.0               -0.119993\n",
      "LP_STATUS_FEIN_10.0              -0.119993\n",
      "INNENSTADT                       -0.131730\n",
      "KONSUMNAEHE                      -0.137410\n",
      "PLZ8_GBZ                         -0.142814\n",
      "KBA05_GBZ                        -0.183262\n",
      "PLZ8_ANTG1                       -0.190541\n",
      "KBA05_ANTG1                      -0.194686\n",
      "FINANZ_MINIMALIST                -0.195907\n",
      "MOBI_REGIO                       -0.207113\n",
      "Length: 178, dtype: float64\n"
     ]
    }
   ],
   "source": [
    "# Map weights for the first principal component to corresponding feature names\n",
    "# and then print the linked values, sorted by weight.\n",
    "show_component(pca_min.components_[0], azdias_clean.columns)"
   ]
  },
  {
   "cell_type": "code",
   "execution_count": 60,
   "metadata": {},
   "outputs": [
    {
     "name": "stdout",
     "output_type": "stream",
     "text": [
      "ALTERSKATEGORIE_GROB            0.228654\n",
      "FINANZ_VORSORGER                0.210042\n",
      "ZABEOTYP_3.0                    0.199704\n",
      "SEMIO_ERL                       0.183593\n",
      "SEMIO_LUST                      0.159656\n",
      "RETOURTYP_BK_S                  0.158214\n",
      "W_KEIT_KIND_HH                  0.127601\n",
      "FINANZ_HAUSBAUER                0.105003\n",
      "CJT_GESAMTTYP_2.0               0.102594\n",
      "FINANZTYP_5.0                   0.097472\n",
      "PLZ8_ANTG3                      0.095348\n",
      "PLZ8_ANTG4                      0.090638\n",
      "EWDICHTE                        0.089877\n",
      "ORTSGR_KLS9                     0.089640\n",
      "PLZ8_BAUMAX                     0.086060\n",
      "SEMIO_KRIT                      0.082205\n",
      "FINANZTYP_2.0                   0.077732\n",
      "CAMEO_INTL_2015_wealth          0.077398\n",
      "SHOPPER_TYP_3.0                 0.075750\n",
      "ARBEIT                          0.067084\n",
      "SEMIO_KAEM                      0.066810\n",
      "KBA05_ANTG4                     0.064949\n",
      "PLZ8_ANTG2                      0.064551\n",
      "FINANZ_MINIMALIST               0.064470\n",
      "RELAT_AB                        0.063087\n",
      "FINANZTYP_6.0                   0.059332\n",
      "GFK_URLAUBERTYP_4.0             0.059176\n",
      "ANZ_HAUSHALTE_AKTIV             0.058523\n",
      "LP_STATUS_FEIN_3.0              0.055691\n",
      "WOHNDAUER_2008                  0.052239\n",
      "                                  ...   \n",
      "BALLRAUM                       -0.058071\n",
      "SEMIO_SOZ                      -0.063938\n",
      "ANZ_PERSONEN                   -0.065872\n",
      "KONSUMNAEHE                    -0.068391\n",
      "LP_FAMILIE_GROB_4.0            -0.068770\n",
      "GFK_URLAUBERTYP_9.0            -0.071369\n",
      "INNENSTADT                     -0.073114\n",
      "PLZ8_GBZ                       -0.073254\n",
      "FINANZTYP_3.0                  -0.079520\n",
      "LP_STATUS_FEIN_5.0             -0.080198\n",
      "LP_STATUS_FEIN_2.0             -0.081648\n",
      "KBA05_ANTG1                    -0.082457\n",
      "ZABEOTYP_5.0                   -0.082458\n",
      "KBA05_GBZ                      -0.087114\n",
      "MOBI_REGIO                     -0.090135\n",
      "PLZ8_ANTG1                     -0.094077\n",
      "FINANZTYP_4.0                  -0.096535\n",
      "ZABEOTYP_4.0                   -0.109299\n",
      "SEMIO_MAT                      -0.123615\n",
      "SEMIO_FAM                      -0.131371\n",
      "ONLINE_AFFINITAET              -0.159910\n",
      "SEMIO_RAT                      -0.163959\n",
      "SEMIO_KULT                     -0.168336\n",
      "FINANZ_ANLEGER                 -0.198192\n",
      "SEMIO_TRADV                    -0.205449\n",
      "FINANZ_UNAUFFAELLIGER          -0.208736\n",
      "SEMIO_PFLICHT                  -0.209898\n",
      "FINANZ_SPARER                  -0.214929\n",
      "SEMIO_REL                      -0.218501\n",
      "PRAEGENDE_JUGENDJAHRE_decade   -0.231927\n",
      "Length: 178, dtype: float64\n"
     ]
    }
   ],
   "source": [
    "# Map weights for the second principal component to corresponding feature names\n",
    "# and then print the linked values, sorted by weight.\n",
    "show_component(pca_min.components_[1], azdias_clean.columns)"
   ]
  },
  {
   "cell_type": "code",
   "execution_count": 61,
   "metadata": {},
   "outputs": [
    {
     "name": "stdout",
     "output_type": "stream",
     "text": [
      "SEMIO_VERT                        0.327809\n",
      "SEMIO_SOZ                         0.258599\n",
      "SEMIO_FAM                         0.258553\n",
      "SEMIO_KULT                        0.244629\n",
      "FINANZTYP_5.0                     0.145192\n",
      "FINANZ_MINIMALIST                 0.141843\n",
      "SEMIO_REL                         0.114585\n",
      "PRAEGENDE_JUGENDJAHRE_movement    0.102527\n",
      "GREEN_AVANTGARDE                  0.102527\n",
      "RETOURTYP_BK_S                    0.083757\n",
      "SEMIO_MAT                         0.080366\n",
      "LP_STATUS_FEIN_10.0               0.075275\n",
      "LP_STATUS_GROB_5.0                0.075275\n",
      "EWDICHTE                          0.069296\n",
      "ORTSGR_KLS9                       0.068065\n",
      "W_KEIT_KIND_HH                    0.067570\n",
      "SHOPPER_TYP_1.0                   0.051373\n",
      "FINANZ_VORSORGER                  0.051168\n",
      "LP_STATUS_FEIN_3.0                0.051000\n",
      "ZABEOTYP_6.0                      0.048879\n",
      "PLZ8_BAUMAX                       0.043437\n",
      "PLZ8_ANTG3                        0.042795\n",
      "PLZ8_ANTG4                        0.042551\n",
      "SEMIO_LUST                        0.038364\n",
      "LP_STATUS_GROB_3.0                0.036369\n",
      "PLZ8_ANTG2                        0.033673\n",
      "RELAT_AB                          0.032844\n",
      "LP_FAMILIE_GROB_2.0               0.031290\n",
      "LP_FAMILIE_FEIN_2.0               0.031290\n",
      "LP_STATUS_FEIN_7.0                0.028650\n",
      "                                    ...   \n",
      "CJT_GESAMTTYP_2.0                -0.031098\n",
      "NATIONALITAET_KZ_3.0             -0.032840\n",
      "REGIOTYP                         -0.033269\n",
      "FINANZ_UNAUFFAELLIGER            -0.035975\n",
      "ZABEOTYP_3.0                     -0.036161\n",
      "PLZ8_ANTG1                       -0.036964\n",
      "GEBAEUDETYP_RASTER               -0.037692\n",
      "SHOPPER_TYP_3.0                  -0.042282\n",
      "LP_FAMILIE_FEIN_4.0              -0.043433\n",
      "KONSUMNAEHE                      -0.047472\n",
      "KKK                              -0.053323\n",
      "WOHNLAGE                         -0.053493\n",
      "PRAEGENDE_JUGENDJAHRE_decade     -0.054856\n",
      "BALLRAUM                         -0.055582\n",
      "FINANZ_SPARER                    -0.057577\n",
      "INNENSTADT                       -0.059297\n",
      "LP_FAMILIE_GROB_3.0              -0.060077\n",
      "ZABEOTYP_4.0                     -0.064694\n",
      "HH_EINKOMMEN_SCORE               -0.065647\n",
      "FINANZ_HAUSBAUER                 -0.075891\n",
      "LP_STATUS_FEIN_4.0               -0.082621\n",
      "LP_STATUS_FEIN_2.0               -0.086273\n",
      "SHOPPER_TYP_2.0                  -0.109102\n",
      "SEMIO_RAT                        -0.161200\n",
      "FINANZ_ANLEGER                   -0.163287\n",
      "SEMIO_ERL                        -0.198376\n",
      "SEMIO_KRIT                       -0.261282\n",
      "SEMIO_DOM                        -0.279992\n",
      "SEMIO_KAEM                       -0.316046\n",
      "ANREDE_KZ                        -0.346308\n",
      "Length: 178, dtype: float64\n"
     ]
    }
   ],
   "source": [
    "# Map weights for the third principal component to corresponding feature names\n",
    "# and then print the linked values, sorted by weight.\n",
    "show_component(pca_min.components_[2], azdias_clean.columns)\n"
   ]
  },
  {
   "cell_type": "markdown",
   "metadata": {},
   "source": [
    "### Discussion 2.3: Interpret Principal Components\n",
    "\n",
    "#### For component 1 (top 2 positive and top 2 negative attributes): seems to point in the direction of poverty (positively correlated with very large families and low wealth typology, and with high typology of low financial interest and high movement)\n",
    "\n",
    "* PLZ8_ANTG3: Number of 6-10 family houses in the PLZ8 region (0 no 6-10 family homes to 3 high share of 6-10 family homes)                     \n",
    "* CAMEO_INTL_2015_wealth: wealth typology (Wealthy 1 to Poor 5)\n",
    "* FINANZ_MINIMALIST: financial typology, low financial interest (Very High 1 to Very Low 5)             \n",
    "* MOBI_REGIO: movement patterns (Very high movement 1 to None 6)    \n",
    "\n",
    "#### For component 2 (top 2 positive and top 2 negative attributes): seems to point in the direction of older people (older aged names, earlier decade, more religious, less 'be prepared') \n",
    "\n",
    "* ALTERSKATEGORIE_GROB: estimated age based on given name (1 <30 years old to 4 >60 years old) \n",
    "* FINANZ_VORSORGER: financial typology, be prepared (1 very high to 5 very low)\n",
    "* PRAEGENDE_JUGENDJAHRE_decade: movement of person's youth, decade\n",
    "* SEMIO_REL: personality typology, religious (1 highest affinity to 7 lowest affinity) \n",
    "\n",
    "\n",
    "#### For component 3 (top 2 positive and top 2 negative attributes): in the direction of being more male (less socially minded and dreamful, more combative) and also negative in the gender dimension (more male)\n",
    "\n",
    "* SEMIO_VERT: personality typology, dreamful (1 highest affinity to 7 lowest affinity)                       \n",
    "* SEMIO_SOZ:  personality typology, socially-minded (1 highest affinity to 7 lowest affinity)                \n",
    "* SEMIO_KAEM:  personality typology, combative attitude (1 highest affinity to 7 lowest affinity)                   \n",
    "* ANREDE_KZ:   gender (1 male to 2 female)\n"
   ]
  },
  {
   "cell_type": "markdown",
   "metadata": {},
   "source": [
    "## Step 3: Clustering\n",
    "\n",
    "### Step 3.1: Apply Clustering to General Population\n",
    "\n",
    "You've assessed and cleaned the demographics data, then scaled and transformed them. Now, it's time to see how the data clusters in the principal components space. In this substep, you will apply k-means clustering to the dataset and use the average within-cluster distances from each point to their assigned cluster's centroid to decide on a number of clusters to keep.\n",
    "\n",
    "- Use sklearn's [KMeans](http://scikit-learn.org/stable/modules/generated/sklearn.cluster.KMeans.html#sklearn.cluster.KMeans) class to perform k-means clustering on the PCA-transformed data.\n",
    "- Then, compute the average difference from each point to its assigned cluster's center. **Hint**: The KMeans object's `.score()` method might be useful here, but note that in sklearn, scores tend to be defined so that larger is better. Try applying it to a small, toy dataset, or use an internet search to help your understanding.\n",
    "- Perform the above two steps for a number of different cluster counts. You can then see how the average distance decreases with an increasing number of clusters. However, each additional cluster provides a smaller net benefit. Use this fact to select a final number of clusters in which to group the data. **Warning**: because of the large size of the dataset, it can take a long time for the algorithm to resolve. The more clusters to fit, the longer the algorithm will take. You should test for cluster counts through at least 10 clusters to get the full picture, but you shouldn't need to test for a number of clusters above about 30.\n",
    "- Once you've selected a final number of clusters to use, re-fit a KMeans instance to perform the clustering operation. Make sure that you also obtain the cluster assignments for the general demographics data, since you'll be using them in the final Step 3.3."
   ]
  },
  {
   "cell_type": "code",
   "execution_count": 82,
   "metadata": {},
   "outputs": [
    {
     "data": {
      "text/plain": [
       "KMeans(algorithm='auto', copy_x=True, init='k-means++', max_iter=300,\n",
       "    n_clusters=2, n_init=10, n_jobs=1, precompute_distances='auto',\n",
       "    random_state=0, tol=0.0001, verbose=0)"
      ]
     },
     "execution_count": 82,
     "metadata": {},
     "output_type": "execute_result"
    },
    {
     "data": {
      "text/plain": [
       "KMeans(algorithm='auto', copy_x=True, init='k-means++', max_iter=300,\n",
       "    n_clusters=3, n_init=10, n_jobs=1, precompute_distances='auto',\n",
       "    random_state=0, tol=0.0001, verbose=0)"
      ]
     },
     "execution_count": 82,
     "metadata": {},
     "output_type": "execute_result"
    },
    {
     "data": {
      "text/plain": [
       "KMeans(algorithm='auto', copy_x=True, init='k-means++', max_iter=300,\n",
       "    n_clusters=4, n_init=10, n_jobs=1, precompute_distances='auto',\n",
       "    random_state=0, tol=0.0001, verbose=0)"
      ]
     },
     "execution_count": 82,
     "metadata": {},
     "output_type": "execute_result"
    },
    {
     "data": {
      "text/plain": [
       "KMeans(algorithm='auto', copy_x=True, init='k-means++', max_iter=300,\n",
       "    n_clusters=5, n_init=10, n_jobs=1, precompute_distances='auto',\n",
       "    random_state=0, tol=0.0001, verbose=0)"
      ]
     },
     "execution_count": 82,
     "metadata": {},
     "output_type": "execute_result"
    },
    {
     "data": {
      "text/plain": [
       "KMeans(algorithm='auto', copy_x=True, init='k-means++', max_iter=300,\n",
       "    n_clusters=6, n_init=10, n_jobs=1, precompute_distances='auto',\n",
       "    random_state=0, tol=0.0001, verbose=0)"
      ]
     },
     "execution_count": 82,
     "metadata": {},
     "output_type": "execute_result"
    },
    {
     "data": {
      "text/plain": [
       "KMeans(algorithm='auto', copy_x=True, init='k-means++', max_iter=300,\n",
       "    n_clusters=7, n_init=10, n_jobs=1, precompute_distances='auto',\n",
       "    random_state=0, tol=0.0001, verbose=0)"
      ]
     },
     "execution_count": 82,
     "metadata": {},
     "output_type": "execute_result"
    },
    {
     "data": {
      "text/plain": [
       "KMeans(algorithm='auto', copy_x=True, init='k-means++', max_iter=300,\n",
       "    n_clusters=8, n_init=10, n_jobs=1, precompute_distances='auto',\n",
       "    random_state=0, tol=0.0001, verbose=0)"
      ]
     },
     "execution_count": 82,
     "metadata": {},
     "output_type": "execute_result"
    },
    {
     "data": {
      "text/plain": [
       "KMeans(algorithm='auto', copy_x=True, init='k-means++', max_iter=300,\n",
       "    n_clusters=9, n_init=10, n_jobs=1, precompute_distances='auto',\n",
       "    random_state=0, tol=0.0001, verbose=0)"
      ]
     },
     "execution_count": 82,
     "metadata": {},
     "output_type": "execute_result"
    },
    {
     "data": {
      "text/plain": [
       "KMeans(algorithm='auto', copy_x=True, init='k-means++', max_iter=300,\n",
       "    n_clusters=10, n_init=10, n_jobs=1, precompute_distances='auto',\n",
       "    random_state=0, tol=0.0001, verbose=0)"
      ]
     },
     "execution_count": 82,
     "metadata": {},
     "output_type": "execute_result"
    },
    {
     "data": {
      "text/plain": [
       "KMeans(algorithm='auto', copy_x=True, init='k-means++', max_iter=300,\n",
       "    n_clusters=11, n_init=10, n_jobs=1, precompute_distances='auto',\n",
       "    random_state=0, tol=0.0001, verbose=0)"
      ]
     },
     "execution_count": 82,
     "metadata": {},
     "output_type": "execute_result"
    },
    {
     "data": {
      "text/plain": [
       "KMeans(algorithm='auto', copy_x=True, init='k-means++', max_iter=300,\n",
       "    n_clusters=12, n_init=10, n_jobs=1, precompute_distances='auto',\n",
       "    random_state=0, tol=0.0001, verbose=0)"
      ]
     },
     "execution_count": 82,
     "metadata": {},
     "output_type": "execute_result"
    },
    {
     "data": {
      "text/plain": [
       "KMeans(algorithm='auto', copy_x=True, init='k-means++', max_iter=300,\n",
       "    n_clusters=13, n_init=10, n_jobs=1, precompute_distances='auto',\n",
       "    random_state=0, tol=0.0001, verbose=0)"
      ]
     },
     "execution_count": 82,
     "metadata": {},
     "output_type": "execute_result"
    },
    {
     "data": {
      "text/plain": [
       "KMeans(algorithm='auto', copy_x=True, init='k-means++', max_iter=300,\n",
       "    n_clusters=14, n_init=10, n_jobs=1, precompute_distances='auto',\n",
       "    random_state=0, tol=0.0001, verbose=0)"
      ]
     },
     "execution_count": 82,
     "metadata": {},
     "output_type": "execute_result"
    },
    {
     "data": {
      "text/plain": [
       "KMeans(algorithm='auto', copy_x=True, init='k-means++', max_iter=300,\n",
       "    n_clusters=15, n_init=10, n_jobs=1, precompute_distances='auto',\n",
       "    random_state=0, tol=0.0001, verbose=0)"
      ]
     },
     "execution_count": 82,
     "metadata": {},
     "output_type": "execute_result"
    },
    {
     "data": {
      "text/plain": [
       "KMeans(algorithm='auto', copy_x=True, init='k-means++', max_iter=300,\n",
       "    n_clusters=16, n_init=10, n_jobs=1, precompute_distances='auto',\n",
       "    random_state=0, tol=0.0001, verbose=0)"
      ]
     },
     "execution_count": 82,
     "metadata": {},
     "output_type": "execute_result"
    },
    {
     "data": {
      "text/plain": [
       "KMeans(algorithm='auto', copy_x=True, init='k-means++', max_iter=300,\n",
       "    n_clusters=17, n_init=10, n_jobs=1, precompute_distances='auto',\n",
       "    random_state=0, tol=0.0001, verbose=0)"
      ]
     },
     "execution_count": 82,
     "metadata": {},
     "output_type": "execute_result"
    },
    {
     "data": {
      "text/plain": [
       "KMeans(algorithm='auto', copy_x=True, init='k-means++', max_iter=300,\n",
       "    n_clusters=18, n_init=10, n_jobs=1, precompute_distances='auto',\n",
       "    random_state=0, tol=0.0001, verbose=0)"
      ]
     },
     "execution_count": 82,
     "metadata": {},
     "output_type": "execute_result"
    },
    {
     "data": {
      "text/plain": [
       "KMeans(algorithm='auto', copy_x=True, init='k-means++', max_iter=300,\n",
       "    n_clusters=19, n_init=10, n_jobs=1, precompute_distances='auto',\n",
       "    random_state=0, tol=0.0001, verbose=0)"
      ]
     },
     "execution_count": 82,
     "metadata": {},
     "output_type": "execute_result"
    }
   ],
   "source": [
    "from sklearn.cluster import KMeans\n",
    "\n",
    "avg_cluster_dist = []\n",
    "n_clusters = []\n",
    "\n",
    "for n in range(2, 20):\n",
    "    kmeans = KMeans(n, random_state=0)\n",
    "    kmeans.fit(X_pca_min)  \n",
    "    \n",
    "    # Calculate the sqrt of the average of the squared distance\n",
    "    dist_ = np.sqrt(kmeans.inertia_ / len(X_pca_min))\n",
    "    \n",
    "    n_clusters.append(n)\n",
    "    avg_cluster_dist.append(dist_)"
   ]
  },
  {
   "cell_type": "code",
   "execution_count": 83,
   "metadata": {},
   "outputs": [
    {
     "data": {
      "text/plain": [
       "[<matplotlib.lines.Line2D at 0x7fb55dc3aef0>]"
      ]
     },
     "execution_count": 83,
     "metadata": {},
     "output_type": "execute_result"
    },
    {
     "data": {
      "text/plain": [
       "Text(0.5,0,'Number of clusters')"
      ]
     },
     "execution_count": 83,
     "metadata": {},
     "output_type": "execute_result"
    },
    {
     "data": {
      "text/plain": [
       "Text(0,0.5,'Average distance to cluster centers')"
      ]
     },
     "execution_count": 83,
     "metadata": {},
     "output_type": "execute_result"
    },
    {
     "data": {
      "text/plain": [
       "([<matplotlib.axis.XTick at 0x7fb55dca4400>,\n",
       "  <matplotlib.axis.XTick at 0x7fb55dc9ecf8>,\n",
       "  <matplotlib.axis.XTick at 0x7fb55dc9ea58>,\n",
       "  <matplotlib.axis.XTick at 0x7fb55dc427b8>,\n",
       "  <matplotlib.axis.XTick at 0x7fb55dc42c88>,\n",
       "  <matplotlib.axis.XTick at 0x7fb55dc4c198>,\n",
       "  <matplotlib.axis.XTick at 0x7fb55dc4c6a0>,\n",
       "  <matplotlib.axis.XTick at 0x7fb55dc4cba8>,\n",
       "  <matplotlib.axis.XTick at 0x7fb55dc52160>,\n",
       "  <matplotlib.axis.XTick at 0x7fb55dc525f8>,\n",
       "  <matplotlib.axis.XTick at 0x7fb55dc52b00>,\n",
       "  <matplotlib.axis.XTick at 0x7fb55dc52470>,\n",
       "  <matplotlib.axis.XTick at 0x7fb55dc4c780>,\n",
       "  <matplotlib.axis.XTick at 0x7fb55dc42b00>,\n",
       "  <matplotlib.axis.XTick at 0x7fb55dc5b518>,\n",
       "  <matplotlib.axis.XTick at 0x7fb55dc5b9e8>,\n",
       "  <matplotlib.axis.XTick at 0x7fb55dc5beb8>,\n",
       "  <matplotlib.axis.XTick at 0x7fb55dc643c8>],\n",
       " <a list of 18 Text xticklabel objects>)"
      ]
     },
     "execution_count": 83,
     "metadata": {},
     "output_type": "execute_result"
    },
    {
     "data": {
      "image/png": "[encoded data removed]",
      "text/plain": [
       "<Figure size 432x288 with 1 Axes>"
      ]
     },
     "metadata": {
      "image/png": {
       "height": 263,
       "width": 393
      }
     },
     "output_type": "display_data"
    }
   ],
   "source": [
    "# Investigate the change in within-cluster distance across number of clusters.\n",
    "# HINT: Use matplotlib's plot function to visualize this relationship.\n",
    "\n",
    "plt.plot(n_clusters, avg_cluster_dist)\n",
    "plt.xlabel(\"Number of clusters\")\n",
    "plt.ylabel(\"Average distance to cluster centers\")\n",
    "plt.xticks(n_clusters)\n",
    "plt.show()\n"
   ]
  },
  {
   "cell_type": "code",
   "execution_count": 84,
   "metadata": {},
   "outputs": [
    {
     "data": {
      "text/plain": [
       "[11.826876552564222,\n",
       " 11.588161034730017,\n",
       " 11.430810200218435,\n",
       " 11.297788189369633,\n",
       " 11.208853422898267,\n",
       " 11.134533655504763,\n",
       " 11.07839277189697,\n",
       " 11.00094183111609,\n",
       " 10.951199426436013,\n",
       " 10.916172993189823,\n",
       " 10.882412540436473,\n",
       " 10.840247399035025,\n",
       " 10.803252618997364,\n",
       " 10.760270328858574,\n",
       " 10.738689256914444,\n",
       " 10.710930016549185,\n",
       " 10.67883802023105,\n",
       " 10.632628701765155]"
      ]
     },
     "execution_count": 84,
     "metadata": {},
     "output_type": "execute_result"
    }
   ],
   "source": [
    "avg_cluster_dist"
   ]
  },
  {
   "cell_type": "code",
   "execution_count": 85,
   "metadata": {},
   "outputs": [
    {
     "data": {
      "text/plain": [
       "array([-0.23871552, -0.15735083, -0.13302201, -0.08893477, -0.07431977,\n",
       "       -0.05614088, -0.07745094, -0.0497424 , -0.03502643, -0.03376045,\n",
       "       -0.04216514, -0.03699478, -0.04298229, -0.02158107, -0.02775924,\n",
       "       -0.032092  , -0.04620932])"
      ]
     },
     "execution_count": 85,
     "metadata": {},
     "output_type": "execute_result"
    }
   ],
   "source": [
    "# Calculate the drop between successive KMeans with additional clusters\n",
    "np.diff(avg_cluster_dist)"
   ]
  },
  {
   "cell_type": "code",
   "execution_count": 91,
   "metadata": {},
   "outputs": [],
   "source": [
    "# n_clusters = 10 seems to hit a low point, diff = -0.0497424"
   ]
  },
  {
   "cell_type": "code",
   "execution_count": 170,
   "metadata": {},
   "outputs": [],
   "source": [
    "# Re-fit the k-means model with the selected number of clusters and obtain\n",
    "# cluster predictions for the general population demographics data.\n",
    "\n",
    "kmeans_final = KMeans(n_clusters=10, random_state=0)\n",
    "pred_general = kmeans_final.fit_predict(X_pca_min)"
   ]
  },
  {
   "cell_type": "markdown",
   "metadata": {},
   "source": [
    "### Discussion 3.1: Apply Clustering to General Population\n",
    "\n",
    "Based on visualization, n_clusters = 14 appears to be a good point to stop since the improvement slows down after that point"
   ]
  },
  {
   "cell_type": "markdown",
   "metadata": {},
   "source": [
    "### Step 3.2: Apply All Steps to the Customer Data\n",
    "\n",
    "Now that you have clusters and cluster centers for the general population, it's time to see how the customer data maps on to those clusters. Take care to not confuse this for re-fitting all of the models to the customer data. Instead, you're going to use the fits from the general population to clean, transform, and cluster the customer data. In the last step of the project, you will interpret how the general population fits apply to the customer data.\n",
    "\n",
    "- Don't forget when loading in the customers data, that it is semicolon (`;`) delimited.\n",
    "- Apply the same feature wrangling, selection, and engineering steps to the customer demographics using the `clean_data()` function you created earlier. (You can assume that the customer demographics data has similar meaning behind missing data patterns as the general demographics data.)\n",
    "- Use the sklearn objects from the general demographics data, and apply their transformations to the customers data. That is, you should not be using a `.fit()` or `.fit_transform()` method to re-fit the old objects, nor should you be creating new sklearn objects! Carry the data through the feature scaling, PCA, and clustering steps, obtaining cluster assignments for all of the data in the customer demographics data."
   ]
  },
  {
   "cell_type": "code",
   "execution_count": 107,
   "metadata": {},
   "outputs": [],
   "source": [
    "# Load in the customer demographics data.\n",
    "customers = pd.read_csv('./Udacity_CUSTOMERS_Subset.csv', sep=';')"
   ]
  },
  {
   "cell_type": "code",
   "execution_count": 172,
   "metadata": {},
   "outputs": [],
   "source": [
    "# Apply preprocessing, feature transformation, and clustering from the general\n",
    "# demographics onto the customer data, obtaining cluster predictions for the\n",
    "# customer demographics data.\n",
    "customer_clean = clean_data(customers)\n",
    "\n",
    "# Deal with missing columns due to customer data set not having all of the levels for some categorical variables\n",
    "missing_cols = set(azdias_clean.columns) - set(customer_clean.columns)\n",
    "for c in missing_cols:\n",
    "    customer_clean[c] = 0.0\n",
    "customer_scaled = scaler.transform(customer_clean)\n",
    "customer_pca = pca_min.transform(customer_scaled)\n",
    "pred_customer = kmeans_final.predict(customer_pca)"
   ]
  },
  {
   "cell_type": "markdown",
   "metadata": {},
   "source": [
    "### Step 3.3: Compare Customer Data to Demographics Data\n",
    "\n",
    "At this point, you have clustered data based on demographics of the general population of Germany, and seen how the customer data for a mail-order sales company maps onto those demographic clusters. In this final substep, you will compare the two cluster distributions to see where the strongest customer base for the company is.\n",
    "\n",
    "Consider the proportion of persons in each cluster for the general population, and the proportions for the customers. If we think the company's customer base to be universal, then the cluster assignment proportions should be fairly similar between the two. If there are only particular segments of the population that are interested in the company's products, then we should see a mismatch from one to the other. If there is a higher proportion of persons in a cluster for the customer data compared to the general population (e.g. 5% of persons are assigned to a cluster for the general population, but 15% of the customer data is closest to that cluster's centroid) then that suggests the people in that cluster to be a target audience for the company. On the other hand, the proportion of the data in a cluster being larger in the general population than the customer data (e.g. only 2% of customers closest to a population centroid that captures 6% of the data) suggests that group of persons to be outside of the target demographics.\n",
    "\n",
    "Take a look at the following points in this step:\n",
    "\n",
    "- Compute the proportion of data points in each cluster for the general population and the customer data. Visualizations will be useful here: both for the individual dataset proportions, but also to visualize the ratios in cluster representation between groups. Seaborn's [`countplot()`](https://seaborn.pydata.org/generated/seaborn.countplot.html) or [`barplot()`](https://seaborn.pydata.org/generated/seaborn.barplot.html) function could be handy.\n",
    "  - Recall the analysis you performed in step 1.1.3 of the project, where you separated out certain data points from the dataset if they had more than a specified threshold of missing values. If you found that this group was qualitatively different from the main bulk of the data, you should treat this as an additional data cluster in this analysis. Make sure that you account for the number of data points in this subset, for both the general population and customer datasets, when making your computations!\n",
    "- Which cluster or clusters are overrepresented in the customer dataset compared to the general population? Select at least one such cluster and infer what kind of people might be represented by that cluster. Use the principal component interpretations from step 2.3 or look at additional components to help you make this inference. Alternatively, you can use the `.inverse_transform()` method of the PCA and StandardScaler objects to transform centroids back to the original data space and interpret the retrieved values directly.\n",
    "- Perform a similar investigation for the underrepresented clusters. Which cluster or clusters are underrepresented in the customer dataset compared to the general population, and what kinds of people are typified by these clusters?"
   ]
  },
  {
   "cell_type": "code",
   "execution_count": 179,
   "metadata": {},
   "outputs": [],
   "source": [
    "# Compare the proportion of data in each cluster for the customer data to the\n",
    "# proportion of data in each cluster for the general population.\n",
    "\n",
    "# Count the number of rows with each label\n",
    "bincnt_general = np.bincount(pred_general)\n",
    "bincnt_customer= np.bincount(pred_customer, minlength=np.max(pred_general) + 1)\n",
    "\n",
    "# Count the number of rows from the raw data that is missing from the final clustering\n",
    "n_missing_general = len(azdias) - len(pred_general)\n",
    "n_missing_customer = len(customers) - len(pred_customer)\n",
    "\n",
    "# Treat the missing rows as another cluster\n",
    "bincnt_general = np.append(bincnt_general, [n_missing_general])\n",
    "bincnt_customer = np.append(bincnt_customer, [n_missing_customer])\n",
    "\n",
    "# Normalize the count for general and customer\n",
    "\n",
    "pct_general = bincnt_general / sum(bincnt_general)\n",
    "pct_customer = bincnt_customer / sum(bincnt_customer)\n",
    "\n",
    "clusters = [str(x) for x in range(len(pct_general)-1)] + ['Removed']"
   ]
  },
  {
   "cell_type": "code",
   "execution_count": 180,
   "metadata": {},
   "outputs": [
    {
     "data": {
      "text/plain": [
       "<matplotlib.axes._subplots.AxesSubplot at 0x7fb5afe6f898>"
      ]
     },
     "execution_count": 180,
     "metadata": {},
     "output_type": "execute_result"
    },
    {
     "data": {
      "image/png": "[encoded data removed]",
      "text/plain": [
       "<Figure size 432x288 with 1 Axes>"
      ]
     },
     "metadata": {
      "image/png": {
       "height": 250,
       "width": 380
      }
     },
     "output_type": "display_data"
    }
   ],
   "source": [
    "# Plot with seaborn barplot\n",
    "\n",
    "sns.barplot(x=clusters * 2, \n",
    "            hue=['general'] * len(pct_general) + ['customer'] * len(pct_customer),\n",
    "            y= np.concatenate([pct_general, pct_customer]),\n",
    "            order=clusters\n",
    "           )"
   ]
  },
  {
   "cell_type": "code",
   "execution_count": 175,
   "metadata": {},
   "outputs": [],
   "source": [
    "# What kinds of people are part of a cluster that is overrepresented in the\n",
    "# customer data compared to the general population?\n",
    "\n",
    "customer_cluster_relative = pct_customer / pct_general \n",
    "cluster_over = np.argmax(customer_cluster_relative)"
   ]
  },
  {
   "cell_type": "code",
   "execution_count": 176,
   "metadata": {},
   "outputs": [
    {
     "data": {
      "text/plain": [
       "2"
      ]
     },
     "execution_count": 176,
     "metadata": {},
     "output_type": "execute_result"
    }
   ],
   "source": [
    "cluster_over"
   ]
  },
  {
   "cell_type": "markdown",
   "metadata": {},
   "source": [
    "Cluster 2 is the only one represented in the customer file"
   ]
  },
  {
   "cell_type": "code",
   "execution_count": null,
   "metadata": {},
   "outputs": [],
   "source": [
    "# What kinds of people are part of a cluster that is underrepresented in the\n",
    "# customer data compared to the general population?"
   ]
  },
  {
   "cell_type": "markdown",
   "metadata": {},
   "source": [
    "Customer file does not contain other clusters"
   ]
  },
  {
   "cell_type": "code",
   "execution_count": 181,
   "metadata": {},
   "outputs": [],
   "source": [
    "# Re-create the over-represented cluster center\n",
    "cluster_center = kmeans_final.cluster_centers_[cluster_over]\n",
    "cluster_center = pca_min.inverse_transform(cluster_center)\n",
    "cluster_center = scaler.inverse_transform(cluster_center)"
   ]
  },
  {
   "cell_type": "code",
   "execution_count": 182,
   "metadata": {},
   "outputs": [
    {
     "name": "stdout",
     "output_type": "stream",
     "text": [
      "ALTERSKATEGORIE_GROB:3.56\n",
      "ANREDE_KZ:1.96\n",
      "FINANZ_MINIMALIST:2.46\n",
      "FINANZ_SPARER:1.97\n",
      "FINANZ_VORSORGER:4.19\n",
      "FINANZ_ANLEGER:2.24\n",
      "FINANZ_UNAUFFAELLIGER:1.73\n",
      "FINANZ_HAUSBAUER:4.23\n",
      "GREEN_AVANTGARDE:0.07\n",
      "HEALTH_TYP:2.05\n",
      "RETOURTYP_BK_S:4.11\n",
      "SEMIO_SOZ:3.04\n",
      "SEMIO_FAM:2.16\n",
      "SEMIO_REL:1.88\n",
      "SEMIO_MAT:2.54\n",
      "SEMIO_VERT:2.71\n",
      "SEMIO_LUST:5.30\n",
      "SEMIO_ERL:6.54\n",
      "SEMIO_KULT:1.89\n",
      "SEMIO_RAT:3.33\n",
      "SEMIO_KRIT:5.98\n",
      "SEMIO_DOM:5.97\n",
      "SEMIO_KAEM:6.20\n",
      "SEMIO_PFLICHT:2.74\n",
      "SEMIO_TRADV:2.33\n",
      "SOHO_KZ:0.01\n",
      "VERS_TYP:1.59\n",
      "ANZ_PERSONEN:1.47\n",
      "ANZ_TITEL:0.00\n",
      "HH_EINKOMMEN_SCORE:5.50\n",
      "W_KEIT_KIND_HH:4.75\n",
      "WOHNDAUER_2008:8.16\n",
      "ANZ_HAUSHALTE_AKTIV:16.52\n",
      "ANZ_HH_TITEL:0.10\n",
      "KONSUMNAEHE:2.16\n",
      "MIN_GEBAEUDEJAHR:1992.37\n",
      "WOHNLAGE:3.29\n",
      "KBA05_ANTG1:0.39\n",
      "KBA05_ANTG2:1.22\n",
      "KBA05_ANTG3:1.17\n",
      "KBA05_ANTG4:0.66\n",
      "KBA05_GBZ:2.07\n",
      "BALLRAUM:3.07\n",
      "EWDICHTE:5.24\n",
      "INNENSTADT:3.28\n",
      "GEBAEUDETYP_RASTER:3.44\n",
      "KKK:2.89\n",
      "MOBI_REGIO:1.76\n",
      "ONLINE_AFFINITAET:1.72\n",
      "REGIOTYP:4.97\n",
      "KBA13_ANZAHL_PKW:516.25\n",
      "PLZ8_ANTG1:1.45\n",
      "PLZ8_ANTG2:3.33\n",
      "PLZ8_ANTG3:2.43\n",
      "PLZ8_ANTG4:1.29\n",
      "PLZ8_BAUMAX:3.06\n",
      "PLZ8_HHZ:3.71\n",
      "PLZ8_GBZ:2.64\n",
      "ARBEIT:3.67\n",
      "ORTSGR_KLS9:7.04\n",
      "RELAT_AB:3.72\n",
      "LP_FAMILIE_GROB_2.0:0.13\n",
      "LP_FAMILIE_GROB_3.0:0.02\n",
      "LP_FAMILIE_GROB_4.0:0.01\n",
      "LP_FAMILIE_GROB_5.0:0.16\n",
      "LP_STATUS_GROB_2.0:0.21\n",
      "LP_STATUS_GROB_3.0:0.02\n",
      "LP_STATUS_GROB_4.0:0.04\n",
      "LP_STATUS_GROB_5.0:0.02\n",
      "FINANZTYP_2.0:0.14\n",
      "FINANZTYP_3.0:-0.01\n",
      "FINANZTYP_4.0:-0.02\n",
      "FINANZTYP_5.0:0.18\n",
      "FINANZTYP_6.0:0.52\n",
      "OST_WEST_KZ_W:0.71\n",
      "GEBAEUDETYP_3.0:0.30\n",
      "GEBAEUDETYP_5.0:0.00\n",
      "GEBAEUDETYP_8.0:0.25\n",
      "SHOPPER_TYP_1.0:0.22\n",
      "SHOPPER_TYP_2.0:0.32\n",
      "SHOPPER_TYP_3.0:0.47\n",
      "GFK_URLAUBERTYP_2.0:0.01\n",
      "GFK_URLAUBERTYP_3.0:0.10\n",
      "GFK_URLAUBERTYP_4.0:0.16\n",
      "GFK_URLAUBERTYP_5.0:0.10\n",
      "GFK_URLAUBERTYP_6.0:0.03\n",
      "GFK_URLAUBERTYP_7.0:0.04\n",
      "GFK_URLAUBERTYP_8.0:0.15\n",
      "GFK_URLAUBERTYP_9.0:0.03\n",
      "GFK_URLAUBERTYP_10.0:0.15\n",
      "GFK_URLAUBERTYP_11.0:0.10\n",
      "GFK_URLAUBERTYP_12.0:0.11\n",
      "ZABEOTYP_2.0:0.01\n",
      "ZABEOTYP_3.0:0.80\n",
      "ZABEOTYP_4.0:0.15\n",
      "ZABEOTYP_5.0:0.04\n",
      "ZABEOTYP_6.0:0.09\n",
      "CJT_GESAMTTYP_2.0:0.30\n",
      "CJT_GESAMTTYP_3.0:0.14\n",
      "CJT_GESAMTTYP_4.0:0.23\n",
      "CJT_GESAMTTYP_5.0:0.11\n",
      "CJT_GESAMTTYP_6.0:0.04\n",
      "NATIONALITAET_KZ_2.0:0.05\n",
      "NATIONALITAET_KZ_3.0:0.02\n",
      "CAMEO_DEUG_2015_2:0.01\n",
      "CAMEO_DEUG_2015_3:0.02\n",
      "CAMEO_DEUG_2015_4:0.02\n",
      "CAMEO_DEUG_2015_5:0.06\n",
      "CAMEO_DEUG_2015_6:0.15\n",
      "CAMEO_DEUG_2015_7:0.14\n",
      "CAMEO_DEUG_2015_8:0.37\n",
      "CAMEO_DEUG_2015_9:0.24\n",
      "LP_FAMILIE_FEIN_2.0:0.13\n",
      "LP_FAMILIE_FEIN_3.0:0.00\n",
      "LP_FAMILIE_FEIN_4.0:0.01\n",
      "LP_FAMILIE_FEIN_5.0:0.01\n",
      "LP_FAMILIE_FEIN_6.0:0.00\n",
      "LP_FAMILIE_FEIN_7.0:0.01\n",
      "LP_FAMILIE_FEIN_8.0:0.01\n",
      "LP_FAMILIE_FEIN_9.0:0.01\n",
      "LP_FAMILIE_FEIN_10.0:0.13\n",
      "LP_FAMILIE_FEIN_11.0:0.02\n",
      "LP_STATUS_FEIN_2.0:0.11\n",
      "LP_STATUS_FEIN_3.0:0.15\n",
      "LP_STATUS_FEIN_4.0:0.05\n",
      "LP_STATUS_FEIN_5.0:0.01\n",
      "LP_STATUS_FEIN_6.0:0.01\n",
      "LP_STATUS_FEIN_7.0:0.00\n",
      "LP_STATUS_FEIN_8.0:0.01\n",
      "LP_STATUS_FEIN_9.0:0.03\n",
      "LP_STATUS_FEIN_10.0:0.02\n",
      "CAMEO_DEU_2015_1B:0.00\n",
      "CAMEO_DEU_2015_1C:0.00\n",
      "CAMEO_DEU_2015_1D:-0.00\n",
      "CAMEO_DEU_2015_1E:0.00\n",
      "CAMEO_DEU_2015_2A:-0.00\n",
      "CAMEO_DEU_2015_2B:0.00\n",
      "CAMEO_DEU_2015_2C:0.00\n",
      "CAMEO_DEU_2015_2D:0.00\n",
      "CAMEO_DEU_2015_3A:0.00\n",
      "CAMEO_DEU_2015_3B:-0.00\n",
      "CAMEO_DEU_2015_3C:0.00\n",
      "CAMEO_DEU_2015_3D:0.01\n",
      "CAMEO_DEU_2015_4A:0.00\n",
      "CAMEO_DEU_2015_4B:-0.00\n",
      "CAMEO_DEU_2015_4C:0.01\n",
      "CAMEO_DEU_2015_4D:0.00\n",
      "CAMEO_DEU_2015_4E:0.01\n",
      "CAMEO_DEU_2015_5A:0.01\n",
      "CAMEO_DEU_2015_5B:0.01\n",
      "CAMEO_DEU_2015_5C:0.01\n",
      "CAMEO_DEU_2015_5D:0.02\n",
      "CAMEO_DEU_2015_5E:0.00\n",
      "CAMEO_DEU_2015_5F:0.00\n",
      "CAMEO_DEU_2015_6A:0.01\n",
      "CAMEO_DEU_2015_6B:0.05\n",
      "CAMEO_DEU_2015_6C:0.02\n",
      "CAMEO_DEU_2015_6D:0.01\n",
      "CAMEO_DEU_2015_6E:0.05\n",
      "CAMEO_DEU_2015_6F:0.01\n",
      "CAMEO_DEU_2015_7A:0.05\n",
      "CAMEO_DEU_2015_7B:0.04\n",
      "CAMEO_DEU_2015_7C:0.03\n",
      "CAMEO_DEU_2015_7D:0.01\n",
      "CAMEO_DEU_2015_7E:0.01\n",
      "CAMEO_DEU_2015_8A:0.14\n",
      "CAMEO_DEU_2015_8B:0.07\n",
      "CAMEO_DEU_2015_8C:0.09\n",
      "CAMEO_DEU_2015_8D:0.07\n",
      "CAMEO_DEU_2015_9A:0.04\n",
      "CAMEO_DEU_2015_9B:0.06\n",
      "CAMEO_DEU_2015_9C:0.04\n",
      "CAMEO_DEU_2015_9D:0.07\n",
      "CAMEO_DEU_2015_9E:0.03\n",
      "PRAEGENDE_JUGENDJAHRE_decade:64.06\n",
      "PRAEGENDE_JUGENDJAHRE_movement:0.07\n",
      "CAMEO_INTL_2015_wealth:4.38\n",
      "CAMEO_INTL_2015_life_stage:2.55\n"
     ]
    }
   ],
   "source": [
    "for (col, val) in zip(azdias_clean.columns, cluster_center):\n",
    "    print(f\"{col}:{val:.2f}\")"
   ]
  },
  {
   "cell_type": "markdown",
   "metadata": {},
   "source": [
    "### Discussion 3.3: Compare Customer Data to Demographics Data\n",
    "Based on the cluster analysis, the mail-order customer contains only one cluster, with the following characteristics\n",
    "\n",
    "* Mostly Women: ANREDE_KZ close to 2\n",
    "* Less affluent households with school age children: CAMEO_INTL_2015 ~ 43\n",
    "* Working class: CAMEO_DEBUG_2015 higher on 8 and 9 \n",
    "* Former West Germany: OST_WEST_KZ_W 0.71\n",
    "* Average neighborhood: WOHNLAGE 3.29"
   ]
  },
  {
   "cell_type": "markdown",
   "metadata": {},
   "source": [
    "> Congratulations on making it this far in the project! Before you finish, make sure to check through the entire notebook from top to bottom to make sure that your analysis follows a logical flow and all of your findings are documented in **Discussion** cells. Once you've checked over all of your work, you should export the notebook as an HTML document to submit for evaluation. You can do this from the menu, navigating to **File -> Download as -> HTML (.html)**. You will submit both that document and this notebook for your project submission."
   ]
  },
  {
   "cell_type": "code",
   "execution_count": null,
   "metadata": {},
   "outputs": [],
   "source": []
  }
 ],
 "metadata": {
  "kernelspec": {
   "display_name": "Python 3",
   "language": "python",
   "name": "python3"
  },
  "language_info": {
   "codemirror_mode": {
    "name": "ipython",
    "version": 3
   },
   "file_extension": ".py",
   "mimetype": "text/x-python",
   "name": "python",
   "nbconvert_exporter": "python",
   "pygments_lexer": "ipython3",
   "version": "3.6.3"
  }
 },
 "nbformat": 4,
 "nbformat_minor": 2
}
